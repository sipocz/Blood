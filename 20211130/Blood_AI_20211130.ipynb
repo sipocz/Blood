{
 "cells": [
  {
   "cell_type": "markdown",
   "metadata": {
    "colab_type": "text",
    "id": "view-in-github"
   },
   "source": [
    "<a href=\"https://colab.research.google.com/github/sipocz/Blood/blob/main/Blood_AI.ipynb\" target=\"_parent\"><img src=\"https://colab.research.google.com/assets/colab-badge.svg\" alt=\"Open In Colab\"/></a>"
   ]
  },
  {
   "cell_type": "code",
   "execution_count": 4,
   "metadata": {
    "id": "601BzKTbnvCK"
   },
   "outputs": [],
   "source": [
    "import pandas as pd\n",
    "\n",
    "from sklearn.preprocessing import MinMaxScaler"
   ]
  },
  {
   "cell_type": "code",
   "execution_count": 5,
   "metadata": {
    "id": "UjLT9ydrlJi0"
   },
   "outputs": [],
   "source": [
    "fname_url=\"https://github.com/sipocz/Blood/raw/b5fc44c487b0a712d00865014203349fb8690257/orig/train.zip\"\n",
    "fname=fname_url.split(\"/\")[-1]"
   ]
  },
  {
   "cell_type": "code",
   "execution_count": null,
   "metadata": {
    "id": "EhyXF-D3lf6m"
   },
   "outputs": [],
   "source": []
  },
  {
   "cell_type": "code",
   "execution_count": 6,
   "metadata": {
    "colab": {
     "base_uri": "https://localhost:8080/"
    },
    "id": "9UnhqQYAlOxX",
    "outputId": "d6650e57-6f66-4875-d574-ca331ed12d4b"
   },
   "outputs": [
    {
     "name": "stdout",
     "output_type": "stream",
     "text": [
      "--2021-11-30 17:35:57--  https://github.com/sipocz/Blood/raw/b5fc44c487b0a712d00865014203349fb8690257/orig/train.zip\n",
      "Resolving github.com (github.com)... 140.82.121.3\n",
      "Connecting to github.com (github.com)|140.82.121.3|:443... connected.\n",
      "HTTP request sent, awaiting response... 302 Found\n",
      "Location: https://raw.githubusercontent.com/sipocz/Blood/b5fc44c487b0a712d00865014203349fb8690257/orig/train.zip [following]\n",
      "--2021-11-30 17:35:57--  https://raw.githubusercontent.com/sipocz/Blood/b5fc44c487b0a712d00865014203349fb8690257/orig/train.zip\n",
      "Resolving raw.githubusercontent.com (raw.githubusercontent.com)... 185.199.108.133, 185.199.111.133, 185.199.110.133, ...\n",
      "Connecting to raw.githubusercontent.com (raw.githubusercontent.com)|185.199.108.133|:443... connected.\n",
      "HTTP request sent, awaiting response... 200 OK\n",
      "Length: 16979362 (16M) [application/zip]\n",
      "Saving to: ‘train.zip’\n",
      "\n",
      "train.zip           100%[===================>]  16,19M  10,5MB/s    in 1,5s    \n",
      "\n",
      "2021-11-30 17:36:00 (10,5 MB/s) - ‘train.zip’ saved [16979362/16979362]\n",
      "\n"
     ]
    }
   ],
   "source": [
    "!wget $fname_url\n"
   ]
  },
  {
   "cell_type": "code",
   "execution_count": 7,
   "metadata": {
    "colab": {
     "base_uri": "https://localhost:8080/"
    },
    "id": "-Gw9lljVmT2X",
    "outputId": "1639c34d-c3fd-4520-cf93-4325b34c3f14"
   },
   "outputs": [
    {
     "name": "stdout",
     "output_type": "stream",
     "text": [
      "mkdir: cannot create directory ‘train’: File exists\n"
     ]
    }
   ],
   "source": [
    "!mkdir \"train\"\n",
    "!rm ./train/Train.csv"
   ]
  },
  {
   "cell_type": "code",
   "execution_count": 8,
   "metadata": {
    "colab": {
     "base_uri": "https://localhost:8080/"
    },
    "id": "dOYlA2DxlvRZ",
    "outputId": "6ff63641-17a6-4f99-8ca8-147975682e9c"
   },
   "outputs": [
    {
     "name": "stdout",
     "output_type": "stream",
     "text": [
      "Archive:  train.zip\n",
      "  inflating: ./train/Train.csv       \n"
     ]
    }
   ],
   "source": [
    "!unzip $fname -d \"./train\"\n",
    "!rm train.zip"
   ]
  },
  {
   "cell_type": "code",
   "execution_count": 9,
   "metadata": {
    "id": "WMFGVAucnS0z"
   },
   "outputs": [],
   "source": [
    "fname_train=\"./train/Train.csv\"\n",
    "df=pd.read_csv(fname_train)"
   ]
  },
  {
   "cell_type": "code",
   "execution_count": 10,
   "metadata": {
    "colab": {
     "base_uri": "https://localhost:8080/",
     "height": 873
    },
    "id": "hhI8V3Q_n29O",
    "outputId": "cbf443b1-cc2e-4f3f-ed38-bede1234ed0c"
   },
   "outputs": [
    {
     "data": {
      "text/html": [
       "<div>\n",
       "<style scoped>\n",
       "    .dataframe tbody tr th:only-of-type {\n",
       "        vertical-align: middle;\n",
       "    }\n",
       "\n",
       "    .dataframe tbody tr th {\n",
       "        vertical-align: top;\n",
       "    }\n",
       "\n",
       "    .dataframe thead th {\n",
       "        text-align: right;\n",
       "    }\n",
       "</style>\n",
       "<table border=\"1\" class=\"dataframe\">\n",
       "  <thead>\n",
       "    <tr style=\"text-align: right;\">\n",
       "      <th></th>\n",
       "      <th>Reading_ID</th>\n",
       "      <th>absorbance0</th>\n",
       "      <th>absorbance1</th>\n",
       "      <th>absorbance2</th>\n",
       "      <th>absorbance3</th>\n",
       "      <th>absorbance4</th>\n",
       "      <th>absorbance5</th>\n",
       "      <th>absorbance6</th>\n",
       "      <th>absorbance7</th>\n",
       "      <th>absorbance8</th>\n",
       "      <th>...</th>\n",
       "      <th>absorbance165</th>\n",
       "      <th>absorbance166</th>\n",
       "      <th>absorbance167</th>\n",
       "      <th>absorbance168</th>\n",
       "      <th>absorbance169</th>\n",
       "      <th>temperature</th>\n",
       "      <th>humidity</th>\n",
       "      <th>hdl_cholesterol_human</th>\n",
       "      <th>hemoglobin(hgb)_human</th>\n",
       "      <th>cholesterol_ldl_human</th>\n",
       "    </tr>\n",
       "  </thead>\n",
       "  <tbody>\n",
       "    <tr>\n",
       "      <th>0</th>\n",
       "      <td>ID_3SSHI56C</td>\n",
       "      <td>0.479669</td>\n",
       "      <td>0.477423</td>\n",
       "      <td>0.487956</td>\n",
       "      <td>0.491831</td>\n",
       "      <td>0.500516</td>\n",
       "      <td>0.502590</td>\n",
       "      <td>0.511561</td>\n",
       "      <td>0.514639</td>\n",
       "      <td>0.524245</td>\n",
       "      <td>...</td>\n",
       "      <td>1.218660</td>\n",
       "      <td>1.213038</td>\n",
       "      <td>1.198317</td>\n",
       "      <td>1.195735</td>\n",
       "      <td>1.180846</td>\n",
       "      <td>42.51</td>\n",
       "      <td>34.01</td>\n",
       "      <td>ok</td>\n",
       "      <td>ok</td>\n",
       "      <td>ok</td>\n",
       "    </tr>\n",
       "    <tr>\n",
       "      <th>1</th>\n",
       "      <td>ID_599OOLZA</td>\n",
       "      <td>0.471537</td>\n",
       "      <td>0.474113</td>\n",
       "      <td>0.479981</td>\n",
       "      <td>0.485528</td>\n",
       "      <td>0.491049</td>\n",
       "      <td>0.497942</td>\n",
       "      <td>0.504760</td>\n",
       "      <td>0.510543</td>\n",
       "      <td>0.522328</td>\n",
       "      <td>...</td>\n",
       "      <td>1.304501</td>\n",
       "      <td>1.323005</td>\n",
       "      <td>1.305992</td>\n",
       "      <td>1.263887</td>\n",
       "      <td>1.262095</td>\n",
       "      <td>44.52</td>\n",
       "      <td>32.09</td>\n",
       "      <td>ok</td>\n",
       "      <td>high</td>\n",
       "      <td>high</td>\n",
       "    </tr>\n",
       "    <tr>\n",
       "      <th>2</th>\n",
       "      <td>ID_MVJGPQ75</td>\n",
       "      <td>0.444998</td>\n",
       "      <td>0.458034</td>\n",
       "      <td>0.447386</td>\n",
       "      <td>0.456921</td>\n",
       "      <td>0.463225</td>\n",
       "      <td>0.475983</td>\n",
       "      <td>0.476817</td>\n",
       "      <td>0.481565</td>\n",
       "      <td>0.490010</td>\n",
       "      <td>...</td>\n",
       "      <td>1.325059</td>\n",
       "      <td>1.271115</td>\n",
       "      <td>1.337119</td>\n",
       "      <td>1.289877</td>\n",
       "      <td>1.345229</td>\n",
       "      <td>45.77</td>\n",
       "      <td>24.80</td>\n",
       "      <td>ok</td>\n",
       "      <td>ok</td>\n",
       "      <td>high</td>\n",
       "    </tr>\n",
       "    <tr>\n",
       "      <th>3</th>\n",
       "      <td>ID_CK6RF8YV</td>\n",
       "      <td>0.513434</td>\n",
       "      <td>0.513303</td>\n",
       "      <td>0.522609</td>\n",
       "      <td>0.521068</td>\n",
       "      <td>0.523146</td>\n",
       "      <td>0.530132</td>\n",
       "      <td>0.539517</td>\n",
       "      <td>0.546364</td>\n",
       "      <td>0.552414</td>\n",
       "      <td>...</td>\n",
       "      <td>1.298422</td>\n",
       "      <td>1.299873</td>\n",
       "      <td>1.311157</td>\n",
       "      <td>1.303259</td>\n",
       "      <td>1.349833</td>\n",
       "      <td>45.84</td>\n",
       "      <td>36.93</td>\n",
       "      <td>low</td>\n",
       "      <td>ok</td>\n",
       "      <td>high</td>\n",
       "    </tr>\n",
       "    <tr>\n",
       "      <th>4</th>\n",
       "      <td>ID_82N6QE6I</td>\n",
       "      <td>0.510485</td>\n",
       "      <td>0.519359</td>\n",
       "      <td>0.524225</td>\n",
       "      <td>0.528419</td>\n",
       "      <td>0.535273</td>\n",
       "      <td>0.545342</td>\n",
       "      <td>0.550314</td>\n",
       "      <td>0.557129</td>\n",
       "      <td>0.567030</td>\n",
       "      <td>...</td>\n",
       "      <td>1.272367</td>\n",
       "      <td>1.290032</td>\n",
       "      <td>1.339771</td>\n",
       "      <td>1.322738</td>\n",
       "      <td>1.348964</td>\n",
       "      <td>38.92</td>\n",
       "      <td>23.88</td>\n",
       "      <td>ok</td>\n",
       "      <td>ok</td>\n",
       "      <td>high</td>\n",
       "    </tr>\n",
       "    <tr>\n",
       "      <th>5</th>\n",
       "      <td>ID_3LCCBJVO</td>\n",
       "      <td>0.547021</td>\n",
       "      <td>0.553422</td>\n",
       "      <td>0.563921</td>\n",
       "      <td>0.567715</td>\n",
       "      <td>0.579869</td>\n",
       "      <td>0.590251</td>\n",
       "      <td>0.595393</td>\n",
       "      <td>0.597208</td>\n",
       "      <td>0.604721</td>\n",
       "      <td>...</td>\n",
       "      <td>1.301758</td>\n",
       "      <td>1.273375</td>\n",
       "      <td>1.246971</td>\n",
       "      <td>1.254424</td>\n",
       "      <td>1.288679</td>\n",
       "      <td>43.64</td>\n",
       "      <td>18.85</td>\n",
       "      <td>low</td>\n",
       "      <td>ok</td>\n",
       "      <td>ok</td>\n",
       "    </tr>\n",
       "    <tr>\n",
       "      <th>6</th>\n",
       "      <td>ID_4TK4WAI7</td>\n",
       "      <td>0.517956</td>\n",
       "      <td>0.522156</td>\n",
       "      <td>0.529304</td>\n",
       "      <td>0.544396</td>\n",
       "      <td>0.553598</td>\n",
       "      <td>0.561382</td>\n",
       "      <td>0.564694</td>\n",
       "      <td>0.567961</td>\n",
       "      <td>0.577555</td>\n",
       "      <td>...</td>\n",
       "      <td>1.087181</td>\n",
       "      <td>1.058432</td>\n",
       "      <td>1.058078</td>\n",
       "      <td>1.062706</td>\n",
       "      <td>1.017410</td>\n",
       "      <td>40.82</td>\n",
       "      <td>25.71</td>\n",
       "      <td>ok</td>\n",
       "      <td>ok</td>\n",
       "      <td>high</td>\n",
       "    </tr>\n",
       "    <tr>\n",
       "      <th>7</th>\n",
       "      <td>ID_JH3G89RM</td>\n",
       "      <td>0.497032</td>\n",
       "      <td>0.495025</td>\n",
       "      <td>0.494494</td>\n",
       "      <td>0.503662</td>\n",
       "      <td>0.508607</td>\n",
       "      <td>0.512761</td>\n",
       "      <td>0.518266</td>\n",
       "      <td>0.527049</td>\n",
       "      <td>0.534846</td>\n",
       "      <td>...</td>\n",
       "      <td>1.259352</td>\n",
       "      <td>1.269610</td>\n",
       "      <td>1.242295</td>\n",
       "      <td>1.291084</td>\n",
       "      <td>1.307972</td>\n",
       "      <td>35.61</td>\n",
       "      <td>39.29</td>\n",
       "      <td>ok</td>\n",
       "      <td>ok</td>\n",
       "      <td>high</td>\n",
       "    </tr>\n",
       "    <tr>\n",
       "      <th>8</th>\n",
       "      <td>ID_2PF9JK4O</td>\n",
       "      <td>0.476799</td>\n",
       "      <td>0.481452</td>\n",
       "      <td>0.483358</td>\n",
       "      <td>0.490046</td>\n",
       "      <td>0.491382</td>\n",
       "      <td>0.500921</td>\n",
       "      <td>0.506735</td>\n",
       "      <td>0.512667</td>\n",
       "      <td>0.521872</td>\n",
       "      <td>...</td>\n",
       "      <td>1.193640</td>\n",
       "      <td>1.175582</td>\n",
       "      <td>1.160317</td>\n",
       "      <td>1.177578</td>\n",
       "      <td>1.199889</td>\n",
       "      <td>42.66</td>\n",
       "      <td>36.49</td>\n",
       "      <td>low</td>\n",
       "      <td>ok</td>\n",
       "      <td>high</td>\n",
       "    </tr>\n",
       "    <tr>\n",
       "      <th>9</th>\n",
       "      <td>ID_TG56LKBY</td>\n",
       "      <td>0.501158</td>\n",
       "      <td>0.511572</td>\n",
       "      <td>0.513042</td>\n",
       "      <td>0.520507</td>\n",
       "      <td>0.532246</td>\n",
       "      <td>0.534862</td>\n",
       "      <td>0.538399</td>\n",
       "      <td>0.542913</td>\n",
       "      <td>0.551720</td>\n",
       "      <td>...</td>\n",
       "      <td>1.216975</td>\n",
       "      <td>1.195616</td>\n",
       "      <td>1.176820</td>\n",
       "      <td>1.194605</td>\n",
       "      <td>1.188291</td>\n",
       "      <td>40.51</td>\n",
       "      <td>27.73</td>\n",
       "      <td>ok</td>\n",
       "      <td>ok</td>\n",
       "      <td>high</td>\n",
       "    </tr>\n",
       "    <tr>\n",
       "      <th>10</th>\n",
       "      <td>ID_T1DP1ZHA</td>\n",
       "      <td>0.533322</td>\n",
       "      <td>0.539424</td>\n",
       "      <td>0.545329</td>\n",
       "      <td>0.546416</td>\n",
       "      <td>0.558224</td>\n",
       "      <td>0.561411</td>\n",
       "      <td>0.567811</td>\n",
       "      <td>0.572183</td>\n",
       "      <td>0.581994</td>\n",
       "      <td>...</td>\n",
       "      <td>1.236460</td>\n",
       "      <td>1.244555</td>\n",
       "      <td>1.232450</td>\n",
       "      <td>1.213745</td>\n",
       "      <td>1.269972</td>\n",
       "      <td>40.43</td>\n",
       "      <td>20.83</td>\n",
       "      <td>low</td>\n",
       "      <td>ok</td>\n",
       "      <td>ok</td>\n",
       "    </tr>\n",
       "    <tr>\n",
       "      <th>11</th>\n",
       "      <td>ID_DVGW9AE2</td>\n",
       "      <td>0.506780</td>\n",
       "      <td>0.503185</td>\n",
       "      <td>0.504951</td>\n",
       "      <td>0.509704</td>\n",
       "      <td>0.516427</td>\n",
       "      <td>0.524663</td>\n",
       "      <td>0.532535</td>\n",
       "      <td>0.538796</td>\n",
       "      <td>0.544318</td>\n",
       "      <td>...</td>\n",
       "      <td>1.247838</td>\n",
       "      <td>1.263763</td>\n",
       "      <td>1.273083</td>\n",
       "      <td>1.263241</td>\n",
       "      <td>1.218833</td>\n",
       "      <td>42.59</td>\n",
       "      <td>27.31</td>\n",
       "      <td>ok</td>\n",
       "      <td>high</td>\n",
       "      <td>high</td>\n",
       "    </tr>\n",
       "    <tr>\n",
       "      <th>12</th>\n",
       "      <td>ID_XIAE5HYO</td>\n",
       "      <td>0.620263</td>\n",
       "      <td>0.622768</td>\n",
       "      <td>0.621894</td>\n",
       "      <td>0.630549</td>\n",
       "      <td>0.628610</td>\n",
       "      <td>0.636566</td>\n",
       "      <td>0.640318</td>\n",
       "      <td>0.647131</td>\n",
       "      <td>0.650764</td>\n",
       "      <td>...</td>\n",
       "      <td>1.362865</td>\n",
       "      <td>1.398627</td>\n",
       "      <td>1.398989</td>\n",
       "      <td>1.391138</td>\n",
       "      <td>1.439513</td>\n",
       "      <td>36.91</td>\n",
       "      <td>37.81</td>\n",
       "      <td>ok</td>\n",
       "      <td>ok</td>\n",
       "      <td>high</td>\n",
       "    </tr>\n",
       "    <tr>\n",
       "      <th>13</th>\n",
       "      <td>ID_KN93O8AZ</td>\n",
       "      <td>0.514019</td>\n",
       "      <td>0.521742</td>\n",
       "      <td>0.519481</td>\n",
       "      <td>0.526184</td>\n",
       "      <td>0.526774</td>\n",
       "      <td>0.533542</td>\n",
       "      <td>0.540119</td>\n",
       "      <td>0.544166</td>\n",
       "      <td>0.552173</td>\n",
       "      <td>...</td>\n",
       "      <td>1.189064</td>\n",
       "      <td>1.193926</td>\n",
       "      <td>1.187311</td>\n",
       "      <td>1.217152</td>\n",
       "      <td>1.180828</td>\n",
       "      <td>41.90</td>\n",
       "      <td>27.79</td>\n",
       "      <td>ok</td>\n",
       "      <td>ok</td>\n",
       "      <td>high</td>\n",
       "    </tr>\n",
       "    <tr>\n",
       "      <th>14</th>\n",
       "      <td>ID_8LULH20R</td>\n",
       "      <td>0.455756</td>\n",
       "      <td>0.458161</td>\n",
       "      <td>0.445533</td>\n",
       "      <td>0.462332</td>\n",
       "      <td>0.478318</td>\n",
       "      <td>0.485902</td>\n",
       "      <td>0.490047</td>\n",
       "      <td>0.490277</td>\n",
       "      <td>0.495857</td>\n",
       "      <td>...</td>\n",
       "      <td>1.224133</td>\n",
       "      <td>1.176671</td>\n",
       "      <td>1.196759</td>\n",
       "      <td>1.213463</td>\n",
       "      <td>1.148634</td>\n",
       "      <td>36.65</td>\n",
       "      <td>28.55</td>\n",
       "      <td>ok</td>\n",
       "      <td>ok</td>\n",
       "      <td>high</td>\n",
       "    </tr>\n",
       "    <tr>\n",
       "      <th>15</th>\n",
       "      <td>ID_H0QSY05G</td>\n",
       "      <td>0.542999</td>\n",
       "      <td>0.550722</td>\n",
       "      <td>0.551692</td>\n",
       "      <td>0.561606</td>\n",
       "      <td>0.566811</td>\n",
       "      <td>0.570654</td>\n",
       "      <td>0.574588</td>\n",
       "      <td>0.582285</td>\n",
       "      <td>0.592992</td>\n",
       "      <td>...</td>\n",
       "      <td>1.273351</td>\n",
       "      <td>1.291089</td>\n",
       "      <td>1.249775</td>\n",
       "      <td>1.287542</td>\n",
       "      <td>1.282575</td>\n",
       "      <td>42.24</td>\n",
       "      <td>29.26</td>\n",
       "      <td>low</td>\n",
       "      <td>ok</td>\n",
       "      <td>ok</td>\n",
       "    </tr>\n",
       "    <tr>\n",
       "      <th>16</th>\n",
       "      <td>ID_POLULW3R</td>\n",
       "      <td>0.480388</td>\n",
       "      <td>0.484286</td>\n",
       "      <td>0.488911</td>\n",
       "      <td>0.489383</td>\n",
       "      <td>0.497504</td>\n",
       "      <td>0.504784</td>\n",
       "      <td>0.507981</td>\n",
       "      <td>0.508161</td>\n",
       "      <td>0.513248</td>\n",
       "      <td>...</td>\n",
       "      <td>1.240040</td>\n",
       "      <td>1.200212</td>\n",
       "      <td>1.221530</td>\n",
       "      <td>1.213619</td>\n",
       "      <td>1.237070</td>\n",
       "      <td>42.67</td>\n",
       "      <td>50.22</td>\n",
       "      <td>ok</td>\n",
       "      <td>ok</td>\n",
       "      <td>high</td>\n",
       "    </tr>\n",
       "    <tr>\n",
       "      <th>17</th>\n",
       "      <td>ID_PM6IMECB</td>\n",
       "      <td>0.505570</td>\n",
       "      <td>0.512210</td>\n",
       "      <td>0.514343</td>\n",
       "      <td>0.524627</td>\n",
       "      <td>0.527987</td>\n",
       "      <td>0.540032</td>\n",
       "      <td>0.546584</td>\n",
       "      <td>0.552629</td>\n",
       "      <td>0.560304</td>\n",
       "      <td>...</td>\n",
       "      <td>1.264074</td>\n",
       "      <td>1.249191</td>\n",
       "      <td>1.228990</td>\n",
       "      <td>1.285064</td>\n",
       "      <td>1.294423</td>\n",
       "      <td>40.78</td>\n",
       "      <td>24.37</td>\n",
       "      <td>high</td>\n",
       "      <td>ok</td>\n",
       "      <td>ok</td>\n",
       "    </tr>\n",
       "    <tr>\n",
       "      <th>18</th>\n",
       "      <td>ID_MK2MX4L8</td>\n",
       "      <td>0.640017</td>\n",
       "      <td>0.634113</td>\n",
       "      <td>0.633602</td>\n",
       "      <td>0.648409</td>\n",
       "      <td>0.647512</td>\n",
       "      <td>0.654290</td>\n",
       "      <td>0.662544</td>\n",
       "      <td>0.671660</td>\n",
       "      <td>0.681424</td>\n",
       "      <td>...</td>\n",
       "      <td>1.442753</td>\n",
       "      <td>1.430408</td>\n",
       "      <td>1.441828</td>\n",
       "      <td>1.485907</td>\n",
       "      <td>1.475184</td>\n",
       "      <td>37.89</td>\n",
       "      <td>23.30</td>\n",
       "      <td>low</td>\n",
       "      <td>ok</td>\n",
       "      <td>ok</td>\n",
       "    </tr>\n",
       "    <tr>\n",
       "      <th>19</th>\n",
       "      <td>ID_RFDE66W9</td>\n",
       "      <td>0.507012</td>\n",
       "      <td>0.510025</td>\n",
       "      <td>0.515282</td>\n",
       "      <td>0.523655</td>\n",
       "      <td>0.534188</td>\n",
       "      <td>0.539592</td>\n",
       "      <td>0.544692</td>\n",
       "      <td>0.546570</td>\n",
       "      <td>0.554436</td>\n",
       "      <td>...</td>\n",
       "      <td>1.204473</td>\n",
       "      <td>1.211558</td>\n",
       "      <td>1.196400</td>\n",
       "      <td>1.195077</td>\n",
       "      <td>1.164541</td>\n",
       "      <td>36.99</td>\n",
       "      <td>27.70</td>\n",
       "      <td>low</td>\n",
       "      <td>ok</td>\n",
       "      <td>ok</td>\n",
       "    </tr>\n",
       "    <tr>\n",
       "      <th>20</th>\n",
       "      <td>ID_3DGBNTWV</td>\n",
       "      <td>0.501692</td>\n",
       "      <td>0.509407</td>\n",
       "      <td>0.511178</td>\n",
       "      <td>0.516916</td>\n",
       "      <td>0.523927</td>\n",
       "      <td>0.530858</td>\n",
       "      <td>0.537304</td>\n",
       "      <td>0.545135</td>\n",
       "      <td>0.552549</td>\n",
       "      <td>...</td>\n",
       "      <td>1.247332</td>\n",
       "      <td>1.268716</td>\n",
       "      <td>1.239587</td>\n",
       "      <td>1.275877</td>\n",
       "      <td>1.257140</td>\n",
       "      <td>41.97</td>\n",
       "      <td>28.54</td>\n",
       "      <td>ok</td>\n",
       "      <td>ok</td>\n",
       "      <td>ok</td>\n",
       "    </tr>\n",
       "    <tr>\n",
       "      <th>21</th>\n",
       "      <td>ID_EOQL1GEK</td>\n",
       "      <td>0.470724</td>\n",
       "      <td>0.464901</td>\n",
       "      <td>0.468180</td>\n",
       "      <td>0.485426</td>\n",
       "      <td>0.492571</td>\n",
       "      <td>0.498100</td>\n",
       "      <td>0.502636</td>\n",
       "      <td>0.509155</td>\n",
       "      <td>0.515623</td>\n",
       "      <td>...</td>\n",
       "      <td>1.249456</td>\n",
       "      <td>1.233530</td>\n",
       "      <td>1.250935</td>\n",
       "      <td>1.254809</td>\n",
       "      <td>1.258003</td>\n",
       "      <td>38.70</td>\n",
       "      <td>29.81</td>\n",
       "      <td>ok</td>\n",
       "      <td>ok</td>\n",
       "      <td>ok</td>\n",
       "    </tr>\n",
       "    <tr>\n",
       "      <th>22</th>\n",
       "      <td>ID_3PKOL674</td>\n",
       "      <td>0.528669</td>\n",
       "      <td>0.526331</td>\n",
       "      <td>0.527935</td>\n",
       "      <td>0.533068</td>\n",
       "      <td>0.539086</td>\n",
       "      <td>0.547181</td>\n",
       "      <td>0.549392</td>\n",
       "      <td>0.553565</td>\n",
       "      <td>0.560774</td>\n",
       "      <td>...</td>\n",
       "      <td>1.298835</td>\n",
       "      <td>1.303248</td>\n",
       "      <td>1.287314</td>\n",
       "      <td>1.331731</td>\n",
       "      <td>1.282784</td>\n",
       "      <td>41.29</td>\n",
       "      <td>40.39</td>\n",
       "      <td>low</td>\n",
       "      <td>ok</td>\n",
       "      <td>high</td>\n",
       "    </tr>\n",
       "    <tr>\n",
       "      <th>23</th>\n",
       "      <td>ID_A132AJYK</td>\n",
       "      <td>0.521308</td>\n",
       "      <td>0.528730</td>\n",
       "      <td>0.534544</td>\n",
       "      <td>0.541134</td>\n",
       "      <td>0.551629</td>\n",
       "      <td>0.563528</td>\n",
       "      <td>0.569334</td>\n",
       "      <td>0.576578</td>\n",
       "      <td>0.581419</td>\n",
       "      <td>...</td>\n",
       "      <td>1.289259</td>\n",
       "      <td>1.257540</td>\n",
       "      <td>1.278369</td>\n",
       "      <td>1.263140</td>\n",
       "      <td>1.283117</td>\n",
       "      <td>43.04</td>\n",
       "      <td>25.52</td>\n",
       "      <td>ok</td>\n",
       "      <td>ok</td>\n",
       "      <td>ok</td>\n",
       "    </tr>\n",
       "    <tr>\n",
       "      <th>24</th>\n",
       "      <td>ID_RP4R33FB</td>\n",
       "      <td>0.508980</td>\n",
       "      <td>0.520489</td>\n",
       "      <td>0.521961</td>\n",
       "      <td>0.524320</td>\n",
       "      <td>0.525000</td>\n",
       "      <td>0.532117</td>\n",
       "      <td>0.537728</td>\n",
       "      <td>0.545325</td>\n",
       "      <td>0.554166</td>\n",
       "      <td>...</td>\n",
       "      <td>1.323614</td>\n",
       "      <td>1.340671</td>\n",
       "      <td>1.331572</td>\n",
       "      <td>1.348094</td>\n",
       "      <td>1.303542</td>\n",
       "      <td>35.09</td>\n",
       "      <td>45.74</td>\n",
       "      <td>high</td>\n",
       "      <td>ok</td>\n",
       "      <td>ok</td>\n",
       "    </tr>\n",
       "  </tbody>\n",
       "</table>\n",
       "<p>25 rows × 176 columns</p>\n",
       "</div>"
      ],
      "text/plain": [
       "     Reading_ID  absorbance0  absorbance1  absorbance2  absorbance3  \\\n",
       "0   ID_3SSHI56C     0.479669     0.477423     0.487956     0.491831   \n",
       "1   ID_599OOLZA     0.471537     0.474113     0.479981     0.485528   \n",
       "2   ID_MVJGPQ75     0.444998     0.458034     0.447386     0.456921   \n",
       "3   ID_CK6RF8YV     0.513434     0.513303     0.522609     0.521068   \n",
       "4   ID_82N6QE6I     0.510485     0.519359     0.524225     0.528419   \n",
       "5   ID_3LCCBJVO     0.547021     0.553422     0.563921     0.567715   \n",
       "6   ID_4TK4WAI7     0.517956     0.522156     0.529304     0.544396   \n",
       "7   ID_JH3G89RM     0.497032     0.495025     0.494494     0.503662   \n",
       "8   ID_2PF9JK4O     0.476799     0.481452     0.483358     0.490046   \n",
       "9   ID_TG56LKBY     0.501158     0.511572     0.513042     0.520507   \n",
       "10  ID_T1DP1ZHA     0.533322     0.539424     0.545329     0.546416   \n",
       "11  ID_DVGW9AE2     0.506780     0.503185     0.504951     0.509704   \n",
       "12  ID_XIAE5HYO     0.620263     0.622768     0.621894     0.630549   \n",
       "13  ID_KN93O8AZ     0.514019     0.521742     0.519481     0.526184   \n",
       "14  ID_8LULH20R     0.455756     0.458161     0.445533     0.462332   \n",
       "15  ID_H0QSY05G     0.542999     0.550722     0.551692     0.561606   \n",
       "16  ID_POLULW3R     0.480388     0.484286     0.488911     0.489383   \n",
       "17  ID_PM6IMECB     0.505570     0.512210     0.514343     0.524627   \n",
       "18  ID_MK2MX4L8     0.640017     0.634113     0.633602     0.648409   \n",
       "19  ID_RFDE66W9     0.507012     0.510025     0.515282     0.523655   \n",
       "20  ID_3DGBNTWV     0.501692     0.509407     0.511178     0.516916   \n",
       "21  ID_EOQL1GEK     0.470724     0.464901     0.468180     0.485426   \n",
       "22  ID_3PKOL674     0.528669     0.526331     0.527935     0.533068   \n",
       "23  ID_A132AJYK     0.521308     0.528730     0.534544     0.541134   \n",
       "24  ID_RP4R33FB     0.508980     0.520489     0.521961     0.524320   \n",
       "\n",
       "    absorbance4  absorbance5  absorbance6  absorbance7  absorbance8  ...  \\\n",
       "0      0.500516     0.502590     0.511561     0.514639     0.524245  ...   \n",
       "1      0.491049     0.497942     0.504760     0.510543     0.522328  ...   \n",
       "2      0.463225     0.475983     0.476817     0.481565     0.490010  ...   \n",
       "3      0.523146     0.530132     0.539517     0.546364     0.552414  ...   \n",
       "4      0.535273     0.545342     0.550314     0.557129     0.567030  ...   \n",
       "5      0.579869     0.590251     0.595393     0.597208     0.604721  ...   \n",
       "6      0.553598     0.561382     0.564694     0.567961     0.577555  ...   \n",
       "7      0.508607     0.512761     0.518266     0.527049     0.534846  ...   \n",
       "8      0.491382     0.500921     0.506735     0.512667     0.521872  ...   \n",
       "9      0.532246     0.534862     0.538399     0.542913     0.551720  ...   \n",
       "10     0.558224     0.561411     0.567811     0.572183     0.581994  ...   \n",
       "11     0.516427     0.524663     0.532535     0.538796     0.544318  ...   \n",
       "12     0.628610     0.636566     0.640318     0.647131     0.650764  ...   \n",
       "13     0.526774     0.533542     0.540119     0.544166     0.552173  ...   \n",
       "14     0.478318     0.485902     0.490047     0.490277     0.495857  ...   \n",
       "15     0.566811     0.570654     0.574588     0.582285     0.592992  ...   \n",
       "16     0.497504     0.504784     0.507981     0.508161     0.513248  ...   \n",
       "17     0.527987     0.540032     0.546584     0.552629     0.560304  ...   \n",
       "18     0.647512     0.654290     0.662544     0.671660     0.681424  ...   \n",
       "19     0.534188     0.539592     0.544692     0.546570     0.554436  ...   \n",
       "20     0.523927     0.530858     0.537304     0.545135     0.552549  ...   \n",
       "21     0.492571     0.498100     0.502636     0.509155     0.515623  ...   \n",
       "22     0.539086     0.547181     0.549392     0.553565     0.560774  ...   \n",
       "23     0.551629     0.563528     0.569334     0.576578     0.581419  ...   \n",
       "24     0.525000     0.532117     0.537728     0.545325     0.554166  ...   \n",
       "\n",
       "    absorbance165  absorbance166  absorbance167  absorbance168  absorbance169  \\\n",
       "0        1.218660       1.213038       1.198317       1.195735       1.180846   \n",
       "1        1.304501       1.323005       1.305992       1.263887       1.262095   \n",
       "2        1.325059       1.271115       1.337119       1.289877       1.345229   \n",
       "3        1.298422       1.299873       1.311157       1.303259       1.349833   \n",
       "4        1.272367       1.290032       1.339771       1.322738       1.348964   \n",
       "5        1.301758       1.273375       1.246971       1.254424       1.288679   \n",
       "6        1.087181       1.058432       1.058078       1.062706       1.017410   \n",
       "7        1.259352       1.269610       1.242295       1.291084       1.307972   \n",
       "8        1.193640       1.175582       1.160317       1.177578       1.199889   \n",
       "9        1.216975       1.195616       1.176820       1.194605       1.188291   \n",
       "10       1.236460       1.244555       1.232450       1.213745       1.269972   \n",
       "11       1.247838       1.263763       1.273083       1.263241       1.218833   \n",
       "12       1.362865       1.398627       1.398989       1.391138       1.439513   \n",
       "13       1.189064       1.193926       1.187311       1.217152       1.180828   \n",
       "14       1.224133       1.176671       1.196759       1.213463       1.148634   \n",
       "15       1.273351       1.291089       1.249775       1.287542       1.282575   \n",
       "16       1.240040       1.200212       1.221530       1.213619       1.237070   \n",
       "17       1.264074       1.249191       1.228990       1.285064       1.294423   \n",
       "18       1.442753       1.430408       1.441828       1.485907       1.475184   \n",
       "19       1.204473       1.211558       1.196400       1.195077       1.164541   \n",
       "20       1.247332       1.268716       1.239587       1.275877       1.257140   \n",
       "21       1.249456       1.233530       1.250935       1.254809       1.258003   \n",
       "22       1.298835       1.303248       1.287314       1.331731       1.282784   \n",
       "23       1.289259       1.257540       1.278369       1.263140       1.283117   \n",
       "24       1.323614       1.340671       1.331572       1.348094       1.303542   \n",
       "\n",
       "    temperature  humidity  hdl_cholesterol_human  hemoglobin(hgb)_human  \\\n",
       "0         42.51     34.01                     ok                     ok   \n",
       "1         44.52     32.09                     ok                   high   \n",
       "2         45.77     24.80                     ok                     ok   \n",
       "3         45.84     36.93                    low                     ok   \n",
       "4         38.92     23.88                     ok                     ok   \n",
       "5         43.64     18.85                    low                     ok   \n",
       "6         40.82     25.71                     ok                     ok   \n",
       "7         35.61     39.29                     ok                     ok   \n",
       "8         42.66     36.49                    low                     ok   \n",
       "9         40.51     27.73                     ok                     ok   \n",
       "10        40.43     20.83                    low                     ok   \n",
       "11        42.59     27.31                     ok                   high   \n",
       "12        36.91     37.81                     ok                     ok   \n",
       "13        41.90     27.79                     ok                     ok   \n",
       "14        36.65     28.55                     ok                     ok   \n",
       "15        42.24     29.26                    low                     ok   \n",
       "16        42.67     50.22                     ok                     ok   \n",
       "17        40.78     24.37                   high                     ok   \n",
       "18        37.89     23.30                    low                     ok   \n",
       "19        36.99     27.70                    low                     ok   \n",
       "20        41.97     28.54                     ok                     ok   \n",
       "21        38.70     29.81                     ok                     ok   \n",
       "22        41.29     40.39                    low                     ok   \n",
       "23        43.04     25.52                     ok                     ok   \n",
       "24        35.09     45.74                   high                     ok   \n",
       "\n",
       "    cholesterol_ldl_human  \n",
       "0                      ok  \n",
       "1                    high  \n",
       "2                    high  \n",
       "3                    high  \n",
       "4                    high  \n",
       "5                      ok  \n",
       "6                    high  \n",
       "7                    high  \n",
       "8                    high  \n",
       "9                    high  \n",
       "10                     ok  \n",
       "11                   high  \n",
       "12                   high  \n",
       "13                   high  \n",
       "14                   high  \n",
       "15                     ok  \n",
       "16                   high  \n",
       "17                     ok  \n",
       "18                     ok  \n",
       "19                     ok  \n",
       "20                     ok  \n",
       "21                     ok  \n",
       "22                   high  \n",
       "23                     ok  \n",
       "24                     ok  \n",
       "\n",
       "[25 rows x 176 columns]"
      ]
     },
     "execution_count": 10,
     "metadata": {},
     "output_type": "execute_result"
    }
   ],
   "source": [
    "df.head(25)"
   ]
  },
  {
   "cell_type": "code",
   "execution_count": 11,
   "metadata": {
    "id": "cfOHzrSSeQsu"
   },
   "outputs": [],
   "source": [
    "def one_hot_encode_df(df,str_index):\n",
    "    from sklearn.preprocessing import OneHotEncoder\n",
    "    indf=df.copy(True)\n",
    "    one_hot=OneHotEncoder()\n",
    "    col=indf[str_index].values\n",
    "    col=col.reshape(-1,1)\n",
    "    one_hot.fit(col)\n",
    "    out=one_hot.transform(col).toarray()\n",
    "    codes=one_hot.get_feature_names()\n",
    "    print(codes)\n",
    "    for ind,code in enumerate(codes):\n",
    "        print(\"Itt:\",ind,codes[ind])\n",
    "        indf[str_index+\"_\"+code]=out[:,ind]\n",
    "    return(indf,one_hot)\n"
   ]
  },
  {
   "cell_type": "code",
   "execution_count": null,
   "metadata": {
    "id": "_TT7CFsfjhqO"
   },
   "outputs": [],
   "source": []
  },
  {
   "cell_type": "code",
   "execution_count": 12,
   "metadata": {
    "colab": {
     "base_uri": "https://localhost:8080/"
    },
    "id": "ta5rsccBiUDo",
    "outputId": "8e5a9c18-608a-4765-b04a-00bcc54c1cfc"
   },
   "outputs": [
    {
     "name": "stdout",
     "output_type": "stream",
     "text": [
      "['x0_high' 'x0_low' 'x0_ok']\n",
      "Itt: 0 x0_high\n",
      "Itt: 1 x0_low\n",
      "Itt: 2 x0_ok\n",
      "['x0_high' 'x0_low' 'x0_ok']\n",
      "Itt: 0 x0_high\n",
      "Itt: 1 x0_low\n",
      "Itt: 2 x0_ok\n",
      "['x0_high' 'x0_low' 'x0_ok']\n",
      "Itt: 0 x0_high\n",
      "Itt: 1 x0_low\n",
      "Itt: 2 x0_ok\n"
     ]
    }
   ],
   "source": [
    "hdl_col_df,hdl_onehot=one_hot_encode_df(df,\"hdl_cholesterol_human\")\n",
    "hemo_df,hemo_onehot=one_hot_encode_df(df,\"hemoglobin(hgb)_human\")\n",
    "col_df,col_onehot=one_hot_encode_df(df,\"cholesterol_ldl_human\")"
   ]
  },
  {
   "cell_type": "code",
   "execution_count": 13,
   "metadata": {
    "colab": {
     "base_uri": "https://localhost:8080/",
     "height": 253
    },
    "id": "svHNLLj_1nsb",
    "outputId": "fa6a50ab-99ad-4948-fd94-eb3bfacdd61b"
   },
   "outputs": [
    {
     "data": {
      "text/html": [
       "<div>\n",
       "<style scoped>\n",
       "    .dataframe tbody tr th:only-of-type {\n",
       "        vertical-align: middle;\n",
       "    }\n",
       "\n",
       "    .dataframe tbody tr th {\n",
       "        vertical-align: top;\n",
       "    }\n",
       "\n",
       "    .dataframe thead th {\n",
       "        text-align: right;\n",
       "    }\n",
       "</style>\n",
       "<table border=\"1\" class=\"dataframe\">\n",
       "  <thead>\n",
       "    <tr style=\"text-align: right;\">\n",
       "      <th></th>\n",
       "      <th>Reading_ID</th>\n",
       "      <th>absorbance0</th>\n",
       "      <th>absorbance1</th>\n",
       "      <th>absorbance2</th>\n",
       "      <th>absorbance3</th>\n",
       "      <th>absorbance4</th>\n",
       "      <th>absorbance5</th>\n",
       "      <th>absorbance6</th>\n",
       "      <th>absorbance7</th>\n",
       "      <th>absorbance8</th>\n",
       "      <th>...</th>\n",
       "      <th>absorbance168</th>\n",
       "      <th>absorbance169</th>\n",
       "      <th>temperature</th>\n",
       "      <th>humidity</th>\n",
       "      <th>hdl_cholesterol_human</th>\n",
       "      <th>hemoglobin(hgb)_human</th>\n",
       "      <th>cholesterol_ldl_human</th>\n",
       "      <th>hemoglobin(hgb)_human_x0_high</th>\n",
       "      <th>hemoglobin(hgb)_human_x0_low</th>\n",
       "      <th>hemoglobin(hgb)_human_x0_ok</th>\n",
       "    </tr>\n",
       "  </thead>\n",
       "  <tbody>\n",
       "    <tr>\n",
       "      <th>13135</th>\n",
       "      <td>ID_NGPC0DA3</td>\n",
       "      <td>0.483513</td>\n",
       "      <td>0.482732</td>\n",
       "      <td>0.487531</td>\n",
       "      <td>0.497946</td>\n",
       "      <td>0.500697</td>\n",
       "      <td>0.505740</td>\n",
       "      <td>0.511904</td>\n",
       "      <td>0.519018</td>\n",
       "      <td>0.529455</td>\n",
       "      <td>...</td>\n",
       "      <td>1.188173</td>\n",
       "      <td>1.188303</td>\n",
       "      <td>34.79</td>\n",
       "      <td>36.93</td>\n",
       "      <td>high</td>\n",
       "      <td>ok</td>\n",
       "      <td>ok</td>\n",
       "      <td>0.0</td>\n",
       "      <td>0.0</td>\n",
       "      <td>1.0</td>\n",
       "    </tr>\n",
       "    <tr>\n",
       "      <th>13136</th>\n",
       "      <td>ID_XRBUD5U8</td>\n",
       "      <td>0.525435</td>\n",
       "      <td>0.527563</td>\n",
       "      <td>0.528863</td>\n",
       "      <td>0.531776</td>\n",
       "      <td>0.541156</td>\n",
       "      <td>0.547318</td>\n",
       "      <td>0.552549</td>\n",
       "      <td>0.559060</td>\n",
       "      <td>0.566892</td>\n",
       "      <td>...</td>\n",
       "      <td>1.395317</td>\n",
       "      <td>1.387709</td>\n",
       "      <td>43.12</td>\n",
       "      <td>19.14</td>\n",
       "      <td>ok</td>\n",
       "      <td>ok</td>\n",
       "      <td>ok</td>\n",
       "      <td>0.0</td>\n",
       "      <td>0.0</td>\n",
       "      <td>1.0</td>\n",
       "    </tr>\n",
       "    <tr>\n",
       "      <th>13137</th>\n",
       "      <td>ID_2M9L5NV2</td>\n",
       "      <td>0.512718</td>\n",
       "      <td>0.517815</td>\n",
       "      <td>0.524857</td>\n",
       "      <td>0.525466</td>\n",
       "      <td>0.536542</td>\n",
       "      <td>0.542930</td>\n",
       "      <td>0.550628</td>\n",
       "      <td>0.558939</td>\n",
       "      <td>0.567593</td>\n",
       "      <td>...</td>\n",
       "      <td>1.447840</td>\n",
       "      <td>1.384221</td>\n",
       "      <td>42.48</td>\n",
       "      <td>43.41</td>\n",
       "      <td>ok</td>\n",
       "      <td>ok</td>\n",
       "      <td>ok</td>\n",
       "      <td>0.0</td>\n",
       "      <td>0.0</td>\n",
       "      <td>1.0</td>\n",
       "    </tr>\n",
       "    <tr>\n",
       "      <th>13138</th>\n",
       "      <td>ID_C5V5SD2D</td>\n",
       "      <td>0.456747</td>\n",
       "      <td>0.472575</td>\n",
       "      <td>0.466935</td>\n",
       "      <td>0.466698</td>\n",
       "      <td>0.478546</td>\n",
       "      <td>0.486451</td>\n",
       "      <td>0.494838</td>\n",
       "      <td>0.496540</td>\n",
       "      <td>0.508274</td>\n",
       "      <td>...</td>\n",
       "      <td>1.154095</td>\n",
       "      <td>1.212907</td>\n",
       "      <td>41.86</td>\n",
       "      <td>35.10</td>\n",
       "      <td>ok</td>\n",
       "      <td>ok</td>\n",
       "      <td>ok</td>\n",
       "      <td>0.0</td>\n",
       "      <td>0.0</td>\n",
       "      <td>1.0</td>\n",
       "    </tr>\n",
       "    <tr>\n",
       "      <th>13139</th>\n",
       "      <td>ID_9R5ZR9NX</td>\n",
       "      <td>0.498372</td>\n",
       "      <td>0.501692</td>\n",
       "      <td>0.505924</td>\n",
       "      <td>0.510975</td>\n",
       "      <td>0.516707</td>\n",
       "      <td>0.520821</td>\n",
       "      <td>0.531242</td>\n",
       "      <td>0.537302</td>\n",
       "      <td>0.547303</td>\n",
       "      <td>...</td>\n",
       "      <td>1.350667</td>\n",
       "      <td>1.420639</td>\n",
       "      <td>42.91</td>\n",
       "      <td>26.30</td>\n",
       "      <td>high</td>\n",
       "      <td>ok</td>\n",
       "      <td>high</td>\n",
       "      <td>0.0</td>\n",
       "      <td>0.0</td>\n",
       "      <td>1.0</td>\n",
       "    </tr>\n",
       "  </tbody>\n",
       "</table>\n",
       "<p>5 rows × 179 columns</p>\n",
       "</div>"
      ],
      "text/plain": [
       "        Reading_ID  absorbance0  absorbance1  absorbance2  absorbance3  \\\n",
       "13135  ID_NGPC0DA3     0.483513     0.482732     0.487531     0.497946   \n",
       "13136  ID_XRBUD5U8     0.525435     0.527563     0.528863     0.531776   \n",
       "13137  ID_2M9L5NV2     0.512718     0.517815     0.524857     0.525466   \n",
       "13138  ID_C5V5SD2D     0.456747     0.472575     0.466935     0.466698   \n",
       "13139  ID_9R5ZR9NX     0.498372     0.501692     0.505924     0.510975   \n",
       "\n",
       "       absorbance4  absorbance5  absorbance6  absorbance7  absorbance8  ...  \\\n",
       "13135     0.500697     0.505740     0.511904     0.519018     0.529455  ...   \n",
       "13136     0.541156     0.547318     0.552549     0.559060     0.566892  ...   \n",
       "13137     0.536542     0.542930     0.550628     0.558939     0.567593  ...   \n",
       "13138     0.478546     0.486451     0.494838     0.496540     0.508274  ...   \n",
       "13139     0.516707     0.520821     0.531242     0.537302     0.547303  ...   \n",
       "\n",
       "       absorbance168  absorbance169  temperature  humidity  \\\n",
       "13135       1.188173       1.188303        34.79     36.93   \n",
       "13136       1.395317       1.387709        43.12     19.14   \n",
       "13137       1.447840       1.384221        42.48     43.41   \n",
       "13138       1.154095       1.212907        41.86     35.10   \n",
       "13139       1.350667       1.420639        42.91     26.30   \n",
       "\n",
       "       hdl_cholesterol_human  hemoglobin(hgb)_human  cholesterol_ldl_human  \\\n",
       "13135                   high                     ok                     ok   \n",
       "13136                     ok                     ok                     ok   \n",
       "13137                     ok                     ok                     ok   \n",
       "13138                     ok                     ok                     ok   \n",
       "13139                   high                     ok                   high   \n",
       "\n",
       "       hemoglobin(hgb)_human_x0_high  hemoglobin(hgb)_human_x0_low  \\\n",
       "13135                            0.0                           0.0   \n",
       "13136                            0.0                           0.0   \n",
       "13137                            0.0                           0.0   \n",
       "13138                            0.0                           0.0   \n",
       "13139                            0.0                           0.0   \n",
       "\n",
       "       hemoglobin(hgb)_human_x0_ok  \n",
       "13135                          1.0  \n",
       "13136                          1.0  \n",
       "13137                          1.0  \n",
       "13138                          1.0  \n",
       "13139                          1.0  \n",
       "\n",
       "[5 rows x 179 columns]"
      ]
     },
     "execution_count": 13,
     "metadata": {},
     "output_type": "execute_result"
    }
   ],
   "source": [
    "hemo_df.tail()"
   ]
  },
  {
   "cell_type": "code",
   "execution_count": 14,
   "metadata": {
    "id": "tOm2B8lekRVR"
   },
   "outputs": [],
   "source": [
    "del hdl_col_df[\"hdl_cholesterol_human\"]\n",
    "del hdl_col_df[\"hemoglobin(hgb)_human\"]\n",
    "del hdl_col_df[\"cholesterol_ldl_human\"]\n",
    "del hemo_df[\"hdl_cholesterol_human\"]\n",
    "del hemo_df[\"hemoglobin(hgb)_human\"]\n",
    "del hemo_df[\"cholesterol_ldl_human\"]\n",
    "del col_df[\"hdl_cholesterol_human\"]\n",
    "del col_df[\"hemoglobin(hgb)_human\"]\n",
    "del col_df[\"cholesterol_ldl_human\"]\n",
    "\n",
    "\n"
   ]
  },
  {
   "cell_type": "code",
   "execution_count": 15,
   "metadata": {
    "colab": {
     "base_uri": "https://localhost:8080/",
     "height": 253
    },
    "id": "64sg2pCEmOde",
    "outputId": "891562d0-c8ae-47bd-ea96-ab179fe2e117"
   },
   "outputs": [
    {
     "data": {
      "text/html": [
       "<div>\n",
       "<style scoped>\n",
       "    .dataframe tbody tr th:only-of-type {\n",
       "        vertical-align: middle;\n",
       "    }\n",
       "\n",
       "    .dataframe tbody tr th {\n",
       "        vertical-align: top;\n",
       "    }\n",
       "\n",
       "    .dataframe thead th {\n",
       "        text-align: right;\n",
       "    }\n",
       "</style>\n",
       "<table border=\"1\" class=\"dataframe\">\n",
       "  <thead>\n",
       "    <tr style=\"text-align: right;\">\n",
       "      <th></th>\n",
       "      <th>Reading_ID</th>\n",
       "      <th>absorbance0</th>\n",
       "      <th>absorbance1</th>\n",
       "      <th>absorbance2</th>\n",
       "      <th>absorbance3</th>\n",
       "      <th>absorbance4</th>\n",
       "      <th>absorbance5</th>\n",
       "      <th>absorbance6</th>\n",
       "      <th>absorbance7</th>\n",
       "      <th>absorbance8</th>\n",
       "      <th>...</th>\n",
       "      <th>absorbance165</th>\n",
       "      <th>absorbance166</th>\n",
       "      <th>absorbance167</th>\n",
       "      <th>absorbance168</th>\n",
       "      <th>absorbance169</th>\n",
       "      <th>temperature</th>\n",
       "      <th>humidity</th>\n",
       "      <th>hdl_cholesterol_human_x0_high</th>\n",
       "      <th>hdl_cholesterol_human_x0_low</th>\n",
       "      <th>hdl_cholesterol_human_x0_ok</th>\n",
       "    </tr>\n",
       "  </thead>\n",
       "  <tbody>\n",
       "    <tr>\n",
       "      <th>0</th>\n",
       "      <td>ID_3SSHI56C</td>\n",
       "      <td>0.479669</td>\n",
       "      <td>0.477423</td>\n",
       "      <td>0.487956</td>\n",
       "      <td>0.491831</td>\n",
       "      <td>0.500516</td>\n",
       "      <td>0.502590</td>\n",
       "      <td>0.511561</td>\n",
       "      <td>0.514639</td>\n",
       "      <td>0.524245</td>\n",
       "      <td>...</td>\n",
       "      <td>1.218660</td>\n",
       "      <td>1.213038</td>\n",
       "      <td>1.198317</td>\n",
       "      <td>1.195735</td>\n",
       "      <td>1.180846</td>\n",
       "      <td>42.51</td>\n",
       "      <td>34.01</td>\n",
       "      <td>0.0</td>\n",
       "      <td>0.0</td>\n",
       "      <td>1.0</td>\n",
       "    </tr>\n",
       "    <tr>\n",
       "      <th>1</th>\n",
       "      <td>ID_599OOLZA</td>\n",
       "      <td>0.471537</td>\n",
       "      <td>0.474113</td>\n",
       "      <td>0.479981</td>\n",
       "      <td>0.485528</td>\n",
       "      <td>0.491049</td>\n",
       "      <td>0.497942</td>\n",
       "      <td>0.504760</td>\n",
       "      <td>0.510543</td>\n",
       "      <td>0.522328</td>\n",
       "      <td>...</td>\n",
       "      <td>1.304501</td>\n",
       "      <td>1.323005</td>\n",
       "      <td>1.305992</td>\n",
       "      <td>1.263887</td>\n",
       "      <td>1.262095</td>\n",
       "      <td>44.52</td>\n",
       "      <td>32.09</td>\n",
       "      <td>0.0</td>\n",
       "      <td>0.0</td>\n",
       "      <td>1.0</td>\n",
       "    </tr>\n",
       "    <tr>\n",
       "      <th>2</th>\n",
       "      <td>ID_MVJGPQ75</td>\n",
       "      <td>0.444998</td>\n",
       "      <td>0.458034</td>\n",
       "      <td>0.447386</td>\n",
       "      <td>0.456921</td>\n",
       "      <td>0.463225</td>\n",
       "      <td>0.475983</td>\n",
       "      <td>0.476817</td>\n",
       "      <td>0.481565</td>\n",
       "      <td>0.490010</td>\n",
       "      <td>...</td>\n",
       "      <td>1.325059</td>\n",
       "      <td>1.271115</td>\n",
       "      <td>1.337119</td>\n",
       "      <td>1.289877</td>\n",
       "      <td>1.345229</td>\n",
       "      <td>45.77</td>\n",
       "      <td>24.80</td>\n",
       "      <td>0.0</td>\n",
       "      <td>0.0</td>\n",
       "      <td>1.0</td>\n",
       "    </tr>\n",
       "    <tr>\n",
       "      <th>3</th>\n",
       "      <td>ID_CK6RF8YV</td>\n",
       "      <td>0.513434</td>\n",
       "      <td>0.513303</td>\n",
       "      <td>0.522609</td>\n",
       "      <td>0.521068</td>\n",
       "      <td>0.523146</td>\n",
       "      <td>0.530132</td>\n",
       "      <td>0.539517</td>\n",
       "      <td>0.546364</td>\n",
       "      <td>0.552414</td>\n",
       "      <td>...</td>\n",
       "      <td>1.298422</td>\n",
       "      <td>1.299873</td>\n",
       "      <td>1.311157</td>\n",
       "      <td>1.303259</td>\n",
       "      <td>1.349833</td>\n",
       "      <td>45.84</td>\n",
       "      <td>36.93</td>\n",
       "      <td>0.0</td>\n",
       "      <td>1.0</td>\n",
       "      <td>0.0</td>\n",
       "    </tr>\n",
       "    <tr>\n",
       "      <th>4</th>\n",
       "      <td>ID_82N6QE6I</td>\n",
       "      <td>0.510485</td>\n",
       "      <td>0.519359</td>\n",
       "      <td>0.524225</td>\n",
       "      <td>0.528419</td>\n",
       "      <td>0.535273</td>\n",
       "      <td>0.545342</td>\n",
       "      <td>0.550314</td>\n",
       "      <td>0.557129</td>\n",
       "      <td>0.567030</td>\n",
       "      <td>...</td>\n",
       "      <td>1.272367</td>\n",
       "      <td>1.290032</td>\n",
       "      <td>1.339771</td>\n",
       "      <td>1.322738</td>\n",
       "      <td>1.348964</td>\n",
       "      <td>38.92</td>\n",
       "      <td>23.88</td>\n",
       "      <td>0.0</td>\n",
       "      <td>0.0</td>\n",
       "      <td>1.0</td>\n",
       "    </tr>\n",
       "  </tbody>\n",
       "</table>\n",
       "<p>5 rows × 176 columns</p>\n",
       "</div>"
      ],
      "text/plain": [
       "    Reading_ID  absorbance0  absorbance1  absorbance2  absorbance3  \\\n",
       "0  ID_3SSHI56C     0.479669     0.477423     0.487956     0.491831   \n",
       "1  ID_599OOLZA     0.471537     0.474113     0.479981     0.485528   \n",
       "2  ID_MVJGPQ75     0.444998     0.458034     0.447386     0.456921   \n",
       "3  ID_CK6RF8YV     0.513434     0.513303     0.522609     0.521068   \n",
       "4  ID_82N6QE6I     0.510485     0.519359     0.524225     0.528419   \n",
       "\n",
       "   absorbance4  absorbance5  absorbance6  absorbance7  absorbance8  ...  \\\n",
       "0     0.500516     0.502590     0.511561     0.514639     0.524245  ...   \n",
       "1     0.491049     0.497942     0.504760     0.510543     0.522328  ...   \n",
       "2     0.463225     0.475983     0.476817     0.481565     0.490010  ...   \n",
       "3     0.523146     0.530132     0.539517     0.546364     0.552414  ...   \n",
       "4     0.535273     0.545342     0.550314     0.557129     0.567030  ...   \n",
       "\n",
       "   absorbance165  absorbance166  absorbance167  absorbance168  absorbance169  \\\n",
       "0       1.218660       1.213038       1.198317       1.195735       1.180846   \n",
       "1       1.304501       1.323005       1.305992       1.263887       1.262095   \n",
       "2       1.325059       1.271115       1.337119       1.289877       1.345229   \n",
       "3       1.298422       1.299873       1.311157       1.303259       1.349833   \n",
       "4       1.272367       1.290032       1.339771       1.322738       1.348964   \n",
       "\n",
       "   temperature  humidity  hdl_cholesterol_human_x0_high  \\\n",
       "0        42.51     34.01                            0.0   \n",
       "1        44.52     32.09                            0.0   \n",
       "2        45.77     24.80                            0.0   \n",
       "3        45.84     36.93                            0.0   \n",
       "4        38.92     23.88                            0.0   \n",
       "\n",
       "   hdl_cholesterol_human_x0_low  hdl_cholesterol_human_x0_ok  \n",
       "0                           0.0                          1.0  \n",
       "1                           0.0                          1.0  \n",
       "2                           0.0                          1.0  \n",
       "3                           1.0                          0.0  \n",
       "4                           0.0                          1.0  \n",
       "\n",
       "[5 rows x 176 columns]"
      ]
     },
     "execution_count": 15,
     "metadata": {},
     "output_type": "execute_result"
    }
   ],
   "source": [
    "hdl_col_df.head()"
   ]
  },
  {
   "cell_type": "code",
   "execution_count": 16,
   "metadata": {
    "colab": {
     "base_uri": "https://localhost:8080/",
     "height": 346
    },
    "id": "m8LtMEEq1E00",
    "outputId": "a214fea7-808a-42af-cd6b-db33f03fac30"
   },
   "outputs": [
    {
     "data": {
      "text/html": [
       "<div>\n",
       "<style scoped>\n",
       "    .dataframe tbody tr th:only-of-type {\n",
       "        vertical-align: middle;\n",
       "    }\n",
       "\n",
       "    .dataframe tbody tr th {\n",
       "        vertical-align: top;\n",
       "    }\n",
       "\n",
       "    .dataframe thead th {\n",
       "        text-align: right;\n",
       "    }\n",
       "</style>\n",
       "<table border=\"1\" class=\"dataframe\">\n",
       "  <thead>\n",
       "    <tr style=\"text-align: right;\">\n",
       "      <th></th>\n",
       "      <th>absorbance0</th>\n",
       "      <th>absorbance1</th>\n",
       "      <th>absorbance2</th>\n",
       "      <th>absorbance3</th>\n",
       "      <th>absorbance4</th>\n",
       "      <th>absorbance5</th>\n",
       "      <th>absorbance6</th>\n",
       "      <th>absorbance7</th>\n",
       "      <th>absorbance8</th>\n",
       "      <th>absorbance9</th>\n",
       "      <th>...</th>\n",
       "      <th>absorbance165</th>\n",
       "      <th>absorbance166</th>\n",
       "      <th>absorbance167</th>\n",
       "      <th>absorbance168</th>\n",
       "      <th>absorbance169</th>\n",
       "      <th>temperature</th>\n",
       "      <th>humidity</th>\n",
       "      <th>hdl_cholesterol_human_x0_high</th>\n",
       "      <th>hdl_cholesterol_human_x0_low</th>\n",
       "      <th>hdl_cholesterol_human_x0_ok</th>\n",
       "    </tr>\n",
       "  </thead>\n",
       "  <tbody>\n",
       "    <tr>\n",
       "      <th>count</th>\n",
       "      <td>13140.000000</td>\n",
       "      <td>13140.000000</td>\n",
       "      <td>13140.000000</td>\n",
       "      <td>13140.000000</td>\n",
       "      <td>13140.000000</td>\n",
       "      <td>13140.000000</td>\n",
       "      <td>13140.000000</td>\n",
       "      <td>13140.000000</td>\n",
       "      <td>13140.000000</td>\n",
       "      <td>13140.000000</td>\n",
       "      <td>...</td>\n",
       "      <td>13140.000000</td>\n",
       "      <td>13140.000000</td>\n",
       "      <td>13140.000000</td>\n",
       "      <td>13140.000000</td>\n",
       "      <td>13140.000000</td>\n",
       "      <td>13140.000000</td>\n",
       "      <td>13140.000000</td>\n",
       "      <td>13140.000000</td>\n",
       "      <td>13140.000000</td>\n",
       "      <td>13140.000000</td>\n",
       "    </tr>\n",
       "    <tr>\n",
       "      <th>mean</th>\n",
       "      <td>0.507347</td>\n",
       "      <td>0.509800</td>\n",
       "      <td>0.513687</td>\n",
       "      <td>0.519391</td>\n",
       "      <td>0.525976</td>\n",
       "      <td>0.533482</td>\n",
       "      <td>0.539453</td>\n",
       "      <td>0.544755</td>\n",
       "      <td>0.552902</td>\n",
       "      <td>0.565279</td>\n",
       "      <td>...</td>\n",
       "      <td>1.271131</td>\n",
       "      <td>1.264782</td>\n",
       "      <td>1.262234</td>\n",
       "      <td>1.274563</td>\n",
       "      <td>1.261993</td>\n",
       "      <td>41.088709</td>\n",
       "      <td>31.534744</td>\n",
       "      <td>0.196347</td>\n",
       "      <td>0.232877</td>\n",
       "      <td>0.570776</td>\n",
       "    </tr>\n",
       "    <tr>\n",
       "      <th>std</th>\n",
       "      <td>0.042075</td>\n",
       "      <td>0.041587</td>\n",
       "      <td>0.041525</td>\n",
       "      <td>0.041676</td>\n",
       "      <td>0.041125</td>\n",
       "      <td>0.040644</td>\n",
       "      <td>0.040715</td>\n",
       "      <td>0.040946</td>\n",
       "      <td>0.040820</td>\n",
       "      <td>0.041038</td>\n",
       "      <td>...</td>\n",
       "      <td>0.085519</td>\n",
       "      <td>0.092525</td>\n",
       "      <td>0.097079</td>\n",
       "      <td>0.103298</td>\n",
       "      <td>0.102908</td>\n",
       "      <td>2.964205</td>\n",
       "      <td>8.118994</td>\n",
       "      <td>0.397249</td>\n",
       "      <td>0.422680</td>\n",
       "      <td>0.494984</td>\n",
       "    </tr>\n",
       "    <tr>\n",
       "      <th>min</th>\n",
       "      <td>0.237409</td>\n",
       "      <td>0.251987</td>\n",
       "      <td>0.269550</td>\n",
       "      <td>0.284636</td>\n",
       "      <td>0.302883</td>\n",
       "      <td>0.318334</td>\n",
       "      <td>0.333950</td>\n",
       "      <td>0.345124</td>\n",
       "      <td>0.361352</td>\n",
       "      <td>0.374106</td>\n",
       "      <td>...</td>\n",
       "      <td>0.993182</td>\n",
       "      <td>0.987268</td>\n",
       "      <td>0.963837</td>\n",
       "      <td>0.965659</td>\n",
       "      <td>0.951658</td>\n",
       "      <td>30.480000</td>\n",
       "      <td>16.610000</td>\n",
       "      <td>0.000000</td>\n",
       "      <td>0.000000</td>\n",
       "      <td>0.000000</td>\n",
       "    </tr>\n",
       "    <tr>\n",
       "      <th>25%</th>\n",
       "      <td>0.485665</td>\n",
       "      <td>0.487773</td>\n",
       "      <td>0.491302</td>\n",
       "      <td>0.495686</td>\n",
       "      <td>0.501565</td>\n",
       "      <td>0.508257</td>\n",
       "      <td>0.514780</td>\n",
       "      <td>0.520312</td>\n",
       "      <td>0.528137</td>\n",
       "      <td>0.539653</td>\n",
       "      <td>...</td>\n",
       "      <td>1.217083</td>\n",
       "      <td>1.205337</td>\n",
       "      <td>1.198471</td>\n",
       "      <td>1.206278</td>\n",
       "      <td>1.194331</td>\n",
       "      <td>39.030000</td>\n",
       "      <td>25.057500</td>\n",
       "      <td>0.000000</td>\n",
       "      <td>0.000000</td>\n",
       "      <td>0.000000</td>\n",
       "    </tr>\n",
       "    <tr>\n",
       "      <th>50%</th>\n",
       "      <td>0.510919</td>\n",
       "      <td>0.513115</td>\n",
       "      <td>0.517337</td>\n",
       "      <td>0.523236</td>\n",
       "      <td>0.529703</td>\n",
       "      <td>0.536550</td>\n",
       "      <td>0.542027</td>\n",
       "      <td>0.547747</td>\n",
       "      <td>0.555886</td>\n",
       "      <td>0.569253</td>\n",
       "      <td>...</td>\n",
       "      <td>1.270125</td>\n",
       "      <td>1.263422</td>\n",
       "      <td>1.260902</td>\n",
       "      <td>1.270895</td>\n",
       "      <td>1.257434</td>\n",
       "      <td>41.090000</td>\n",
       "      <td>30.075000</td>\n",
       "      <td>0.000000</td>\n",
       "      <td>0.000000</td>\n",
       "      <td>1.000000</td>\n",
       "    </tr>\n",
       "    <tr>\n",
       "      <th>75%</th>\n",
       "      <td>0.528750</td>\n",
       "      <td>0.531115</td>\n",
       "      <td>0.535573</td>\n",
       "      <td>0.541501</td>\n",
       "      <td>0.547925</td>\n",
       "      <td>0.554984</td>\n",
       "      <td>0.561157</td>\n",
       "      <td>0.566591</td>\n",
       "      <td>0.575060</td>\n",
       "      <td>0.587514</td>\n",
       "      <td>...</td>\n",
       "      <td>1.324954</td>\n",
       "      <td>1.322994</td>\n",
       "      <td>1.322975</td>\n",
       "      <td>1.337093</td>\n",
       "      <td>1.325678</td>\n",
       "      <td>42.870000</td>\n",
       "      <td>36.700000</td>\n",
       "      <td>0.000000</td>\n",
       "      <td>0.000000</td>\n",
       "      <td>1.000000</td>\n",
       "    </tr>\n",
       "    <tr>\n",
       "      <th>max</th>\n",
       "      <td>0.657782</td>\n",
       "      <td>0.652291</td>\n",
       "      <td>0.659153</td>\n",
       "      <td>0.658982</td>\n",
       "      <td>0.659410</td>\n",
       "      <td>0.667296</td>\n",
       "      <td>0.672708</td>\n",
       "      <td>0.680601</td>\n",
       "      <td>0.691116</td>\n",
       "      <td>0.704255</td>\n",
       "      <td>...</td>\n",
       "      <td>1.527945</td>\n",
       "      <td>1.539556</td>\n",
       "      <td>1.584125</td>\n",
       "      <td>1.672314</td>\n",
       "      <td>1.653452</td>\n",
       "      <td>52.690000</td>\n",
       "      <td>63.070000</td>\n",
       "      <td>1.000000</td>\n",
       "      <td>1.000000</td>\n",
       "      <td>1.000000</td>\n",
       "    </tr>\n",
       "  </tbody>\n",
       "</table>\n",
       "<p>8 rows × 175 columns</p>\n",
       "</div>"
      ],
      "text/plain": [
       "        absorbance0   absorbance1   absorbance2   absorbance3   absorbance4  \\\n",
       "count  13140.000000  13140.000000  13140.000000  13140.000000  13140.000000   \n",
       "mean       0.507347      0.509800      0.513687      0.519391      0.525976   \n",
       "std        0.042075      0.041587      0.041525      0.041676      0.041125   \n",
       "min        0.237409      0.251987      0.269550      0.284636      0.302883   \n",
       "25%        0.485665      0.487773      0.491302      0.495686      0.501565   \n",
       "50%        0.510919      0.513115      0.517337      0.523236      0.529703   \n",
       "75%        0.528750      0.531115      0.535573      0.541501      0.547925   \n",
       "max        0.657782      0.652291      0.659153      0.658982      0.659410   \n",
       "\n",
       "        absorbance5   absorbance6   absorbance7   absorbance8   absorbance9  \\\n",
       "count  13140.000000  13140.000000  13140.000000  13140.000000  13140.000000   \n",
       "mean       0.533482      0.539453      0.544755      0.552902      0.565279   \n",
       "std        0.040644      0.040715      0.040946      0.040820      0.041038   \n",
       "min        0.318334      0.333950      0.345124      0.361352      0.374106   \n",
       "25%        0.508257      0.514780      0.520312      0.528137      0.539653   \n",
       "50%        0.536550      0.542027      0.547747      0.555886      0.569253   \n",
       "75%        0.554984      0.561157      0.566591      0.575060      0.587514   \n",
       "max        0.667296      0.672708      0.680601      0.691116      0.704255   \n",
       "\n",
       "       ...  absorbance165  absorbance166  absorbance167  absorbance168  \\\n",
       "count  ...   13140.000000   13140.000000   13140.000000   13140.000000   \n",
       "mean   ...       1.271131       1.264782       1.262234       1.274563   \n",
       "std    ...       0.085519       0.092525       0.097079       0.103298   \n",
       "min    ...       0.993182       0.987268       0.963837       0.965659   \n",
       "25%    ...       1.217083       1.205337       1.198471       1.206278   \n",
       "50%    ...       1.270125       1.263422       1.260902       1.270895   \n",
       "75%    ...       1.324954       1.322994       1.322975       1.337093   \n",
       "max    ...       1.527945       1.539556       1.584125       1.672314   \n",
       "\n",
       "       absorbance169   temperature      humidity  \\\n",
       "count   13140.000000  13140.000000  13140.000000   \n",
       "mean        1.261993     41.088709     31.534744   \n",
       "std         0.102908      2.964205      8.118994   \n",
       "min         0.951658     30.480000     16.610000   \n",
       "25%         1.194331     39.030000     25.057500   \n",
       "50%         1.257434     41.090000     30.075000   \n",
       "75%         1.325678     42.870000     36.700000   \n",
       "max         1.653452     52.690000     63.070000   \n",
       "\n",
       "       hdl_cholesterol_human_x0_high  hdl_cholesterol_human_x0_low  \\\n",
       "count                   13140.000000                  13140.000000   \n",
       "mean                        0.196347                      0.232877   \n",
       "std                         0.397249                      0.422680   \n",
       "min                         0.000000                      0.000000   \n",
       "25%                         0.000000                      0.000000   \n",
       "50%                         0.000000                      0.000000   \n",
       "75%                         0.000000                      0.000000   \n",
       "max                         1.000000                      1.000000   \n",
       "\n",
       "       hdl_cholesterol_human_x0_ok  \n",
       "count                 13140.000000  \n",
       "mean                      0.570776  \n",
       "std                       0.494984  \n",
       "min                       0.000000  \n",
       "25%                       0.000000  \n",
       "50%                       1.000000  \n",
       "75%                       1.000000  \n",
       "max                       1.000000  \n",
       "\n",
       "[8 rows x 175 columns]"
      ]
     },
     "execution_count": 16,
     "metadata": {},
     "output_type": "execute_result"
    }
   ],
   "source": [
    "hdl_col_df.describe()"
   ]
  },
  {
   "cell_type": "code",
   "execution_count": null,
   "metadata": {
    "id": "4aODcXFHlKby"
   },
   "outputs": [],
   "source": []
  },
  {
   "cell_type": "code",
   "execution_count": null,
   "metadata": {},
   "outputs": [],
   "source": []
  },
  {
   "cell_type": "code",
   "execution_count": 17,
   "metadata": {
    "id": "WGjsJ0Cq3yhL"
   },
   "outputs": [],
   "source": [
    "minmax=MinMaxScaler()\n",
    "minmax.fit(hdl_col_df.iloc[:,1:])\n",
    "data_transform=minmax.transform(hdl_col_df.iloc[:,1:])"
   ]
  },
  {
   "cell_type": "code",
   "execution_count": null,
   "metadata": {
    "id": "ttW3fbYt56F7"
   },
   "outputs": [],
   "source": []
  },
  {
   "cell_type": "code",
   "execution_count": null,
   "metadata": {
    "id": "IU8nkTaP6OGa"
   },
   "outputs": [],
   "source": []
  },
  {
   "cell_type": "code",
   "execution_count": 18,
   "metadata": {
    "id": "3F1iU_DK6weT"
   },
   "outputs": [],
   "source": [
    "X=data_transform[:,:-3]\n",
    "y_hdl_col=hdl_col_df.iloc[:,-3:]\n",
    "y_hemo=hemo_df.iloc[:,-3:]\n",
    "y_hemo=hemo_df.iloc[:,-3:]\n",
    "y_col=col_df.iloc[:,-3:]"
   ]
  },
  {
   "cell_type": "code",
   "execution_count": 19,
   "metadata": {
    "id": "DY-BfoN-7lwC"
   },
   "outputs": [],
   "source": [
    "import tensorflow as tf\n",
    "from keras.layers import InputLayer, Dense, LSTM, Input, Dropout,Embedding, Flatten,LayerNormalization\n",
    "from keras.models import Sequential, Model\n",
    "\n",
    "import keras.optimizers\n",
    "from tensorflow.keras.callbacks import ModelCheckpoint\n",
    "from keras.backend import clear_session\n",
    "from tensorflow.keras.losses import mean_absolute_percentage_error, huber,kld,mse\n",
    "\n",
    "from keras.preprocessing.sequence import pad_sequences"
   ]
  },
  {
   "cell_type": "code",
   "execution_count": 20,
   "metadata": {
    "id": "luXTUyYQ9tQU"
   },
   "outputs": [],
   "source": [
    "def blood_model():\n",
    "    #clear_session()\n",
    "\n",
    "\n",
    "\n",
    "    input_len=len(X[0])\n",
    "\n",
    "    print(input_len)\n",
    "    output_size=3\n",
    "    drop_frac0=0.0 \n",
    "    drop_frac1=0.0\n",
    "\n",
    "\n",
    "\n",
    "    input1=Input(shape=(input_len,),)\n",
    "\n",
    "    #flatt=Flatten()(lstm1)\n",
    "\n",
    "    non=42\n",
    "    #initializer = tf.keras.initializers.LecunNormal()\n",
    "    #initializer=tf.keras.initializers.LecunUniform()\n",
    "    #initializer=tf.keras.initializers.HeUniform(    seed=None)\n",
    "    #initializer= tf.keras.initializers.RandomNormal(    mean=3.0, stddev=0.05, seed=None)\n",
    "\n",
    "    initializer=\"normal\"\n",
    "    d1=Dense(9,activation=\"selu\",kernel_initializer=initializer,input_dim=input_len,name=\"bottle\")(input1)\n",
    "    d1=Dropout(drop_frac0)(d1)\n",
    "    \n",
    "\n",
    "\n",
    "    pred=Dense(input_len,activation=\"selu\")(d1)\n",
    "\n",
    "    model = Model(inputs=input1, outputs=pred)\n",
    "\n",
    "    opt = tf.keras.optimizers.Adamax(learning_rate=0.01)\n",
    "\n",
    "\n",
    "    #lossfn = tf.keras.metrics.MSE()\n",
    "\n",
    "    model.compile(loss=\"MSE\",\n",
    "        optimizer=opt,\n",
    "        metrics=[\"MSE\"])\n",
    "    return(model)"
   ]
  },
  {
   "cell_type": "code",
   "execution_count": 21,
   "metadata": {
    "id": "QRCPMXoZf3Zv"
   },
   "outputs": [],
   "source": [
    "!rm *.hdf5"
   ]
  },
  {
   "cell_type": "code",
   "execution_count": 22,
   "metadata": {
    "id": "aOiBdSGKU1nm"
   },
   "outputs": [],
   "source": [
    "model_name=\"hdl_col\"\n",
    "def scheduler(epoch, lr):\n",
    "    return 0.001\n",
    "\n",
    "callback_LR = tf.keras.callbacks.LearningRateScheduler(scheduler)\n",
    "\n",
    "callbacks = [callback_LR,\n",
    "        \n",
    "        #savemodela,\n",
    "        ModelCheckpoint(filepath=model_name+\"_{val_MSE:.5f}_.hdf5\", monitor='val_MSE',\n",
    "                        verbose=1, save_best_only=True, mode='min')]"
   ]
  },
  {
   "cell_type": "code",
   "execution_count": 23,
   "metadata": {
    "colab": {
     "base_uri": "https://localhost:8080/"
    },
    "id": "hlHiSGPt6EB4",
    "outputId": "42671f2d-914b-4482-c1b7-0a78b8deead5"
   },
   "outputs": [
    {
     "name": "stdout",
     "output_type": "stream",
     "text": [
      "172\n"
     ]
    }
   ],
   "source": [
    "hdl_model=blood_model()"
   ]
  },
  {
   "cell_type": "code",
   "execution_count": null,
   "metadata": {},
   "outputs": [],
   "source": []
  },
  {
   "cell_type": "code",
   "execution_count": null,
   "metadata": {
    "colab": {
     "base_uri": "https://localhost:8080/"
    },
    "id": "LiO4COmH966N",
    "outputId": "218507f5-fee5-4c75-cffc-0403d98635d5",
    "tags": []
   },
   "outputs": [],
   "source": [
    "hdl_model.fit(X,\n",
    "          X,\n",
    "          epochs=450, \n",
    "          batch_size=32,\n",
    "          validation_split=0.2,\n",
    "          verbose=1,\n",
    "          callbacks=callbacks,\n",
    "          shuffle=True\n",
    "          \n",
    "          )"
   ]
  },
  {
   "cell_type": "code",
   "execution_count": null,
   "metadata": {
    "id": "YCkGjfek5N3Q"
   },
   "outputs": [],
   "source": []
  },
  {
   "cell_type": "code",
   "execution_count": 25,
   "metadata": {
    "id": "WauRtjb05Ocw"
   },
   "outputs": [],
   "source": [
    "model_name=\"col\"\n",
    "def scheduler(epoch, lr):\n",
    "    return 0.001\n",
    "\n",
    "callback_LR = tf.keras.callbacks.LearningRateScheduler(scheduler)\n",
    "\n",
    "callbacks = [callback_LR,\n",
    "        \n",
    "\n",
    "        \n",
    "        #savemodela,\n",
    "    ModelCheckpoint(filepath=model_name+\"_{val_MSE:.5f}_.hdf5\", monitor='val_MSE',\n",
    "                        verbose=1, save_best_only=True, mode='min')]"
   ]
  },
  {
   "cell_type": "code",
   "execution_count": 26,
   "metadata": {
    "colab": {
     "base_uri": "https://localhost:8080/"
    },
    "id": "10uUmguL6rT3",
    "outputId": "c8ea910e-707a-41d1-a7c8-c295e68c4c92"
   },
   "outputs": [
    {
     "name": "stdout",
     "output_type": "stream",
     "text": [
      "172\n"
     ]
    }
   ],
   "source": [
    "col_model=blood_model()"
   ]
  },
  {
   "cell_type": "code",
   "execution_count": null,
   "metadata": {
    "colab": {
     "base_uri": "https://localhost:8080/"
    },
    "id": "js1cZV6n5Ocw",
    "outputId": "8b4987eb-fc88-4798-b800-588924b9b8ea",
    "tags": []
   },
   "outputs": [],
   "source": [
    "col_model.fit(X,\n",
    "          X,\n",
    "          epochs=230, \n",
    "          batch_size=22,\n",
    "          validation_split=0.1,\n",
    "          verbose=0,\n",
    "          callbacks=callbacks,\n",
    "          shuffle=False\n",
    "          \n",
    "          )"
   ]
  },
  {
   "cell_type": "code",
   "execution_count": null,
   "metadata": {
    "id": "zQzTylLI8x1b"
   },
   "outputs": [],
   "source": []
  },
  {
   "cell_type": "code",
   "execution_count": 28,
   "metadata": {
    "id": "clK4Ff7Q8yNi"
   },
   "outputs": [],
   "source": [
    "model_name=\"hemo\"\n",
    "def scheduler(epoch, lr):\n",
    "    return 0.001\n",
    "\n",
    "callback_LR = tf.keras.callbacks.LearningRateScheduler(scheduler)\n",
    "\n",
    "callbacks = [callback_LR,\n",
    "        \n",
    "        #savemodela,\n",
    "            ModelCheckpoint(filepath=model_name+\"_{val_MSE:.5f}_.hdf5\", monitor='val_MSE',\n",
    "                        verbose=1, save_best_only=True, mode='min')]"
   ]
  },
  {
   "cell_type": "code",
   "execution_count": 29,
   "metadata": {
    "colab": {
     "base_uri": "https://localhost:8080/"
    },
    "id": "kEj94ZvU8yNi",
    "outputId": "aea0ebdf-3535-4144-dc31-f15fddad3258"
   },
   "outputs": [
    {
     "name": "stdout",
     "output_type": "stream",
     "text": [
      "172\n"
     ]
    }
   ],
   "source": [
    "hemo_model=blood_model()"
   ]
  },
  {
   "cell_type": "code",
   "execution_count": null,
   "metadata": {
    "colab": {
     "base_uri": "https://localhost:8080/"
    },
    "id": "ISspsn5U8yNj",
    "outputId": "bc6ad32a-e16e-4d28-fa05-7df4e1e275a6",
    "tags": []
   },
   "outputs": [],
   "source": [
    "hemo_model.fit(X,\n",
    "          X,\n",
    "          epochs=230, \n",
    "          batch_size=12,\n",
    "          validation_split=0.1,\n",
    "          verbose=1,\n",
    "          callbacks=callbacks,\n",
    "          shuffle=False\n",
    "          \n",
    "          )"
   ]
  },
  {
   "cell_type": "code",
   "execution_count": null,
   "metadata": {},
   "outputs": [],
   "source": []
  },
  {
   "cell_type": "code",
   "execution_count": 32,
   "metadata": {
    "id": "OGCsVpcqGqxW"
   },
   "outputs": [
    {
     "data": {
      "text/plain": [
       "array([0.57629797, 0.56316263, 0.56058608, 0.55348446, 0.55432924,\n",
       "       0.52801177, 0.52429853, 0.50529651, 0.49396945, 0.4908818 ,\n",
       "       0.47677241, 0.47466856, 0.46398309, 0.46296189, 0.45314056,\n",
       "       0.4461359 , 0.44496283, 0.44416027, 0.43586569, 0.43853278,\n",
       "       0.43820073, 0.43619613, 0.43587531, 0.43594288, 0.42574665,\n",
       "       0.43109712, 0.43362324, 0.43267825, 0.42976148, 0.43394287,\n",
       "       0.43184588, 0.43866202, 0.4327672 , 0.431208  , 0.43553574,\n",
       "       0.4331199 , 0.43502257, 0.4306428 , 0.43040646, 0.42566461,\n",
       "       0.42792858, 0.42574241, 0.42172644, 0.42014705, 0.41649629,\n",
       "       0.40968119, 0.4075168 , 0.40835163, 0.40112821, 0.39484841,\n",
       "       0.39387877, 0.38614882, 0.38647705, 0.38217006, 0.37493735,\n",
       "       0.3699833 , 0.36920971, 0.36554815, 0.36796923, 0.37310292,\n",
       "       0.36670567, 0.36726969, 0.36314847, 0.36048029, 0.35013203,\n",
       "       0.34812045, 0.34701882, 0.34821374, 0.34586192, 0.34227702,\n",
       "       0.33816833, 0.33752315, 0.3293699 , 0.32742852, 0.32797626,\n",
       "       0.33083536, 0.32914957, 0.32558565, 0.32854013, 0.32489118,\n",
       "       0.32763553, 0.32268793, 0.32471043, 0.32477654, 0.32777237,\n",
       "       0.32324369, 0.33661891, 0.32772645, 0.34117559, 0.35148201,\n",
       "       0.35611798, 0.37398871, 0.38500219, 0.39640828, 0.38278791,\n",
       "       0.37345291, 0.36796506, 0.41209976, 0.44799876, 0.4751124 ,\n",
       "       0.49390866, 0.50908884, 0.50498962, 0.52766934, 0.51299644,\n",
       "       0.53185619, 0.51935328, 0.52153109, 0.5310491 , 0.51522856,\n",
       "       0.53691973, 0.52866114, 0.52961459, 0.51565529, 0.52190762,\n",
       "       0.50633925, 0.51652873, 0.49864982, 0.50277591, 0.51621802,\n",
       "       0.48366857, 0.47639617, 0.48390998, 0.48475953, 0.48643267,\n",
       "       0.49337017, 0.49273252, 0.48475714, 0.47908674, 0.4763046 ,\n",
       "       0.49069309, 0.45306394, 0.46073286, 0.45449013, 0.44998206,\n",
       "       0.43854898, 0.44913231, 0.43648787, 0.44366703, 0.42473778,\n",
       "       0.42500142, 0.42001265, 0.41395929, 0.4030515 , 0.41497018,\n",
       "       0.39982889, 0.42165358, 0.39275148, 0.40581242, 0.41781623,\n",
       "       0.37859613, 0.37810565, 0.40451744, 0.38553334, 0.39450735,\n",
       "       0.39396418, 0.363832  , 0.37192182, 0.39733949, 0.37355485,\n",
       "       0.37331531, 0.38031406, 0.38220082, 0.36529246, 0.42135265,\n",
       "       0.42164151, 0.40879039, 0.37801764, 0.32558488, 0.32657456,\n",
       "       0.54164791, 0.37451571])"
      ]
     },
     "execution_count": 32,
     "metadata": {},
     "output_type": "execute_result"
    }
   ],
   "source": [
    "X[0]"
   ]
  },
  {
   "cell_type": "code",
   "execution_count": 33,
   "metadata": {
    "id": "IRG7_4hLQdc2"
   },
   "outputs": [],
   "source": [
    "col_pred=col_model.predict(X)\n",
    "hemo_pred=hemo_model.predict(X)\n",
    "hdl_pred=hdl_model.predict(X)\n"
   ]
  },
  {
   "cell_type": "code",
   "execution_count": 36,
   "metadata": {},
   "outputs": [],
   "source": [
    "# load models\n",
    "from keras.models import load_model\n",
    "base_path=\"./models/\"\n",
    "\n",
    "col_name_bottle=base_path+\"col_0.00011_.hdf5\"\n",
    "hemo_name_bottle=base_path+\"hemo_0.00012_.hdf5\"\n",
    "hdl_name_bottle=base_path+\"hdl_col_0.00011_.hdf5\"\n",
    "\n",
    "col_model=load_model(col_name_bottle)\n",
    "hemo_model=load_model(hemo_name_bottle)\n",
    "hdl_model=load_model(hdl_name_bottle)\n"
   ]
  },
  {
   "cell_type": "code",
   "execution_count": 37,
   "metadata": {},
   "outputs": [],
   "source": [
    "col_model_bottle=Model(col_model.inputs,col_model.get_layer(\"bottle\").output)\n",
    "hemo_model_bottle=Model(hemo_model.inputs,hemo_model.get_layer(\"bottle\").output)\n",
    "hdl_model_bottle=Model(hdl_model.inputs,hdl_model.get_layer(\"bottle\").output)\n",
    "\n",
    "\n"
   ]
  },
  {
   "cell_type": "code",
   "execution_count": 38,
   "metadata": {},
   "outputs": [],
   "source": [
    "col_pred_bottle=col_model_bottle.predict(X)\n",
    "hemo_pred_bottle=hemo_model_bottle.predict(X)\n",
    "hdl_pred_bottle=hdl_model_bottle.predict(X)\n",
    "\n"
   ]
  },
  {
   "cell_type": "code",
   "execution_count": 39,
   "metadata": {
    "colab": {
     "base_uri": "https://localhost:8080/"
    },
    "id": "I6erc4HdQnWu",
    "outputId": "a7cf9433-dda7-4908-f685-19ad060eccff"
   },
   "outputs": [
    {
     "data": {
      "text/plain": [
       "array([[ 1.0023874e+00, -1.7152926e-01,  7.8072733e-01, ...,\n",
       "         2.6708689e-01,  1.0870309e+00,  8.6771220e-01],\n",
       "       [ 1.5077180e+00, -1.2614600e-01,  1.2329315e+00, ...,\n",
       "         5.3900707e-01,  1.2220757e+00,  7.9188347e-01],\n",
       "       [ 1.4797244e+00, -1.3749507e-01,  1.0470641e+00, ...,\n",
       "         6.0337514e-01,  1.0295019e+00,  9.0562814e-01],\n",
       "       ...,\n",
       "       [ 1.7762965e+00,  8.2648406e-04,  1.3377172e+00, ...,\n",
       "         5.1759613e-01,  1.2506130e+00,  1.6925223e+00],\n",
       "       [ 7.6701200e-01, -8.5423224e-02,  4.9993426e-01, ...,\n",
       "         2.6282737e-01,  7.3671734e-01,  1.3329355e+00],\n",
       "       [ 1.8276753e+00, -2.2859766e-01,  1.3788316e+00, ...,\n",
       "         6.0244423e-01,  1.2723386e+00,  1.2614057e+00]], dtype=float32)"
      ]
     },
     "execution_count": 39,
     "metadata": {},
     "output_type": "execute_result"
    }
   ],
   "source": [
    "col_pred_bottle"
   ]
  },
  {
   "cell_type": "code",
   "execution_count": 40,
   "metadata": {},
   "outputs": [],
   "source": [
    "NUM_OF_COMP=4"
   ]
  },
  {
   "cell_type": "code",
   "execution_count": 41,
   "metadata": {},
   "outputs": [
    {
     "name": "stdout",
     "output_type": "stream",
     "text": [
      "[0.5904     0.2510775  0.06682388 0.0324425 ]\n",
      "[77.88374  50.789925 26.202307 18.25706 ]\n"
     ]
    }
   ],
   "source": [
    "\n",
    "\n",
    "import numpy as np\n",
    "from sklearn.decomposition import PCA\n",
    "\n",
    "col_pca = PCA(n_components=NUM_OF_COMP)\n",
    "col_pca_values=col_pca.fit_transform(col_pred_bottle)\n",
    "\n",
    "print(col_pca.explained_variance_ratio_)\n",
    "\n",
    "print(col_pca.singular_values_)"
   ]
  },
  {
   "cell_type": "code",
   "execution_count": 42,
   "metadata": {},
   "outputs": [
    {
     "name": "stdout",
     "output_type": "stream",
     "text": [
      "[0.55360365 0.29172048 0.056209   0.03384098]\n",
      "[69.85001  50.704967 22.257172 17.269846]\n"
     ]
    }
   ],
   "source": [
    "import numpy as np\n",
    "from sklearn.decomposition import PCA\n",
    "\n",
    "hemo_pca = PCA(n_components=NUM_OF_COMP)\n",
    "hemo_pca_values=hemo_pca.fit_transform(hemo_pred_bottle)\n",
    "\n",
    "print(hemo_pca.explained_variance_ratio_)\n",
    "\n",
    "print(hemo_pca.singular_values_)"
   ]
  },
  {
   "cell_type": "code",
   "execution_count": 43,
   "metadata": {},
   "outputs": [
    {
     "name": "stdout",
     "output_type": "stream",
     "text": [
      "[0.610399   0.28160116 0.04182229 0.02223142]\n",
      "[82.674736 56.154312 21.640625 15.777912]\n"
     ]
    }
   ],
   "source": [
    "import numpy as np\n",
    "from sklearn.decomposition import PCA\n",
    "\n",
    "hdl_pca = PCA(n_components=NUM_OF_COMP)\n",
    "hdl_pca_values=hdl_pca.fit_transform(hdl_pred_bottle)\n",
    "\n",
    "print(hdl_pca.explained_variance_ratio_)\n",
    "\n",
    "print(hdl_pca.singular_values_)"
   ]
  },
  {
   "cell_type": "code",
   "execution_count": null,
   "metadata": {},
   "outputs": [],
   "source": []
  },
  {
   "cell_type": "code",
   "execution_count": 44,
   "metadata": {},
   "outputs": [],
   "source": [
    "colors=df[\"hdl_cholesterol_human\"]\n"
   ]
  },
  {
   "cell_type": "code",
   "execution_count": 45,
   "metadata": {},
   "outputs": [],
   "source": [
    "colors_num=[]\n",
    "for col in colors:\n",
    "    if col==\"ok\":\n",
    "        colors_num.append(0)\n",
    "    if col==\"high\":\n",
    "        colors_num.append(12)\n",
    "    if col==\"low\":\n",
    "        colors_num.append(24)\n",
    "    \n",
    "        "
   ]
  },
  {
   "cell_type": "code",
   "execution_count": null,
   "metadata": {},
   "outputs": [],
   "source": []
  },
  {
   "cell_type": "code",
   "execution_count": 46,
   "metadata": {},
   "outputs": [
    {
     "data": {
      "image/png": "[encoded data removed]",
      "text/plain": [
       "<Figure size 432x288 with 1 Axes>"
      ]
     },
     "metadata": {
      "needs_background": "light"
     },
     "output_type": "display_data"
    }
   ],
   "source": [
    "import numpy as np\n",
    "import matplotlib.pyplot as plt\n",
    "\n",
    "N = 50\n",
    "x = np.random.rand(N)\n",
    "y = np.random.rand(N)\n",
    "\n",
    "plt.scatter(col_pca_values[:,0], col_pca_values[:,1],c=colors_num, alpha=0.1)\n",
    "plt.show()"
   ]
  },
  {
   "cell_type": "code",
   "execution_count": 47,
   "metadata": {},
   "outputs": [
    {
     "data": {
      "image/png": "[encoded data removed]",
      "text/plain": [
       "<Figure size 432x288 with 1 Axes>"
      ]
     },
     "metadata": {
      "needs_background": "light"
     },
     "output_type": "display_data"
    }
   ],
   "source": [
    "import numpy as np\n",
    "import matplotlib.pyplot as plt\n",
    "\n",
    "N = 50\n",
    "x = np.random.rand(N)\n",
    "y = np.random.rand(N)\n",
    "\n",
    "plt.scatter(hemo_pca_values[:,0], hemo_pca_values[:,1],c=colors_num, alpha=0.1)\n",
    "plt.show()"
   ]
  },
  {
   "cell_type": "code",
   "execution_count": 48,
   "metadata": {},
   "outputs": [
    {
     "data": {
      "image/png": "[encoded data removed]",
      "text/plain": [
       "<Figure size 432x288 with 1 Axes>"
      ]
     },
     "metadata": {
      "needs_background": "light"
     },
     "output_type": "display_data"
    }
   ],
   "source": [
    "import numpy as np\n",
    "import matplotlib.pyplot as plt\n",
    "\n",
    "N = 50\n",
    "x = np.random.rand(N)\n",
    "y = np.random.rand(N)\n",
    "\n",
    "plt.scatter(hdl_pca_values[:,0], hdl_pca_values[:,1],c=colors_num, alpha=0.1)\n",
    "plt.show()"
   ]
  },
  {
   "cell_type": "code",
   "execution_count": 49,
   "metadata": {},
   "outputs": [
    {
     "data": {
      "text/plain": [
       "0          ok\n",
       "1          ok\n",
       "2          ok\n",
       "3         low\n",
       "4          ok\n",
       "         ... \n",
       "13135    high\n",
       "13136      ok\n",
       "13137      ok\n",
       "13138      ok\n",
       "13139    high\n",
       "Name: hdl_cholesterol_human, Length: 13140, dtype: object"
      ]
     },
     "execution_count": 49,
     "metadata": {},
     "output_type": "execute_result"
    }
   ],
   "source": [
    "col_pred_bottle=col_model_bottle.predict(X)\n",
    "hemo_pred_bottle=hemo_model_bottle.predict(X)\n",
    "hdl_pred_bottle=hdl_model_bottle.predict(X)\n",
    "df[\"hdl_cholesterol_human\"]"
   ]
  },
  {
   "cell_type": "code",
   "execution_count": 50,
   "metadata": {},
   "outputs": [
    {
     "data": {
      "text/html": [
       "<div>\n",
       "<style scoped>\n",
       "    .dataframe tbody tr th:only-of-type {\n",
       "        vertical-align: middle;\n",
       "    }\n",
       "\n",
       "    .dataframe tbody tr th {\n",
       "        vertical-align: top;\n",
       "    }\n",
       "\n",
       "    .dataframe thead th {\n",
       "        text-align: right;\n",
       "    }\n",
       "</style>\n",
       "<table border=\"1\" class=\"dataframe\">\n",
       "  <thead>\n",
       "    <tr style=\"text-align: right;\">\n",
       "      <th></th>\n",
       "      <th>Reading_ID</th>\n",
       "      <th>absorbance0</th>\n",
       "      <th>absorbance1</th>\n",
       "      <th>absorbance2</th>\n",
       "      <th>absorbance3</th>\n",
       "      <th>absorbance4</th>\n",
       "      <th>absorbance5</th>\n",
       "      <th>absorbance6</th>\n",
       "      <th>absorbance7</th>\n",
       "      <th>absorbance8</th>\n",
       "      <th>...</th>\n",
       "      <th>absorbance165</th>\n",
       "      <th>absorbance166</th>\n",
       "      <th>absorbance167</th>\n",
       "      <th>absorbance168</th>\n",
       "      <th>absorbance169</th>\n",
       "      <th>temperature</th>\n",
       "      <th>humidity</th>\n",
       "      <th>hdl_cholesterol_human</th>\n",
       "      <th>hemoglobin(hgb)_human</th>\n",
       "      <th>cholesterol_ldl_human</th>\n",
       "    </tr>\n",
       "  </thead>\n",
       "  <tbody>\n",
       "  </tbody>\n",
       "</table>\n",
       "<p>0 rows × 176 columns</p>\n",
       "</div>"
      ],
      "text/plain": [
       "Empty DataFrame\n",
       "Columns: [Reading_ID, absorbance0, absorbance1, absorbance2, absorbance3, absorbance4, absorbance5, absorbance6, absorbance7, absorbance8, absorbance9, absorbance10, absorbance11, absorbance12, absorbance13, absorbance14, absorbance15, absorbance16, absorbance17, absorbance18, absorbance19, absorbance20, absorbance21, absorbance22, absorbance23, absorbance24, absorbance25, absorbance26, absorbance27, absorbance28, absorbance29, absorbance30, absorbance31, absorbance32, absorbance33, absorbance34, absorbance35, absorbance36, absorbance37, absorbance38, absorbance39, absorbance40, absorbance41, absorbance42, absorbance43, absorbance44, absorbance45, absorbance46, absorbance47, absorbance48, absorbance49, absorbance50, absorbance51, absorbance52, absorbance53, absorbance54, absorbance55, absorbance56, absorbance57, absorbance58, absorbance59, absorbance60, absorbance61, absorbance62, absorbance63, absorbance64, absorbance65, absorbance66, absorbance67, absorbance68, absorbance69, absorbance70, absorbance71, absorbance72, absorbance73, absorbance74, absorbance75, absorbance76, absorbance77, absorbance78, absorbance79, absorbance80, absorbance81, absorbance82, absorbance83, absorbance84, absorbance85, absorbance86, absorbance87, absorbance88, absorbance89, absorbance90, absorbance91, absorbance92, absorbance93, absorbance94, absorbance95, absorbance96, absorbance97, absorbance98, ...]\n",
       "Index: []\n",
       "\n",
       "[0 rows x 176 columns]"
      ]
     },
     "execution_count": 50,
     "metadata": {},
     "output_type": "execute_result"
    }
   ],
   "source": [
    "df.head(0)"
   ]
  },
  {
   "cell_type": "code",
   "execution_count": 80,
   "metadata": {},
   "outputs": [],
   "source": [
    "# def a search matrix\n",
    "def create_search_list(pred,df,str_index):\n",
    "    out=[]\n",
    "    for i,vec in enumerate(pred):\n",
    "        out.append([vec,df[str_index].values[i]])\n",
    "    return(out)\n",
    "    \n",
    "    "
   ]
  },
  {
   "cell_type": "code",
   "execution_count": 124,
   "metadata": {},
   "outputs": [],
   "source": [
    "col_search_list=create_search_list(col_pred_bottle,df,\"cholesterol_ldl_human\")\n",
    "hemo_search_list=create_search_list(hemo_pred_bottle,df,\"hemoglobin(hgb)_human\")\n",
    "\n",
    "hdl_search_list=create_search_list(hdl_pred_bottle,df,\"hdl_cholesterol_human\")"
   ]
  },
  {
   "cell_type": "code",
   "execution_count": 125,
   "metadata": {},
   "outputs": [
    {
     "data": {
      "text/plain": [
       "[[array([ 1.0023874 , -0.17152926,  0.7807273 , -0.3064185 ,  0.8985935 ,\n",
       "         -0.2756584 ,  0.2670869 ,  1.0870309 ,  0.8677122 ], dtype=float32),\n",
       "  'ok'],\n",
       " [array([ 1.507718  , -0.126146  ,  1.2329315 , -0.30984885,  1.1060677 ,\n",
       "         -0.11846285,  0.53900707,  1.2220757 ,  0.79188347], dtype=float32),\n",
       "  'high'],\n",
       " [array([ 1.4797244 , -0.13749507,  1.0470641 , -0.05418213,  0.6311482 ,\n",
       "         -0.11460508,  0.60337514,  1.0295019 ,  0.90562814], dtype=float32),\n",
       "  'high'],\n",
       " [array([ 1.2184584 , -0.10153126,  0.62347853, -0.34787345,  0.6755314 ,\n",
       "         -0.29817125,  0.49377733,  1.1667781 ,  1.3839679 ], dtype=float32),\n",
       "  'high'],\n",
       " [array([ 1.2081895 , -0.3171554 ,  1.0326277 , -0.14286268,  0.8144701 ,\n",
       "         -0.33406392,  0.3450993 ,  1.0061659 ,  1.967993  ], dtype=float32),\n",
       "  'high'],\n",
       " [array([ 1.4925443 , -0.38200963,  1.741494  , -0.44272128,  1.6574074 ,\n",
       "         -0.11864759,  0.53931135,  1.783843  ,  1.2375283 ], dtype=float32),\n",
       "  'ok'],\n",
       " [array([ 0.31410152, -0.22958708,  0.89364094, -0.07955703,  0.7063193 ,\n",
       "         -0.1018821 ,  0.28435957,  0.98014635,  1.8901775 ], dtype=float32),\n",
       "  'high'],\n",
       " [array([ 1.1721332 , -0.19055268,  0.64741474, -0.25049224,  0.884929  ,\n",
       "         -0.11648744,  0.25562507,  0.82281035,  1.4449788 ], dtype=float32),\n",
       "  'high']]"
      ]
     },
     "execution_count": 125,
     "metadata": {},
     "output_type": "execute_result"
    }
   ],
   "source": [
    "col_search_list[0:8]"
   ]
  },
  {
   "cell_type": "code",
   "execution_count": 126,
   "metadata": {},
   "outputs": [],
   "source": [
    "def cosine_similarity(x, y):\n",
    "    return np.dot(x, y) / (np.sqrt(np.dot(x, x)) * np.sqrt(np.dot(y, y)))\n"
   ]
  },
  {
   "cell_type": "code",
   "execution_count": 127,
   "metadata": {},
   "outputs": [
    {
     "name": "stdout",
     "output_type": "stream",
     "text": [
      "0.92380166\n"
     ]
    }
   ],
   "source": [
    "# calculate a cosine similarity between items im col_search_list\n",
    "item1=col_search_list[5][0]\n",
    "item2=col_search_list[7][0]\n",
    "\n",
    "print(cosine_similarity(item1,item2))"
   ]
  },
  {
   "cell_type": "code",
   "execution_count": 215,
   "metadata": {},
   "outputs": [],
   "source": [
    "def generate_similarity(it1,sim_table):\n",
    "    out=[]\n",
    "    for it2 in sim_table:\n",
    "        \n",
    "        diff=cosine_similarity(it1,it2[0])\n",
    "        if 1-diff<0.002:\n",
    "            \n",
    "            out.append(it2[1])\n",
    "    return(out)"
   ]
  },
  {
   "cell_type": "code",
   "execution_count": 216,
   "metadata": {},
   "outputs": [],
   "source": [
    "simgent=generate_similarity(item1,col_search_list)"
   ]
  },
  {
   "cell_type": "code",
   "execution_count": 217,
   "metadata": {},
   "outputs": [],
   "source": [
    "def statistic(a):\n",
    "    c=list(set(a))\n",
    "    #print(c)\n",
    "    out={}\n",
    "    for i in c:\n",
    "        out[i]=a.count(i)\n",
    "    return(out)"
   ]
  },
  {
   "cell_type": "code",
   "execution_count": 218,
   "metadata": {},
   "outputs": [],
   "source": [
    "def find_max(dict):\n",
    "    max=0\n",
    "    sum=0\n",
    "    outkey=\"\"\n",
    "    for key in dict.keys():\n",
    "        akt=dict[key]\n",
    "        sum+=akt\n",
    "        if max<akt:\n",
    "            max=akt\n",
    "            outkey=key\n",
    "    return outkey,max"
   ]
  },
  {
   "cell_type": "code",
   "execution_count": 219,
   "metadata": {},
   "outputs": [
    {
     "data": {
      "text/plain": [
       "'ok'"
      ]
     },
     "execution_count": 219,
     "metadata": {},
     "output_type": "execute_result"
    }
   ],
   "source": [
    "result,_=find_max(statistic(simgent))\n",
    "result"
   ]
  },
  {
   "cell_type": "markdown",
   "metadata": {},
   "source": [
    "### ----"
   ]
  },
  {
   "cell_type": "code",
   "execution_count": 220,
   "metadata": {
    "id": "FPrb8UWtRF_W"
   },
   "outputs": [],
   "source": [
    "import numpy as np\n",
    "col_argm=np.argmax(col_pred,axis=1)\n",
    "hemo_argm=np.argmax(hemo_pred,axis=1)\n",
    "hdl_argm=np.argmax(hdl_pred,axis=1)\n",
    "\n",
    "\n"
   ]
  },
  {
   "cell_type": "code",
   "execution_count": null,
   "metadata": {
    "id": "ct_bAj1a72Sx"
   },
   "outputs": [],
   "source": [
    "\n",
    "\n",
    "\n"
   ]
  },
  {
   "cell_type": "code",
   "execution_count": 221,
   "metadata": {
    "id": "yaI_Aww88-nw"
   },
   "outputs": [],
   "source": [
    "def calc_status(pred,dfcolumn):\n",
    "    i=0\n",
    "    for index,element in enumerate(pred):\n",
    "\n",
    "        if element != dfcolumn.iloc[index]:\n",
    "            #print(f\"{index}\")\n",
    "            i +=1\n",
    "    print(f\"{i} hibás, {i/len(pred)*100} % hiba\")        "
   ]
  },
  {
   "cell_type": "code",
   "execution_count": null,
   "metadata": {
    "colab": {
     "base_uri": "https://localhost:8080/"
    },
    "id": "s6tAhxQw-BlL",
    "outputId": "bc281bc4-0d37-4498-9b7f-cc0d3326cf04"
   },
   "outputs": [],
   "source": []
  },
  {
   "cell_type": "code",
   "execution_count": null,
   "metadata": {
    "colab": {
     "base_uri": "https://localhost:8080/"
    },
    "id": "DIWbc4Co_1k0",
    "outputId": "e4928372-8439-4bb5-f6a9-e39bc02750f7"
   },
   "outputs": [],
   "source": []
  },
  {
   "cell_type": "code",
   "execution_count": null,
   "metadata": {
    "colab": {
     "base_uri": "https://localhost:8080/"
    },
    "id": "1N9WpCjJ_xbh",
    "outputId": "78fbe107-f413-4794-a2ab-a39ca2847e6f"
   },
   "outputs": [],
   "source": []
  },
  {
   "cell_type": "code",
   "execution_count": null,
   "metadata": {
    "colab": {
     "base_uri": "https://localhost:8080/"
    },
    "id": "jZCPalQ3AZoT",
    "outputId": "4151299c-4280-431d-ab77-da2d6849100a"
   },
   "outputs": [],
   "source": []
  },
  {
   "cell_type": "code",
   "execution_count": 222,
   "metadata": {},
   "outputs": [],
   "source": [
    "# submission generation\n",
    "!rm \"./Test.csv\""
   ]
  },
  {
   "cell_type": "code",
   "execution_count": 223,
   "metadata": {},
   "outputs": [
    {
     "name": "stdout",
     "output_type": "stream",
     "text": [
      "--2021-11-30 22:47:04--  https://github.com/sipocz/Blood/raw/9326effc5771a0f4cbeef5d97e329c986c9ba9dd/orig/Test.csv\n",
      "Resolving github.com (github.com)... 140.82.121.3\n",
      "Connecting to github.com (github.com)|140.82.121.3|:443... connected.\n",
      "HTTP request sent, awaiting response... 302 Found\n",
      "Location: https://raw.githubusercontent.com/sipocz/Blood/9326effc5771a0f4cbeef5d97e329c986c9ba9dd/orig/Test.csv [following]\n",
      "--2021-11-30 22:47:04--  https://raw.githubusercontent.com/sipocz/Blood/9326effc5771a0f4cbeef5d97e329c986c9ba9dd/orig/Test.csv\n",
      "Resolving raw.githubusercontent.com (raw.githubusercontent.com)... 185.199.110.133, 185.199.109.133, 185.199.108.133, ...\n",
      "Connecting to raw.githubusercontent.com (raw.githubusercontent.com)|185.199.110.133|:443... connected.\n",
      "HTTP request sent, awaiting response... 200 OK\n",
      "Length: 10299206 (9,8M) [text/plain]\n",
      "Saving to: ‘Test.csv’\n",
      "\n",
      "Test.csv            100%[===================>]   9,82M  10,1MB/s    in 1,0s    \n",
      "\n",
      "2021-11-30 22:47:05 (10,1 MB/s) - ‘Test.csv’ saved [10299206/10299206]\n",
      "\n"
     ]
    }
   ],
   "source": [
    "!wget https://github.com/sipocz/Blood/raw/9326effc5771a0f4cbeef5d97e329c986c9ba9dd/orig/Test.csv"
   ]
  },
  {
   "cell_type": "code",
   "execution_count": 224,
   "metadata": {},
   "outputs": [],
   "source": [
    "test_df=pd.read_csv(\"./Test.csv\")\n",
    "test_df.head()\n",
    "\n",
    "test_df['hdl_cholesterol_human']=0\n",
    "test_df[\"hemoglobin(hgb)_human\"]=0\n",
    "test_df[\"cholesterol_ldl_human\"]=0"
   ]
  },
  {
   "cell_type": "code",
   "execution_count": 225,
   "metadata": {},
   "outputs": [],
   "source": [
    "test_transform=minmax.transform(test_df.iloc[:,1:])"
   ]
  },
  {
   "cell_type": "code",
   "execution_count": 226,
   "metadata": {},
   "outputs": [],
   "source": [
    "X_test=test_transform[:,:-3]"
   ]
  },
  {
   "cell_type": "code",
   "execution_count": null,
   "metadata": {},
   "outputs": [],
   "source": []
  },
  {
   "cell_type": "code",
   "execution_count": 227,
   "metadata": {},
   "outputs": [],
   "source": [
    "col_pred_test_bottle=col_model_bottle.predict(X_test)\n",
    "hemo_pred_test_bottle=hemo_model_bottle.predict(X_test)\n",
    "hdl_pred_test_bottle=hdl_model_bottle.predict(X_test)"
   ]
  },
  {
   "cell_type": "markdown",
   "metadata": {},
   "source": [
    "### a predikalt értékeket a search_list -hez kell hasonlítani"
   ]
  },
  {
   "cell_type": "code",
   "execution_count": null,
   "metadata": {},
   "outputs": [],
   "source": []
  },
  {
   "cell_type": "code",
   "execution_count": 228,
   "metadata": {},
   "outputs": [],
   "source": [
    "import numpy as np\n"
   ]
  },
  {
   "cell_type": "code",
   "execution_count": 229,
   "metadata": {},
   "outputs": [],
   "source": [
    "col_predicted_test=[]\n",
    "hemo_predicted_test=[]\n",
    "hdl_predicted_test=[]"
   ]
  },
  {
   "cell_type": "code",
   "execution_count": 230,
   "metadata": {},
   "outputs": [
    {
     "name": "stdout",
     "output_type": "stream",
     "text": [
      "NaN,ok,NaN,NaN,NaN,ok,ok,NaN,low,high,NaN,NaN,NaN,NaN,high,ok,NaN,NaN,high,ok,ok,ok,ok,NaN,NaN,high,NaN,ok,ok,NaN,high,high,high,NaN,NaN,ok,high,NaN,NaN,ok,NaN,NaN,ok,ok,NaN,high,NaN,NaN,ok,high,NaN,NaN,high,NaN,ok,ok,high,NaN,high,high,NaN,ok,NaN,NaN,NaN,NaN,ok,high,ok,NaN,high,ok,NaN,ok,ok,NaN,NaN,NaN,NaN,NaN,ok,low,high,NaN,NaN,high,ok,ok,ok,NaN,high,NaN,ok,ok,NaN,ok,NaN,ok,NaN,NaN,ok,ok,NaN,NaN,NaN,NaN,ok,ok,NaN,NaN,NaN,ok,NaN,ok,high,ok,NaN,ok,NaN,NaN,NaN,NaN,NaN,high,high,high,ok,NaN,ok,NaN,NaN,NaN,high,ok,NaN,ok,NaN,NaN,ok,NaN,NaN,NaN,high,NaN,ok,ok,NaN,ok,high,high,ok,ok,NaN,NaN,high,NaN,NaN,ok,high,NaN,NaN,high,ok,ok,NaN,NaN,high,ok,high,ok,NaN,ok,high,low,NaN,NaN,high,NaN,high,high,ok,NaN,NaN,ok,NaN,NaN,NaN,NaN,high,NaN,ok,ok,NaN,NaN,high,NaN,NaN,NaN,high,NaN,high,high,NaN,high,ok,ok,NaN,NaN,NaN,ok,high,NaN,ok,ok,NaN,NaN,high,NaN,NaN,ok,NaN,NaN,NaN,high,NaN,NaN,high,NaN,NaN,NaN,NaN,NaN,NaN,ok,high,NaN,NaN,high,NaN,high,ok,high,NaN,ok,NaN,NaN,high,NaN,ok,NaN,high,high,NaN,ok,NaN,NaN,high,NaN,ok,NaN,NaN,high,NaN,NaN,NaN,NaN,ok,NaN,ok,NaN,NaN,NaN,high,ok,NaN,ok,NaN,high,high,high,ok,NaN,NaN,high,NaN,high,NaN,high,NaN,high,high,high,ok,ok,NaN,NaN,ok,NaN,ok,high,NaN,NaN,NaN,NaN,NaN,NaN,NaN,NaN,NaN,high,ok,high,NaN,low,NaN,high,ok,high,high,ok,ok,ok,NaN,NaN,NaN,high,ok,NaN,ok,ok,NaN,NaN,NaN,ok,high,NaN,NaN,NaN,ok,NaN,high,NaN,NaN,NaN,high,high,NaN,NaN,NaN,ok,ok,ok,ok,ok,ok,NaN,ok,high,ok,NaN,ok,high,ok,ok,ok,NaN,NaN,NaN,NaN,NaN,NaN,NaN,NaN,NaN,NaN,NaN,high,high,high,high,NaN,NaN,low,ok,high,NaN,NaN,NaN,NaN,NaN,NaN,NaN,high,NaN,high,high,high,NaN,high,NaN,NaN,ok,high,NaN,NaN,high,NaN,NaN,high,NaN,ok,ok,ok,ok,NaN,NaN,ok,ok,NaN,NaN,ok,NaN,high,high,NaN,high,NaN,ok,NaN,ok,high,NaN,ok,high,ok,NaN,NaN,NaN,NaN,high,NaN,high,ok,NaN,ok,high,ok,NaN,high,ok,NaN,high,ok,ok,NaN,NaN,NaN,NaN,ok,ok,NaN,ok,ok,NaN,ok,ok,NaN,NaN,NaN,NaN,ok,NaN,NaN,NaN,NaN,NaN,NaN,NaN,NaN,ok,NaN,high,NaN,NaN,high,NaN,NaN,high,high,NaN,NaN,ok,NaN,NaN,NaN,ok,ok,NaN,ok,NaN,high,high,NaN,NaN,NaN,NaN,ok,high,NaN,NaN,NaN,NaN,high,NaN,NaN,low,NaN,ok,NaN,ok,ok,NaN,NaN,NaN,high,ok,NaN,high,high,high,NaN,high,ok,NaN,high,NaN,NaN,ok,ok,ok,NaN,NaN,ok,NaN,NaN,NaN,ok,ok,NaN,NaN,NaN,ok,NaN,ok,ok,high,NaN,NaN,NaN,NaN,ok,NaN,high,NaN,NaN,ok,high,NaN,ok,NaN,ok,high,ok,NaN,ok,ok,ok,ok,high,NaN,NaN,NaN,high,NaN,ok,ok,NaN,ok,NaN,high,ok,NaN,NaN,NaN,ok,NaN,high,ok,NaN,NaN,NaN,NaN,NaN,NaN,high,NaN,ok,low,NaN,NaN,high,NaN,NaN,ok,high,NaN,high,high,NaN,NaN,NaN,NaN,high,NaN,NaN,ok,ok,high,NaN,ok,high,high,NaN,high,NaN,NaN,high,ok,high,NaN,NaN,NaN,low,ok,ok,NaN,NaN,NaN,NaN,NaN,ok,high,NaN,ok,ok,high,high,NaN,NaN,high,NaN,NaN,high,high,NaN,NaN,NaN,NaN,NaN,low,NaN,NaN,NaN,NaN,NaN,high,ok,high,ok,ok,high,ok,NaN,NaN,high,NaN,NaN,NaN,high,NaN,ok,NaN,ok,NaN,ok,NaN,NaN,ok,NaN,ok,high,NaN,NaN,NaN,NaN,high,NaN,ok,high,high,high,NaN,ok,ok,NaN,ok,NaN,high,NaN,ok,NaN,ok,NaN,NaN,NaN,ok,ok,high,high,NaN,NaN,high,NaN,NaN,NaN,NaN,NaN,high,NaN,ok,NaN,ok,ok,NaN,NaN,ok,NaN,ok,ok,ok,NaN,NaN,ok,ok,NaN,NaN,NaN,NaN,NaN,ok,high,NaN,NaN,ok,ok,NaN,high,NaN,NaN,ok,high,high,NaN,high,high,NaN,NaN,NaN,ok,NaN,NaN,NaN,NaN,NaN,high,ok,ok,high,high,high,NaN,ok,NaN,NaN,ok,ok,high,high,ok,NaN,NaN,high,NaN,NaN,high,high,NaN,NaN,NaN,NaN,NaN,NaN,NaN,NaN,high,high,high,NaN,ok,NaN,ok,ok,NaN,high,ok,ok,NaN,ok,ok,NaN,NaN,NaN,NaN,ok,ok,NaN,NaN,high,NaN,NaN,NaN,high,NaN,ok,high,high,NaN,high,NaN,NaN,NaN,high,ok,ok,high,NaN,ok,ok,ok,ok,high,NaN,NaN,NaN,NaN,high,NaN,ok,ok,high,NaN,high,NaN,NaN,NaN,NaN,ok,NaN,NaN,NaN,NaN,high,NaN,NaN,NaN,ok,NaN,high,NaN,NaN,NaN,NaN,high,high,ok,NaN,ok,NaN,NaN,ok,NaN,NaN,NaN,NaN,ok,NaN,NaN,high,NaN,high,NaN,NaN,ok,NaN,NaN,ok,NaN,high,NaN,NaN,high,high,ok,NaN,ok,NaN,NaN,NaN,ok,NaN,high,NaN,ok,high,NaN,NaN,NaN,NaN,NaN,ok,NaN,NaN,ok,NaN,NaN,high,NaN,ok,high,NaN,NaN,ok,ok,NaN,ok,high,ok,NaN,NaN,high,NaN,NaN,ok,high,NaN,NaN,NaN,high,ok,NaN,high,NaN,NaN,NaN,NaN,high,ok,NaN,NaN,high,high,NaN,NaN,NaN,ok,NaN,NaN,NaN,NaN,NaN,NaN,NaN,high,ok,low,ok,NaN,NaN,high,high,high,ok,high,NaN,ok,NaN,ok,high,NaN,high,NaN,ok,NaN,NaN,NaN,ok,NaN,NaN,NaN,high,NaN,low,NaN,NaN,NaN,NaN,low,NaN,NaN,NaN,high,NaN,NaN,high,NaN,NaN,ok,ok,ok,high,NaN,ok,NaN,high,ok,ok,NaN,NaN,NaN,high,ok,ok,ok,ok,NaN,high,NaN,NaN,ok,NaN,NaN,NaN,NaN,ok,high,NaN,NaN,NaN,high,NaN,ok,NaN,NaN,high,NaN,ok,ok,NaN,ok,low,NaN,NaN,NaN,NaN,NaN,ok,high,high,ok,NaN,NaN,ok,ok,NaN,NaN,NaN,NaN,NaN,NaN,NaN,ok,NaN,NaN,NaN,NaN,NaN,NaN,NaN,ok,high,NaN,high,NaN,NaN,high,ok,NaN,ok,ok,ok,NaN,NaN,ok,ok,NaN,NaN,ok,NaN,high,ok,high,NaN,NaN,NaN,NaN,high,high,low,high,NaN,high,ok,NaN,ok,NaN,high,NaN,high,NaN,ok,NaN,high,NaN,high,ok,high,high,ok,low,NaN,NaN,NaN,high,ok,NaN,ok,NaN,high,high,NaN,NaN,NaN,ok,ok,NaN,NaN,high,ok,high,high,NaN,ok,high,NaN,low,NaN,high,NaN,high,high,ok,ok,NaN,ok,low,NaN,NaN,high,ok,ok,ok,NaN,ok,NaN,NaN,high,ok,NaN,ok,NaN,high,high,high,high,ok,NaN,ok,NaN,ok,high,NaN,NaN,high,ok,high,NaN,ok,NaN,NaN,NaN,ok,NaN,NaN,ok,NaN,NaN,NaN,ok,ok,NaN,ok,high,NaN,high,ok,NaN,ok,high,ok,NaN,NaN,high,NaN,ok,NaN,NaN,NaN,NaN,NaN,ok,NaN,ok,high,NaN,NaN,NaN,high,ok,high,ok,NaN,NaN,high,ok,high,NaN,ok,NaN,NaN,low,NaN,NaN,NaN,NaN,high,NaN,NaN,high,low,ok,NaN,ok,ok,ok,ok,ok,NaN,high,NaN,NaN,ok,high,NaN,ok,ok,NaN,NaN,NaN,NaN,NaN,ok,NaN,high,high,ok,ok,NaN,ok,NaN,NaN,NaN,NaN,NaN,NaN,NaN,NaN,ok,NaN,high,high,NaN,high,NaN,ok,ok,ok,high,NaN,ok,high,NaN,NaN,high,NaN,ok,ok,ok,NaN,NaN,NaN,NaN,NaN,NaN,high,ok,NaN,ok,NaN,high,NaN,NaN,NaN,ok,NaN,NaN,ok,ok,NaN,NaN,ok,NaN,high,NaN,high,high,ok,NaN,NaN,NaN,ok,NaN,NaN,NaN,NaN,NaN,NaN,NaN,NaN,NaN,ok,NaN,NaN,NaN,NaN,high,high,NaN,ok,ok,NaN,NaN,ok,ok,NaN,NaN,high,NaN,high,NaN,NaN,NaN,ok,high,NaN,ok,ok,NaN,NaN,NaN,NaN,high,NaN,high,NaN,high,NaN,NaN,NaN,high,NaN,NaN,high,NaN,NaN,high,high,high,ok,NaN,ok,low,NaN,NaN,high,ok,NaN,high,high,NaN,NaN,high,NaN,ok,high,NaN,high,high,ok,ok,high,ok,ok,ok,NaN,ok,ok,high,NaN,ok,high,NaN,NaN,ok,NaN,high,NaN,high,NaN,NaN,NaN,ok,NaN,NaN,NaN,ok,ok,NaN,high,NaN,high,NaN,NaN,ok,NaN,ok,ok,high,NaN,high,high,ok,high,ok,NaN,low,ok,ok,high,ok,high,ok,ok,NaN,ok,NaN,ok,NaN,ok,ok,high,ok,high,ok,NaN,high,NaN,ok,NaN,NaN,ok,NaN,ok,ok,NaN,NaN,NaN,NaN,high,NaN,high,NaN,ok,NaN,NaN,NaN,NaN,ok,NaN,NaN,NaN,ok,high,NaN,high,NaN,high,NaN,NaN,high,ok,ok,ok,NaN,ok,NaN,NaN,NaN,NaN,NaN,NaN,ok,ok,ok,NaN,ok,NaN,NaN,NaN,high,ok,NaN,NaN,NaN,NaN,NaN,NaN,ok,NaN,ok,NaN,NaN,ok,NaN,high,ok,high,NaN,NaN,NaN,NaN,NaN,NaN,NaN,NaN,ok,high,NaN,NaN,NaN,ok,ok,NaN,NaN,ok,high,NaN,NaN,NaN,high,NaN,NaN,NaN,NaN,ok,high,high,high,ok,NaN,ok,NaN,ok,ok,high,ok,high,NaN,NaN,high,NaN,ok,ok,NaN,NaN,high,ok,NaN,NaN,ok,high,ok,NaN,NaN,NaN,NaN,ok,NaN,NaN,NaN,high,high,high,NaN,NaN,ok,NaN,NaN,NaN,NaN,ok,ok,ok,ok,NaN,ok,NaN,NaN,high,ok,NaN,NaN,NaN,ok,high,NaN,ok,NaN,NaN,ok,ok,ok,NaN,high,NaN,ok,NaN,NaN,NaN,NaN,NaN,high,NaN,high,NaN,ok,NaN,high,ok,ok,NaN,NaN,NaN,high,NaN,NaN,high,NaN,NaN,ok,NaN,ok,ok,high,ok,NaN,ok,NaN,high,NaN,NaN,ok,NaN,NaN,NaN,NaN,high,NaN,high,NaN,ok,ok,NaN,NaN,ok,ok,ok,high,ok,low,high,high,NaN,NaN,high,high,NaN,ok,ok,ok,high,NaN,ok,high,ok,NaN,NaN,high,NaN,NaN,NaN,NaN,high,ok,NaN,NaN,NaN,high,ok,ok,NaN,NaN,ok,NaN,NaN,NaN,NaN,NaN,NaN,high,NaN,NaN,high,ok,high,NaN,ok,NaN,NaN,high,NaN,ok,ok,NaN,high,high,ok,high,NaN,high,ok,high,NaN,high,NaN,ok,ok,NaN,NaN,NaN,NaN,NaN,ok,NaN,high,ok,NaN,NaN,ok,NaN,NaN,NaN,ok,NaN,NaN,NaN,high,NaN,ok,NaN,NaN,NaN,NaN,high,NaN,high,ok,high,high,NaN,high,NaN,NaN,NaN,NaN,high,NaN,NaN,high,ok,high,NaN,ok,NaN,ok,ok,ok,ok,NaN,NaN,high,NaN,ok,NaN,NaN,NaN,high,NaN,NaN,NaN,high,NaN,NaN,NaN,high,high,NaN,NaN,NaN,NaN,NaN,NaN,high,high,NaN,ok,high,ok,ok,ok,high,NaN,NaN,NaN,NaN,NaN,NaN,ok,ok,NaN,NaN,NaN,high,high,NaN,ok,ok,ok,ok,ok,ok,high,high,ok,NaN,NaN,ok,high,NaN,NaN,ok,ok,high,high,NaN,high,ok,NaN,high,NaN,ok,ok,ok,NaN,NaN,ok,NaN,NaN,ok,NaN,NaN,NaN,NaN,NaN,high,ok,NaN,NaN,NaN,low,NaN,high,NaN,ok,high,ok,NaN,NaN,NaN,NaN,ok,NaN,NaN,NaN,NaN,NaN,NaN,NaN,high,ok,NaN,ok,ok,NaN,NaN,NaN,high,high,NaN,NaN,NaN,high,ok,NaN,ok,high,NaN,NaN,ok,high,high,NaN,high,ok,ok,NaN,NaN,high,NaN,ok,NaN,NaN,high,ok,NaN,NaN,high,NaN,NaN,high,ok,high,NaN,high,NaN,high,NaN,NaN,NaN,high,NaN,NaN,low,ok,NaN,high,ok,ok,high,ok,ok,ok,NaN,ok,NaN,high,high,ok,NaN,NaN,NaN,NaN,NaN,ok,high,ok,high,ok,NaN,high,high,NaN,high,high,NaN,ok,ok,ok,NaN,ok,NaN,NaN,NaN,NaN,ok,high,high,high,ok,NaN,high,high,NaN,high,high,NaN,NaN,NaN,high,NaN,NaN,ok,NaN,ok,NaN,ok,NaN,NaN,NaN,NaN,NaN,NaN,high,high,NaN,ok,high,NaN,high,NaN,NaN,high,NaN,high,NaN,NaN,high,NaN,ok,NaN,NaN,ok,NaN,ok,high,NaN,NaN,high,NaN,ok,NaN,NaN,ok,NaN,NaN,NaN,low,high,high,high,NaN,ok,NaN,ok,high,ok,high,NaN,NaN,high,ok,NaN,high,high,ok,NaN,NaN,NaN,ok,NaN,high,NaN,NaN,NaN,high,high,ok,NaN,NaN,NaN,high,NaN,high,ok,ok,low,NaN,NaN,ok,NaN,high,high,ok,ok,high,NaN,NaN,high,ok,NaN,NaN,ok,high,NaN,ok,NaN,NaN,NaN,NaN,NaN,NaN,NaN,high,ok,ok,NaN,ok,high,NaN,NaN,NaN,high,NaN,high,high,NaN,high,NaN,NaN,NaN,NaN,low,ok,NaN,NaN,NaN,NaN,NaN,ok,ok,ok,NaN,ok,NaN,NaN,ok,NaN,high,NaN,NaN,NaN,high,NaN,ok,NaN,high,NaN,NaN,ok,high,NaN,ok,low,NaN,ok,NaN,NaN,NaN,NaN,NaN,high,NaN,ok,ok,ok,NaN,NaN,high,NaN,ok,high,high,ok,ok,high,NaN,NaN,NaN,low,high,NaN,NaN,NaN,ok,NaN,high,NaN,NaN,ok,NaN,NaN,NaN,NaN,NaN,ok,NaN,NaN,high,NaN,low,ok,low,ok,NaN,NaN,NaN,NaN,ok,ok,ok,NaN,high,ok,high,ok,ok,high,ok,ok,low,ok,NaN,NaN,NaN,NaN,NaN,ok,ok,high,NaN,high,NaN,NaN,NaN,NaN,NaN,high,NaN,NaN,ok,ok,high,high,high,ok,NaN,NaN,NaN,high,NaN,NaN,ok,NaN,NaN,ok,NaN,ok,NaN,ok,NaN,NaN,high,NaN,ok,high,NaN,NaN,ok,NaN,ok,ok,NaN,low,ok,NaN,NaN,NaN,NaN,ok,NaN,NaN,high,NaN,ok,NaN,ok,NaN,NaN,ok,high,ok,high,NaN,high,NaN,ok,high,NaN,NaN,NaN,NaN,NaN,NaN,NaN,ok,NaN,high,high,high,ok,NaN,NaN,ok,high,NaN,high,high,NaN,NaN,NaN,NaN,NaN,high,NaN,ok,NaN,NaN,NaN,ok,high,ok,NaN,NaN,ok,NaN,NaN,NaN,high,high,NaN,ok,NaN,NaN,ok,high,ok,ok,high,NaN,high,NaN,high,ok,ok,low,NaN,high,ok,ok,NaN,ok,NaN,high,NaN,NaN,high,ok,NaN,ok,ok,ok,NaN,ok,NaN,ok,NaN,NaN,high,high,ok,NaN,NaN,NaN,high,high,NaN,high,ok,NaN,NaN,NaN,ok,high,NaN,high,NaN,high,high,NaN,NaN,high,high,high,NaN,NaN,high,high,NaN,high,ok,NaN,NaN,NaN,NaN,NaN,NaN,ok,NaN,NaN,low,NaN,ok,ok,high,NaN,ok,ok,NaN,NaN,NaN,high,ok,high,high,NaN,NaN,ok,NaN,ok,high,high,NaN,ok,NaN,ok,ok,ok,NaN,ok,NaN,ok,high,ok,ok,NaN,NaN,ok,NaN,ok,NaN,ok,ok,ok,NaN,ok,high,ok,NaN,ok,ok,NaN,high,NaN,NaN,high,high,NaN,NaN,NaN,high,high,high,high,ok,NaN,NaN,NaN,high,NaN,ok,ok,ok,high,high,high,high,ok,NaN,NaN,NaN,ok,high,NaN,NaN,NaN,NaN,NaN,high,NaN,NaN,high,NaN,high,NaN,high,NaN,NaN,NaN,NaN,NaN,NaN,ok,ok,high,NaN,ok,high,ok,NaN,NaN,NaN,ok,ok,ok,high,NaN,ok,ok,NaN,high,NaN,NaN,NaN,NaN,NaN,NaN,NaN,NaN,high,ok,NaN,ok,NaN,NaN,NaN,NaN,low,low,ok,high,ok,high,NaN,high,ok,NaN,ok,NaN,NaN,NaN,high,high,NaN,high,NaN,NaN,high,high,ok,high,high,ok,NaN,NaN,high,NaN,high,NaN,high,NaN,high,high,high,NaN,NaN,high,ok,ok,ok,high,high,ok,NaN,high,NaN,ok,NaN,NaN,NaN,high,NaN,NaN,ok,NaN,NaN,NaN,NaN,NaN,NaN,NaN,ok,NaN,high,NaN,ok,NaN,ok,high,NaN,NaN,high,high,NaN,NaN,NaN,NaN,NaN,high,NaN,ok,high,ok,ok,NaN,ok,ok,NaN,ok,NaN,ok,ok,NaN,high,high,ok,NaN,NaN,NaN,NaN,NaN,NaN,high,NaN,NaN,ok,NaN,high,ok,NaN,high,ok,ok,NaN,NaN,NaN,NaN,NaN,ok,NaN,ok,ok,ok,NaN,NaN,ok,NaN,high,ok,NaN,NaN,ok,NaN,high,NaN,high,high,ok,NaN,NaN,NaN,NaN,high,NaN,ok,high,NaN,NaN,NaN,NaN,ok,NaN,ok,low,NaN,ok,NaN,NaN,NaN,NaN,high,high,NaN,NaN,ok,high,high,NaN,NaN,NaN,NaN,high,NaN,NaN,ok,high,NaN,high,high,NaN,NaN,ok,NaN,NaN,NaN,NaN,ok,ok,NaN,NaN,NaN,NaN,high,NaN,ok,ok,NaN,NaN,high,ok,NaN,ok,NaN,NaN,NaN,NaN,NaN,NaN,high,ok,NaN,high,NaN,NaN,NaN,ok,NaN,high,ok,NaN,ok,NaN,NaN,NaN,NaN,ok,NaN,high,high,NaN,NaN,ok,ok,high,NaN,high,NaN,high,NaN,NaN,NaN,high,NaN,NaN,ok,NaN,NaN,NaN,ok,high,NaN,NaN,NaN,NaN,NaN,ok,ok,ok,high,NaN,ok,ok,low,NaN,high,high,NaN,ok,NaN,NaN,ok,high,high,ok,high,ok,NaN,NaN,NaN,NaN,NaN,NaN,NaN,high,NaN,NaN,ok,ok,high,high,high,ok,NaN,NaN,low,high,ok,high,NaN,ok,high,NaN,NaN,NaN,NaN,NaN,NaN,NaN,ok,high,NaN,ok,NaN,ok,NaN,ok,NaN,NaN,NaN,high,high,high,high,ok,high,NaN,ok,high,high,ok,ok,NaN,ok,NaN,ok,NaN,high,ok,NaN,ok,high,high,ok,NaN,NaN,high,high,ok,NaN,high,ok,NaN,NaN,NaN,NaN,ok,high,ok,ok,high,NaN,ok,NaN,ok,NaN,NaN,NaN,ok,high,NaN,NaN,ok,NaN,NaN,NaN,ok,NaN,NaN,ok,ok,NaN,NaN,ok,ok,NaN,NaN,ok,high,low,NaN,NaN,NaN,NaN,NaN,ok,NaN,high,high,NaN,ok,NaN,ok,NaN,NaN,NaN,high,ok,NaN,ok,NaN,high,NaN,NaN,NaN,ok,high,NaN,NaN,NaN,NaN,NaN,high,NaN,ok,NaN,NaN,NaN,ok,high,NaN,high,ok,high,NaN,ok,ok,NaN,low,NaN,ok,NaN,ok,NaN,high,ok,ok,NaN,NaN,ok,high,NaN,ok,ok,NaN,NaN,NaN,NaN,NaN,NaN,ok,low,ok,ok,NaN,NaN,NaN,NaN,ok,ok,NaN,NaN,ok,NaN,NaN,high,NaN,NaN,NaN,ok,NaN,NaN,low,ok,NaN,low,NaN,NaN,ok,high,ok,high,NaN,NaN,ok,NaN,NaN,ok,NaN,NaN,NaN,ok,NaN,NaN,NaN,NaN,high,NaN,NaN,NaN,NaN,high,NaN,NaN,NaN,NaN,NaN,NaN,NaN,NaN,NaN,ok,ok,NaN,NaN,NaN,ok,NaN,high,NaN,ok,NaN,ok,ok,ok,high,ok,NaN,ok,NaN,high,NaN,ok,NaN,ok,ok,NaN,ok,high,NaN,high,ok,NaN,ok,NaN,ok,high,ok,NaN,ok,ok,NaN,NaN,NaN,NaN,NaN,high,NaN,NaN,ok,NaN,ok,ok,ok,NaN,ok,ok,ok,NaN,NaN,NaN,ok,NaN,NaN,NaN,ok,ok,ok,ok,ok,high,NaN,ok,NaN,NaN,NaN,ok,NaN,NaN,low,high,NaN,NaN,NaN,NaN,high,high,NaN,NaN,ok,high,NaN,high,NaN,ok,ok,NaN,NaN,ok,NaN,NaN,NaN,NaN,ok,NaN,NaN,NaN,NaN,NaN,NaN,ok,NaN,NaN,NaN,NaN,NaN,ok,NaN,NaN,NaN,NaN,high,NaN,NaN,NaN,ok,NaN,high,NaN,high,NaN,NaN,NaN,NaN,NaN,NaN,NaN,ok,ok,ok,ok,ok,NaN,high,low,NaN,NaN,NaN,NaN,NaN,NaN,ok,high,ok,NaN,ok,high,ok,high,NaN,NaN,NaN,ok,high,NaN,NaN,ok,ok,ok,NaN,NaN,NaN,high,ok,high,NaN,NaN,NaN,NaN,NaN,ok,ok,high,high,NaN,ok,high,ok,NaN,NaN,ok,ok,NaN,ok,ok,NaN,NaN,ok,high,NaN,high,high,NaN,NaN,high,ok,ok,NaN,NaN,NaN,ok,NaN,NaN,ok,ok,NaN,NaN,NaN,NaN,NaN,ok,NaN,NaN,NaN,NaN,ok,NaN,NaN,NaN,NaN,high,ok,ok,high,ok,ok,NaN,NaN,NaN,NaN,ok,ok,NaN,ok,ok,NaN,ok,ok,NaN,ok,ok,high,NaN,ok,NaN,high,NaN,high,NaN,NaN,NaN,NaN,ok,ok,ok,NaN,high,high,ok,ok,NaN,ok,NaN,NaN,ok,NaN,NaN,high,high,ok,NaN,ok,high,ok,high,NaN,ok,NaN,NaN,NaN,ok,NaN,high,NaN,NaN,NaN,NaN,NaN,NaN,high,ok,NaN,NaN,high,NaN,high,ok,NaN,ok,high,high,high,NaN,NaN,ok,NaN,NaN,NaN,NaN,NaN,NaN,high,NaN,high,NaN,NaN,NaN,high,high,ok,NaN,NaN,ok,ok,high,NaN,ok,high,NaN,high,NaN,NaN,NaN,NaN,ok,NaN,ok,high,high,ok,high,ok,ok,ok,ok,NaN,NaN,NaN,NaN,high,NaN,high,NaN,high,ok,ok,NaN,NaN,ok,NaN,high,NaN,NaN,high,high,ok,NaN,NaN,NaN,high,NaN,high,NaN,NaN,NaN,high,NaN,ok,ok,NaN,high,ok,NaN,NaN,high,ok,ok,NaN,high,NaN,ok,NaN,NaN,ok,high,ok,ok,high,ok,NaN,NaN,ok,NaN,NaN,low,NaN,NaN,ok,NaN,NaN,high,high,NaN,NaN,NaN,NaN,high,high,high,NaN,ok,high,high,NaN,NaN,high,NaN,NaN,ok,NaN,high,NaN,high,NaN,NaN,NaN,NaN,ok,NaN,NaN,high,NaN,high,high,high,NaN,NaN,NaN,high,NaN,high,ok,high,NaN,NaN,high,NaN,ok,high,high,NaN,ok,NaN,NaN,ok,NaN,NaN,NaN,NaN,NaN,NaN,NaN,high,"
     ]
    }
   ],
   "source": [
    "col_result=[]\n",
    "for test_i in col_pred_test_bottle:\n",
    "    o1=generate_similarity( test_i, col_search_list)\n",
    "    result,_=find_max(statistic(o1))\n",
    "    if result==\"\":\n",
    "        result=\"NaN\"\n",
    "    print(result,end=\",\")\n",
    "    col_result.append(result)"
   ]
  },
  {
   "cell_type": "code",
   "execution_count": 231,
   "metadata": {},
   "outputs": [
    {
     "name": "stdout",
     "output_type": "stream",
     "text": [
      "NaN,NaN,NaN,NaN,NaN,NaN,ok,NaN,NaN,NaN,NaN,NaN,NaN,NaN,ok,ok,NaN,NaN,ok,ok,NaN,NaN,ok,NaN,NaN,ok,NaN,ok,NaN,NaN,ok,NaN,ok,NaN,NaN,NaN,NaN,NaN,NaN,ok,NaN,NaN,NaN,ok,NaN,low,NaN,NaN,ok,NaN,NaN,NaN,NaN,NaN,NaN,NaN,ok,NaN,ok,NaN,NaN,ok,NaN,NaN,NaN,NaN,NaN,ok,NaN,NaN,ok,low,NaN,ok,NaN,NaN,NaN,NaN,NaN,NaN,ok,NaN,ok,NaN,NaN,ok,NaN,NaN,NaN,NaN,NaN,NaN,ok,ok,NaN,ok,NaN,low,NaN,NaN,NaN,NaN,NaN,NaN,NaN,NaN,NaN,ok,NaN,NaN,NaN,NaN,NaN,ok,NaN,NaN,NaN,NaN,NaN,NaN,NaN,NaN,NaN,NaN,NaN,NaN,low,NaN,NaN,NaN,NaN,NaN,NaN,ok,NaN,NaN,NaN,NaN,NaN,NaN,NaN,NaN,NaN,NaN,NaN,ok,NaN,ok,NaN,NaN,NaN,NaN,NaN,NaN,ok,NaN,NaN,ok,NaN,NaN,NaN,NaN,NaN,NaN,NaN,NaN,ok,NaN,ok,ok,NaN,ok,NaN,NaN,NaN,NaN,ok,NaN,NaN,NaN,NaN,NaN,NaN,ok,NaN,NaN,NaN,NaN,NaN,NaN,NaN,NaN,NaN,NaN,low,NaN,NaN,NaN,ok,NaN,ok,NaN,NaN,ok,ok,NaN,NaN,NaN,NaN,NaN,ok,NaN,NaN,NaN,NaN,NaN,NaN,NaN,NaN,ok,NaN,NaN,NaN,ok,NaN,NaN,NaN,NaN,NaN,NaN,NaN,NaN,NaN,NaN,ok,NaN,NaN,low,NaN,ok,NaN,high,NaN,NaN,NaN,NaN,NaN,NaN,ok,NaN,ok,NaN,NaN,NaN,NaN,NaN,NaN,NaN,NaN,NaN,NaN,NaN,NaN,NaN,NaN,NaN,high,NaN,NaN,NaN,NaN,NaN,NaN,NaN,NaN,NaN,NaN,high,NaN,ok,ok,NaN,NaN,ok,NaN,ok,NaN,NaN,NaN,ok,ok,ok,NaN,high,NaN,NaN,ok,ok,ok,ok,NaN,NaN,NaN,NaN,NaN,NaN,NaN,NaN,NaN,ok,NaN,NaN,NaN,ok,NaN,NaN,ok,ok,NaN,low,NaN,NaN,NaN,NaN,NaN,ok,high,NaN,ok,NaN,NaN,NaN,NaN,ok,NaN,NaN,NaN,NaN,NaN,NaN,NaN,NaN,NaN,NaN,NaN,NaN,NaN,NaN,NaN,NaN,low,NaN,ok,low,NaN,NaN,ok,ok,ok,NaN,NaN,high,NaN,ok,NaN,NaN,NaN,ok,NaN,NaN,NaN,NaN,NaN,NaN,NaN,NaN,ok,NaN,NaN,NaN,NaN,NaN,NaN,NaN,NaN,NaN,NaN,NaN,NaN,NaN,NaN,NaN,NaN,NaN,ok,ok,NaN,NaN,NaN,NaN,NaN,ok,low,NaN,NaN,ok,NaN,NaN,ok,NaN,ok,ok,NaN,ok,NaN,NaN,ok,ok,NaN,NaN,NaN,NaN,ok,NaN,ok,NaN,NaN,high,NaN,low,ok,NaN,NaN,NaN,NaN,NaN,NaN,NaN,NaN,ok,NaN,NaN,ok,NaN,NaN,high,NaN,NaN,NaN,NaN,NaN,ok,NaN,NaN,NaN,NaN,NaN,NaN,NaN,ok,NaN,NaN,low,NaN,ok,ok,NaN,NaN,NaN,NaN,high,NaN,NaN,NaN,NaN,NaN,NaN,NaN,NaN,ok,NaN,ok,NaN,NaN,NaN,NaN,NaN,NaN,NaN,NaN,NaN,NaN,NaN,NaN,NaN,ok,NaN,NaN,NaN,NaN,ok,ok,NaN,NaN,NaN,NaN,NaN,NaN,NaN,NaN,NaN,NaN,NaN,NaN,NaN,NaN,NaN,ok,NaN,low,NaN,NaN,NaN,NaN,ok,ok,NaN,high,ok,ok,NaN,NaN,ok,NaN,ok,NaN,NaN,ok,NaN,NaN,NaN,NaN,ok,NaN,NaN,NaN,low,ok,NaN,NaN,NaN,high,NaN,ok,low,high,NaN,NaN,NaN,NaN,ok,NaN,NaN,NaN,NaN,low,ok,NaN,NaN,NaN,ok,NaN,ok,NaN,high,NaN,NaN,NaN,NaN,NaN,NaN,NaN,NaN,NaN,high,ok,NaN,ok,NaN,NaN,NaN,NaN,NaN,NaN,low,NaN,ok,NaN,NaN,NaN,NaN,NaN,NaN,NaN,NaN,NaN,NaN,NaN,NaN,NaN,ok,NaN,NaN,NaN,ok,NaN,NaN,NaN,NaN,NaN,NaN,NaN,NaN,NaN,NaN,ok,NaN,ok,NaN,ok,NaN,ok,NaN,NaN,NaN,NaN,NaN,NaN,ok,NaN,NaN,NaN,ok,ok,ok,NaN,NaN,NaN,NaN,NaN,NaN,NaN,NaN,ok,NaN,ok,ok,NaN,NaN,NaN,NaN,NaN,ok,NaN,NaN,NaN,NaN,NaN,NaN,NaN,NaN,NaN,NaN,NaN,NaN,ok,NaN,NaN,ok,NaN,NaN,NaN,NaN,NaN,NaN,NaN,NaN,NaN,NaN,NaN,NaN,NaN,NaN,NaN,NaN,NaN,NaN,NaN,NaN,ok,NaN,NaN,NaN,NaN,NaN,NaN,NaN,NaN,NaN,high,NaN,NaN,NaN,ok,NaN,NaN,ok,NaN,NaN,NaN,NaN,ok,NaN,NaN,NaN,ok,low,NaN,NaN,NaN,NaN,NaN,NaN,NaN,NaN,NaN,NaN,NaN,NaN,NaN,NaN,NaN,ok,NaN,NaN,high,NaN,ok,ok,NaN,NaN,NaN,ok,NaN,NaN,NaN,NaN,NaN,NaN,NaN,low,NaN,NaN,ok,NaN,NaN,NaN,NaN,NaN,ok,ok,NaN,NaN,ok,ok,NaN,NaN,NaN,ok,NaN,NaN,NaN,NaN,NaN,ok,ok,ok,NaN,ok,NaN,NaN,NaN,NaN,NaN,ok,ok,NaN,ok,ok,ok,NaN,NaN,NaN,NaN,high,ok,NaN,NaN,NaN,NaN,NaN,NaN,NaN,NaN,NaN,NaN,ok,NaN,NaN,NaN,low,NaN,NaN,NaN,low,low,NaN,ok,ok,NaN,NaN,NaN,NaN,ok,NaN,NaN,NaN,NaN,NaN,NaN,NaN,NaN,NaN,ok,NaN,NaN,NaN,high,NaN,NaN,NaN,NaN,NaN,ok,NaN,NaN,NaN,ok,NaN,low,ok,NaN,NaN,NaN,NaN,ok,NaN,ok,NaN,low,NaN,ok,NaN,NaN,NaN,NaN,NaN,NaN,NaN,NaN,NaN,ok,NaN,NaN,NaN,NaN,NaN,ok,NaN,ok,NaN,NaN,ok,NaN,ok,NaN,NaN,NaN,NaN,NaN,NaN,NaN,NaN,NaN,ok,NaN,NaN,NaN,NaN,NaN,NaN,NaN,ok,NaN,NaN,low,NaN,ok,NaN,NaN,ok,ok,ok,NaN,ok,NaN,NaN,NaN,NaN,NaN,ok,NaN,ok,ok,NaN,NaN,NaN,NaN,NaN,low,NaN,NaN,ok,NaN,NaN,ok,NaN,ok,NaN,NaN,ok,NaN,NaN,NaN,ok,ok,ok,NaN,NaN,ok,NaN,NaN,NaN,ok,NaN,NaN,NaN,NaN,high,NaN,NaN,NaN,NaN,NaN,NaN,ok,ok,NaN,NaN,NaN,ok,NaN,NaN,NaN,ok,NaN,NaN,NaN,NaN,NaN,NaN,NaN,NaN,ok,NaN,ok,NaN,NaN,ok,NaN,ok,NaN,ok,NaN,NaN,NaN,ok,ok,NaN,ok,NaN,ok,NaN,NaN,NaN,NaN,NaN,NaN,NaN,NaN,NaN,ok,NaN,NaN,NaN,NaN,NaN,NaN,NaN,NaN,NaN,NaN,NaN,ok,NaN,NaN,ok,ok,NaN,NaN,NaN,ok,NaN,NaN,NaN,ok,NaN,NaN,NaN,NaN,NaN,ok,low,NaN,ok,NaN,NaN,NaN,NaN,NaN,NaN,NaN,NaN,NaN,ok,NaN,NaN,NaN,ok,ok,ok,NaN,NaN,NaN,NaN,ok,NaN,NaN,ok,NaN,NaN,NaN,NaN,NaN,NaN,NaN,ok,ok,ok,NaN,NaN,ok,ok,NaN,NaN,NaN,NaN,NaN,NaN,NaN,NaN,NaN,NaN,NaN,NaN,NaN,NaN,NaN,high,ok,NaN,NaN,NaN,NaN,ok,NaN,NaN,ok,low,NaN,NaN,NaN,ok,high,NaN,NaN,ok,NaN,ok,ok,ok,NaN,NaN,NaN,NaN,NaN,ok,ok,ok,NaN,NaN,NaN,NaN,ok,NaN,NaN,NaN,ok,NaN,NaN,NaN,NaN,NaN,NaN,ok,ok,ok,NaN,ok,NaN,NaN,NaN,NaN,ok,NaN,low,NaN,NaN,NaN,NaN,NaN,NaN,ok,ok,NaN,NaN,ok,NaN,NaN,ok,NaN,ok,ok,NaN,NaN,NaN,ok,NaN,NaN,ok,low,ok,NaN,NaN,ok,NaN,NaN,ok,NaN,ok,ok,NaN,NaN,NaN,NaN,ok,high,NaN,NaN,NaN,NaN,NaN,ok,NaN,ok,NaN,NaN,NaN,ok,NaN,NaN,NaN,ok,NaN,NaN,NaN,high,NaN,NaN,NaN,ok,NaN,NaN,ok,NaN,NaN,NaN,NaN,ok,NaN,NaN,NaN,NaN,high,ok,NaN,low,ok,ok,NaN,NaN,ok,NaN,ok,NaN,NaN,NaN,NaN,NaN,ok,NaN,high,NaN,NaN,NaN,ok,NaN,ok,NaN,ok,NaN,NaN,NaN,NaN,NaN,NaN,NaN,NaN,NaN,NaN,NaN,NaN,NaN,NaN,NaN,NaN,NaN,NaN,NaN,NaN,NaN,NaN,ok,ok,NaN,NaN,NaN,ok,NaN,NaN,ok,NaN,NaN,high,NaN,NaN,NaN,NaN,NaN,NaN,ok,NaN,NaN,NaN,ok,ok,NaN,NaN,NaN,NaN,NaN,ok,NaN,NaN,NaN,NaN,NaN,NaN,NaN,NaN,NaN,ok,NaN,ok,low,ok,NaN,NaN,NaN,NaN,NaN,NaN,ok,NaN,NaN,ok,NaN,NaN,NaN,NaN,NaN,NaN,NaN,ok,ok,NaN,ok,NaN,ok,NaN,NaN,NaN,ok,NaN,NaN,ok,ok,NaN,NaN,ok,NaN,NaN,NaN,NaN,high,NaN,NaN,NaN,NaN,ok,NaN,NaN,NaN,NaN,NaN,NaN,NaN,NaN,NaN,NaN,NaN,NaN,NaN,NaN,ok,ok,NaN,NaN,NaN,NaN,NaN,NaN,ok,NaN,NaN,NaN,NaN,NaN,NaN,NaN,NaN,ok,ok,NaN,NaN,ok,NaN,NaN,NaN,NaN,ok,NaN,ok,NaN,NaN,NaN,NaN,NaN,ok,NaN,NaN,ok,NaN,NaN,NaN,NaN,ok,NaN,NaN,NaN,NaN,NaN,NaN,ok,NaN,NaN,ok,ok,NaN,NaN,NaN,NaN,ok,ok,NaN,ok,NaN,ok,NaN,ok,ok,ok,high,NaN,high,ok,NaN,NaN,ok,ok,NaN,NaN,NaN,NaN,NaN,NaN,ok,NaN,NaN,ok,high,NaN,NaN,NaN,NaN,ok,NaN,high,NaN,ok,NaN,NaN,NaN,NaN,low,high,NaN,NaN,NaN,NaN,ok,NaN,ok,NaN,ok,ok,ok,ok,low,NaN,NaN,NaN,NaN,NaN,NaN,ok,NaN,NaN,ok,ok,ok,ok,NaN,NaN,ok,NaN,NaN,NaN,NaN,ok,NaN,high,NaN,NaN,NaN,NaN,NaN,NaN,NaN,NaN,NaN,NaN,NaN,NaN,NaN,NaN,high,NaN,NaN,NaN,ok,NaN,NaN,high,NaN,NaN,NaN,NaN,high,NaN,ok,high,NaN,ok,NaN,NaN,NaN,NaN,NaN,NaN,high,ok,NaN,NaN,NaN,NaN,NaN,NaN,NaN,NaN,NaN,NaN,NaN,NaN,NaN,NaN,ok,NaN,ok,NaN,NaN,ok,NaN,ok,low,ok,NaN,NaN,NaN,NaN,NaN,NaN,NaN,NaN,low,NaN,NaN,NaN,NaN,high,ok,NaN,NaN,ok,ok,NaN,NaN,NaN,NaN,NaN,NaN,NaN,NaN,NaN,NaN,ok,NaN,NaN,NaN,ok,NaN,ok,low,NaN,low,NaN,NaN,NaN,NaN,NaN,ok,high,NaN,NaN,NaN,high,NaN,NaN,ok,NaN,high,NaN,NaN,NaN,NaN,NaN,NaN,NaN,NaN,NaN,NaN,NaN,NaN,NaN,ok,NaN,NaN,NaN,NaN,NaN,ok,NaN,ok,NaN,low,NaN,ok,ok,low,NaN,NaN,NaN,NaN,NaN,NaN,NaN,NaN,NaN,NaN,NaN,NaN,NaN,ok,NaN,ok,NaN,NaN,NaN,NaN,NaN,NaN,NaN,ok,NaN,ok,NaN,ok,ok,NaN,NaN,NaN,NaN,ok,NaN,NaN,NaN,NaN,NaN,NaN,ok,high,ok,ok,NaN,NaN,NaN,NaN,ok,NaN,NaN,NaN,NaN,NaN,NaN,NaN,ok,NaN,ok,NaN,ok,ok,NaN,NaN,ok,ok,NaN,ok,low,NaN,NaN,ok,NaN,NaN,NaN,NaN,NaN,ok,ok,ok,ok,NaN,NaN,ok,ok,NaN,NaN,low,NaN,NaN,NaN,NaN,ok,NaN,NaN,NaN,NaN,NaN,NaN,low,NaN,NaN,high,ok,NaN,NaN,NaN,NaN,NaN,low,NaN,NaN,high,ok,ok,NaN,ok,NaN,NaN,NaN,NaN,NaN,ok,NaN,ok,ok,ok,ok,NaN,ok,ok,ok,NaN,NaN,NaN,NaN,ok,NaN,NaN,NaN,NaN,NaN,NaN,NaN,ok,NaN,NaN,NaN,high,NaN,NaN,NaN,NaN,NaN,NaN,NaN,ok,NaN,ok,NaN,NaN,NaN,NaN,ok,NaN,low,low,ok,NaN,NaN,NaN,NaN,NaN,NaN,NaN,NaN,NaN,NaN,NaN,NaN,NaN,NaN,NaN,NaN,low,NaN,NaN,NaN,NaN,NaN,ok,NaN,NaN,NaN,NaN,NaN,ok,NaN,NaN,NaN,ok,NaN,NaN,NaN,NaN,ok,NaN,NaN,NaN,NaN,NaN,NaN,NaN,ok,NaN,NaN,NaN,NaN,ok,NaN,ok,NaN,NaN,NaN,NaN,NaN,NaN,ok,NaN,NaN,NaN,NaN,NaN,NaN,NaN,NaN,NaN,ok,NaN,ok,NaN,ok,NaN,NaN,NaN,NaN,ok,ok,NaN,NaN,ok,high,ok,NaN,NaN,ok,ok,NaN,NaN,NaN,ok,high,ok,NaN,NaN,low,NaN,NaN,ok,NaN,NaN,NaN,NaN,NaN,ok,low,NaN,NaN,NaN,NaN,NaN,NaN,NaN,ok,ok,ok,NaN,NaN,NaN,NaN,NaN,NaN,NaN,NaN,NaN,NaN,NaN,NaN,NaN,ok,NaN,ok,NaN,NaN,NaN,NaN,ok,ok,NaN,NaN,NaN,NaN,ok,NaN,NaN,NaN,NaN,NaN,ok,high,NaN,NaN,ok,ok,high,ok,NaN,NaN,NaN,low,NaN,NaN,NaN,high,NaN,NaN,low,NaN,NaN,NaN,NaN,NaN,NaN,high,NaN,NaN,NaN,NaN,NaN,NaN,ok,NaN,NaN,NaN,NaN,NaN,NaN,low,ok,ok,NaN,ok,NaN,ok,NaN,NaN,NaN,ok,NaN,NaN,NaN,NaN,NaN,ok,NaN,ok,ok,ok,NaN,NaN,ok,NaN,NaN,NaN,NaN,NaN,high,high,NaN,ok,NaN,NaN,NaN,NaN,NaN,NaN,ok,NaN,ok,NaN,ok,ok,NaN,NaN,NaN,NaN,NaN,NaN,ok,NaN,NaN,ok,NaN,NaN,NaN,ok,NaN,NaN,NaN,NaN,NaN,NaN,ok,NaN,NaN,ok,ok,NaN,NaN,NaN,NaN,NaN,NaN,ok,NaN,NaN,NaN,NaN,NaN,NaN,NaN,ok,NaN,NaN,NaN,NaN,NaN,NaN,NaN,NaN,NaN,NaN,NaN,NaN,NaN,NaN,ok,NaN,NaN,ok,NaN,NaN,NaN,ok,NaN,ok,NaN,NaN,NaN,ok,NaN,NaN,NaN,NaN,ok,NaN,NaN,NaN,NaN,NaN,ok,NaN,NaN,ok,ok,NaN,NaN,NaN,NaN,NaN,low,NaN,NaN,ok,NaN,NaN,NaN,NaN,low,ok,NaN,ok,NaN,NaN,NaN,NaN,NaN,ok,ok,NaN,NaN,NaN,ok,NaN,NaN,NaN,NaN,NaN,NaN,NaN,NaN,NaN,ok,NaN,NaN,NaN,NaN,NaN,NaN,NaN,NaN,NaN,NaN,ok,NaN,NaN,high,NaN,NaN,NaN,NaN,ok,NaN,NaN,NaN,NaN,NaN,NaN,ok,ok,NaN,NaN,NaN,NaN,NaN,NaN,NaN,NaN,NaN,NaN,NaN,ok,NaN,ok,NaN,high,NaN,NaN,ok,NaN,NaN,ok,ok,NaN,low,NaN,NaN,NaN,NaN,NaN,NaN,NaN,ok,NaN,ok,NaN,NaN,ok,NaN,ok,ok,ok,NaN,ok,ok,NaN,NaN,NaN,NaN,NaN,NaN,NaN,NaN,NaN,NaN,ok,NaN,NaN,NaN,NaN,NaN,NaN,NaN,NaN,NaN,ok,NaN,low,NaN,ok,NaN,NaN,NaN,NaN,NaN,NaN,NaN,ok,ok,ok,NaN,NaN,ok,ok,ok,ok,ok,ok,high,ok,ok,NaN,NaN,NaN,NaN,NaN,ok,ok,ok,NaN,ok,NaN,NaN,NaN,NaN,NaN,NaN,NaN,NaN,ok,ok,NaN,ok,NaN,NaN,NaN,NaN,NaN,NaN,NaN,NaN,ok,NaN,NaN,ok,NaN,ok,NaN,ok,NaN,NaN,low,NaN,high,ok,NaN,NaN,ok,NaN,high,ok,NaN,NaN,ok,NaN,NaN,NaN,NaN,low,NaN,NaN,high,NaN,low,NaN,ok,NaN,NaN,NaN,NaN,ok,ok,NaN,NaN,NaN,ok,NaN,NaN,NaN,NaN,NaN,NaN,NaN,NaN,NaN,NaN,NaN,NaN,low,ok,NaN,NaN,NaN,NaN,NaN,NaN,NaN,NaN,NaN,NaN,NaN,NaN,NaN,NaN,NaN,NaN,NaN,NaN,NaN,NaN,ok,NaN,NaN,NaN,NaN,NaN,NaN,NaN,ok,NaN,NaN,NaN,NaN,ok,NaN,ok,NaN,NaN,ok,NaN,NaN,NaN,NaN,ok,ok,NaN,ok,NaN,low,NaN,NaN,NaN,ok,NaN,NaN,ok,low,NaN,high,ok,NaN,NaN,NaN,NaN,low,NaN,NaN,NaN,ok,NaN,NaN,NaN,NaN,NaN,NaN,NaN,NaN,low,NaN,NaN,NaN,NaN,ok,NaN,ok,NaN,ok,ok,NaN,NaN,ok,NaN,ok,NaN,NaN,ok,NaN,NaN,ok,NaN,NaN,NaN,NaN,NaN,NaN,NaN,NaN,NaN,NaN,ok,NaN,NaN,low,NaN,NaN,NaN,ok,NaN,NaN,NaN,low,NaN,NaN,high,NaN,NaN,NaN,NaN,low,ok,high,NaN,ok,NaN,low,NaN,high,NaN,low,NaN,low,ok,ok,ok,ok,NaN,ok,NaN,ok,NaN,NaN,ok,ok,ok,low,ok,ok,NaN,ok,NaN,NaN,high,NaN,NaN,low,NaN,NaN,NaN,NaN,ok,low,NaN,ok,high,NaN,NaN,NaN,NaN,NaN,ok,NaN,NaN,NaN,NaN,NaN,NaN,NaN,NaN,NaN,NaN,ok,ok,NaN,NaN,NaN,NaN,NaN,NaN,NaN,NaN,ok,NaN,NaN,NaN,NaN,NaN,NaN,NaN,NaN,NaN,NaN,NaN,ok,NaN,NaN,ok,high,ok,NaN,NaN,NaN,ok,ok,ok,NaN,NaN,ok,NaN,NaN,ok,NaN,NaN,NaN,NaN,NaN,NaN,NaN,NaN,NaN,ok,NaN,ok,NaN,NaN,NaN,NaN,NaN,ok,ok,ok,ok,ok,NaN,NaN,low,NaN,NaN,NaN,NaN,NaN,ok,ok,NaN,ok,NaN,NaN,ok,NaN,NaN,NaN,ok,low,NaN,NaN,ok,NaN,NaN,ok,ok,NaN,ok,ok,NaN,NaN,NaN,high,NaN,ok,NaN,ok,low,NaN,NaN,NaN,NaN,ok,NaN,NaN,NaN,NaN,NaN,NaN,NaN,NaN,NaN,NaN,NaN,NaN,NaN,NaN,low,NaN,ok,NaN,ok,NaN,low,NaN,NaN,NaN,NaN,ok,NaN,NaN,NaN,NaN,NaN,NaN,NaN,NaN,ok,NaN,NaN,NaN,ok,NaN,NaN,NaN,NaN,ok,ok,NaN,NaN,ok,NaN,NaN,NaN,NaN,NaN,NaN,NaN,NaN,NaN,NaN,ok,NaN,low,ok,NaN,ok,ok,ok,NaN,NaN,NaN,NaN,NaN,ok,NaN,NaN,high,NaN,NaN,NaN,ok,NaN,ok,ok,NaN,NaN,NaN,NaN,high,NaN,NaN,ok,ok,NaN,NaN,NaN,NaN,low,NaN,low,low,NaN,NaN,NaN,NaN,NaN,NaN,NaN,ok,NaN,NaN,NaN,NaN,NaN,NaN,ok,high,NaN,NaN,ok,NaN,ok,NaN,NaN,NaN,NaN,NaN,NaN,NaN,low,NaN,NaN,ok,high,NaN,NaN,ok,NaN,NaN,NaN,NaN,NaN,ok,NaN,NaN,NaN,NaN,ok,NaN,ok,high,NaN,NaN,ok,NaN,NaN,high,NaN,NaN,NaN,NaN,NaN,NaN,NaN,high,NaN,ok,NaN,NaN,NaN,NaN,NaN,ok,ok,NaN,ok,ok,NaN,ok,NaN,NaN,NaN,NaN,ok,NaN,NaN,low,ok,NaN,NaN,ok,NaN,NaN,NaN,NaN,NaN,ok,NaN,NaN,high,NaN,NaN,NaN,ok,ok,NaN,NaN,NaN,NaN,NaN,ok,NaN,NaN,ok,NaN,ok,low,NaN,NaN,ok,ok,NaN,NaN,NaN,NaN,ok,NaN,NaN,high,NaN,NaN,NaN,NaN,NaN,NaN,NaN,NaN,NaN,ok,NaN,NaN,ok,NaN,ok,NaN,NaN,ok,NaN,NaN,NaN,NaN,NaN,ok,NaN,ok,NaN,NaN,NaN,NaN,NaN,NaN,NaN,NaN,NaN,ok,NaN,low,NaN,NaN,NaN,NaN,NaN,NaN,NaN,NaN,ok,ok,ok,ok,ok,NaN,NaN,ok,NaN,NaN,high,NaN,ok,NaN,ok,NaN,NaN,NaN,NaN,NaN,NaN,high,high,NaN,NaN,ok,ok,ok,NaN,NaN,NaN,NaN,NaN,NaN,NaN,ok,NaN,ok,NaN,NaN,NaN,low,NaN,NaN,NaN,NaN,NaN,ok,ok,NaN,NaN,NaN,NaN,NaN,NaN,ok,NaN,NaN,ok,ok,NaN,NaN,ok,ok,NaN,NaN,NaN,ok,NaN,NaN,NaN,NaN,NaN,NaN,NaN,NaN,NaN,ok,NaN,NaN,NaN,ok,NaN,NaN,NaN,ok,ok,NaN,ok,NaN,NaN,NaN,NaN,NaN,low,ok,NaN,NaN,ok,NaN,NaN,ok,NaN,ok,NaN,NaN,NaN,ok,NaN,NaN,ok,ok,NaN,NaN,ok,ok,NaN,NaN,NaN,high,NaN,NaN,NaN,NaN,ok,low,NaN,NaN,NaN,ok,NaN,NaN,NaN,NaN,NaN,NaN,NaN,NaN,NaN,low,NaN,NaN,NaN,NaN,NaN,NaN,NaN,ok,NaN,NaN,NaN,NaN,NaN,NaN,ok,NaN,NaN,NaN,NaN,NaN,NaN,NaN,ok,NaN,NaN,NaN,NaN,ok,NaN,ok,ok,NaN,NaN,ok,NaN,NaN,ok,NaN,NaN,NaN,ok,NaN,NaN,NaN,NaN,ok,NaN,NaN,NaN,NaN,ok,NaN,NaN,NaN,NaN,NaN,NaN,NaN,NaN,NaN,high,high,NaN,NaN,NaN,ok,NaN,ok,NaN,ok,NaN,low,ok,NaN,NaN,NaN,NaN,high,NaN,NaN,NaN,low,NaN,NaN,NaN,NaN,NaN,NaN,NaN,NaN,NaN,NaN,ok,NaN,NaN,ok,high,NaN,NaN,ok,NaN,NaN,NaN,NaN,NaN,NaN,NaN,NaN,NaN,NaN,ok,ok,NaN,NaN,ok,ok,ok,NaN,NaN,NaN,ok,NaN,NaN,NaN,ok,ok,NaN,NaN,ok,high,NaN,NaN,NaN,NaN,NaN,NaN,NaN,NaN,NaN,ok,NaN,NaN,NaN,NaN,ok,NaN,NaN,NaN,NaN,NaN,NaN,ok,NaN,ok,NaN,NaN,NaN,NaN,NaN,NaN,NaN,NaN,NaN,NaN,NaN,NaN,NaN,NaN,NaN,high,NaN,NaN,NaN,NaN,NaN,ok,NaN,NaN,NaN,NaN,NaN,NaN,NaN,NaN,NaN,NaN,NaN,NaN,NaN,NaN,NaN,NaN,NaN,NaN,NaN,NaN,high,high,NaN,NaN,ok,NaN,ok,ok,NaN,NaN,NaN,NaN,NaN,NaN,low,NaN,ok,NaN,ok,NaN,ok,ok,NaN,NaN,NaN,ok,ok,NaN,NaN,NaN,NaN,ok,NaN,NaN,NaN,NaN,NaN,ok,NaN,NaN,NaN,NaN,NaN,ok,ok,NaN,NaN,NaN,ok,high,high,NaN,NaN,NaN,ok,NaN,NaN,NaN,NaN,NaN,ok,NaN,NaN,ok,NaN,NaN,NaN,NaN,ok,NaN,NaN,NaN,NaN,ok,NaN,NaN,NaN,ok,NaN,NaN,NaN,NaN,NaN,NaN,NaN,NaN,NaN,NaN,ok,NaN,NaN,NaN,NaN,NaN,NaN,high,NaN,low,ok,NaN,NaN,NaN,NaN,NaN,NaN,NaN,low,NaN,NaN,NaN,NaN,NaN,NaN,ok,NaN,NaN,ok,NaN,ok,NaN,ok,NaN,NaN,NaN,NaN,ok,NaN,NaN,NaN,NaN,NaN,ok,ok,NaN,NaN,NaN,NaN,ok,NaN,NaN,low,ok,ok,NaN,NaN,NaN,NaN,NaN,NaN,NaN,NaN,NaN,NaN,NaN,NaN,NaN,NaN,NaN,NaN,NaN,NaN,NaN,ok,NaN,NaN,NaN,NaN,NaN,NaN,low,NaN,low,NaN,NaN,ok,NaN,NaN,ok,NaN,NaN,NaN,NaN,ok,NaN,low,NaN,NaN,NaN,NaN,NaN,high,ok,NaN,NaN,NaN,NaN,high,NaN,NaN,high,NaN,NaN,NaN,NaN,NaN,NaN,NaN,ok,NaN,ok,high,NaN,ok,NaN,NaN,NaN,ok,NaN,NaN,NaN,NaN,ok,low,NaN,ok,NaN,NaN,NaN,NaN,NaN,NaN,NaN,NaN,high,NaN,NaN,ok,ok,ok,NaN,NaN,NaN,low,ok,ok,NaN,NaN,NaN,NaN,NaN,ok,ok,NaN,high,NaN,NaN,NaN,ok,NaN,NaN,NaN,ok,NaN,high,NaN,NaN,NaN,NaN,high,ok,ok,ok,NaN,NaN,ok,NaN,NaN,NaN,NaN,NaN,NaN,NaN,NaN,ok,high,NaN,NaN,NaN,NaN,NaN,NaN,NaN,NaN,ok,ok,NaN,NaN,NaN,ok,NaN,NaN,low,NaN,NaN,NaN,NaN,NaN,NaN,NaN,NaN,NaN,NaN,NaN,ok,NaN,ok,NaN,NaN,NaN,NaN,NaN,ok,NaN,ok,NaN,NaN,NaN,NaN,NaN,NaN,ok,ok,NaN,NaN,ok,NaN,NaN,ok,NaN,NaN,NaN,NaN,NaN,NaN,NaN,ok,"
     ]
    }
   ],
   "source": [
    "hemo_result=[]\n",
    "for test_i in hemo_pred_test_bottle:\n",
    "    o1=generate_similarity( test_i, hemo_search_list)\n",
    "    result,_=find_max(statistic(o1))\n",
    "    if result==\"\":\n",
    "        result=\"NaN\"\n",
    "    print(result,end=\",\")\n",
    "    hemo_result.append(result)"
   ]
  },
  {
   "cell_type": "code",
   "execution_count": 232,
   "metadata": {},
   "outputs": [
    {
     "name": "stdout",
     "output_type": "stream",
     "text": [
      "NaN,ok,NaN,NaN,ok,ok,ok,NaN,ok,NaN,NaN,NaN,NaN,NaN,low,low,NaN,NaN,ok,ok,ok,NaN,ok,NaN,NaN,high,NaN,ok,ok,NaN,ok,low,ok,NaN,NaN,ok,ok,NaN,NaN,ok,NaN,NaN,ok,low,NaN,low,NaN,NaN,ok,high,NaN,ok,ok,NaN,high,ok,ok,NaN,high,ok,NaN,ok,ok,ok,NaN,ok,ok,ok,ok,NaN,low,low,NaN,ok,ok,low,NaN,high,ok,ok,high,high,high,NaN,ok,ok,low,ok,NaN,NaN,ok,NaN,ok,ok,NaN,high,NaN,ok,NaN,high,ok,NaN,NaN,NaN,NaN,NaN,ok,ok,NaN,ok,NaN,ok,NaN,ok,NaN,ok,NaN,high,NaN,NaN,NaN,NaN,low,ok,NaN,low,ok,ok,ok,NaN,NaN,ok,NaN,ok,NaN,NaN,NaN,NaN,ok,NaN,high,NaN,ok,NaN,ok,ok,NaN,ok,ok,ok,ok,NaN,NaN,ok,ok,NaN,NaN,ok,ok,NaN,high,low,ok,ok,NaN,NaN,ok,ok,low,ok,NaN,ok,ok,ok,ok,NaN,ok,ok,low,ok,low,NaN,NaN,ok,NaN,ok,low,NaN,ok,NaN,ok,NaN,ok,NaN,low,NaN,ok,high,high,NaN,ok,ok,NaN,ok,ok,ok,ok,high,high,ok,ok,NaN,low,ok,NaN,NaN,NaN,NaN,NaN,ok,NaN,NaN,NaN,ok,NaN,NaN,high,NaN,NaN,NaN,NaN,high,NaN,ok,low,NaN,NaN,low,NaN,ok,NaN,ok,NaN,ok,NaN,NaN,ok,NaN,ok,ok,ok,ok,ok,ok,NaN,NaN,high,NaN,ok,NaN,NaN,ok,NaN,high,NaN,low,ok,NaN,ok,ok,ok,NaN,ok,ok,NaN,ok,NaN,ok,ok,low,ok,high,NaN,high,NaN,ok,NaN,ok,NaN,ok,high,high,low,ok,NaN,NaN,ok,low,ok,ok,NaN,NaN,low,NaN,high,NaN,NaN,NaN,NaN,ok,NaN,ok,NaN,ok,high,ok,ok,high,ok,ok,ok,ok,NaN,NaN,ok,ok,ok,NaN,ok,ok,NaN,ok,NaN,ok,ok,NaN,NaN,NaN,ok,NaN,NaN,high,NaN,NaN,ok,ok,high,NaN,NaN,ok,ok,ok,low,ok,ok,NaN,ok,ok,ok,high,ok,ok,low,ok,ok,NaN,NaN,high,NaN,NaN,ok,NaN,NaN,NaN,ok,NaN,ok,ok,ok,ok,NaN,NaN,ok,ok,ok,ok,NaN,NaN,NaN,low,NaN,NaN,ok,NaN,ok,low,ok,NaN,low,NaN,NaN,ok,low,NaN,NaN,ok,high,NaN,ok,NaN,ok,low,ok,ok,ok,NaN,ok,low,NaN,NaN,low,NaN,ok,NaN,high,low,NaN,ok,NaN,ok,ok,high,ok,ok,low,NaN,NaN,NaN,NaN,ok,NaN,ok,high,NaN,ok,ok,ok,NaN,NaN,low,NaN,low,ok,NaN,NaN,NaN,low,NaN,ok,ok,ok,ok,ok,NaN,ok,high,NaN,NaN,NaN,NaN,ok,NaN,NaN,NaN,ok,NaN,NaN,NaN,NaN,high,NaN,low,NaN,NaN,NaN,ok,NaN,ok,high,NaN,NaN,ok,NaN,NaN,NaN,ok,ok,NaN,ok,NaN,ok,low,high,ok,ok,NaN,ok,ok,NaN,NaN,NaN,NaN,high,NaN,NaN,high,NaN,ok,ok,low,ok,high,NaN,NaN,ok,ok,NaN,ok,ok,ok,NaN,ok,ok,NaN,ok,NaN,NaN,ok,ok,ok,NaN,NaN,ok,high,NaN,NaN,ok,ok,NaN,NaN,NaN,ok,NaN,low,ok,ok,NaN,low,ok,ok,low,NaN,ok,NaN,ok,ok,low,NaN,ok,NaN,ok,ok,high,low,ok,ok,ok,ok,high,NaN,NaN,NaN,low,NaN,ok,ok,NaN,ok,NaN,ok,ok,NaN,low,NaN,ok,NaN,ok,low,ok,NaN,NaN,NaN,NaN,NaN,ok,NaN,ok,high,high,NaN,ok,NaN,NaN,ok,high,NaN,ok,ok,NaN,NaN,NaN,NaN,ok,NaN,NaN,ok,ok,low,NaN,ok,ok,ok,NaN,ok,high,NaN,ok,ok,high,NaN,NaN,high,high,high,ok,low,NaN,NaN,NaN,NaN,ok,ok,NaN,ok,ok,high,high,NaN,NaN,NaN,NaN,NaN,ok,low,NaN,ok,NaN,NaN,NaN,high,NaN,NaN,NaN,NaN,NaN,high,ok,ok,high,ok,ok,ok,NaN,NaN,ok,NaN,NaN,NaN,ok,ok,NaN,NaN,ok,ok,ok,NaN,NaN,NaN,NaN,low,ok,NaN,NaN,NaN,NaN,NaN,NaN,NaN,low,ok,high,NaN,high,ok,ok,ok,high,low,NaN,ok,NaN,ok,NaN,high,NaN,ok,low,NaN,ok,NaN,NaN,ok,NaN,NaN,NaN,NaN,NaN,ok,NaN,ok,NaN,high,ok,NaN,NaN,ok,NaN,ok,ok,high,NaN,NaN,ok,ok,ok,NaN,NaN,NaN,high,ok,low,NaN,NaN,ok,ok,ok,low,ok,NaN,ok,ok,ok,NaN,ok,ok,low,high,NaN,ok,NaN,high,low,NaN,NaN,high,high,ok,ok,high,ok,NaN,ok,NaN,NaN,ok,ok,low,ok,ok,high,ok,ok,NaN,NaN,ok,ok,NaN,high,NaN,NaN,NaN,NaN,ok,NaN,ok,high,ok,high,ok,NaN,ok,ok,NaN,ok,ok,ok,NaN,ok,low,NaN,high,NaN,high,low,ok,NaN,high,ok,ok,NaN,NaN,NaN,NaN,low,ok,ok,NaN,ok,NaN,NaN,NaN,low,ok,ok,high,NaN,ok,ok,high,ok,low,high,NaN,high,NaN,low,high,ok,ok,ok,NaN,ok,ok,ok,NaN,NaN,ok,NaN,NaN,high,NaN,ok,NaN,NaN,NaN,ok,ok,low,NaN,ok,NaN,high,low,ok,ok,NaN,ok,ok,NaN,ok,NaN,low,high,NaN,ok,NaN,NaN,ok,low,NaN,NaN,NaN,ok,NaN,NaN,ok,NaN,ok,NaN,NaN,ok,ok,low,NaN,ok,high,NaN,ok,NaN,NaN,ok,NaN,ok,low,low,NaN,NaN,NaN,NaN,ok,NaN,NaN,high,NaN,NaN,ok,NaN,ok,ok,high,ok,ok,ok,NaN,ok,ok,high,ok,NaN,high,NaN,NaN,ok,high,NaN,NaN,NaN,high,ok,high,ok,NaN,high,NaN,NaN,ok,ok,NaN,NaN,ok,high,low,high,NaN,ok,high,NaN,NaN,NaN,NaN,high,NaN,ok,ok,ok,ok,NaN,high,ok,low,ok,ok,low,NaN,ok,NaN,low,ok,NaN,ok,NaN,ok,NaN,NaN,NaN,ok,NaN,high,NaN,ok,NaN,high,NaN,NaN,NaN,NaN,high,NaN,NaN,NaN,NaN,NaN,NaN,ok,high,NaN,ok,ok,ok,ok,NaN,ok,ok,high,ok,ok,NaN,NaN,NaN,ok,ok,ok,ok,ok,NaN,low,NaN,NaN,ok,high,NaN,NaN,ok,ok,ok,NaN,NaN,NaN,high,ok,ok,NaN,NaN,ok,NaN,ok,ok,ok,ok,NaN,NaN,NaN,NaN,NaN,NaN,ok,ok,ok,ok,NaN,high,ok,high,ok,NaN,NaN,NaN,NaN,NaN,NaN,ok,NaN,NaN,NaN,NaN,NaN,NaN,NaN,ok,ok,NaN,ok,NaN,NaN,ok,ok,NaN,low,ok,ok,NaN,NaN,ok,ok,NaN,NaN,ok,NaN,ok,ok,low,NaN,NaN,NaN,ok,ok,ok,high,ok,NaN,ok,ok,NaN,ok,NaN,ok,high,low,NaN,NaN,NaN,ok,NaN,low,ok,high,ok,ok,high,NaN,NaN,NaN,NaN,ok,NaN,ok,NaN,ok,ok,NaN,high,ok,ok,low,ok,ok,ok,NaN,NaN,low,NaN,low,high,NaN,low,NaN,low,low,high,high,ok,ok,NaN,ok,high,high,NaN,high,ok,ok,ok,NaN,ok,NaN,NaN,high,ok,NaN,ok,NaN,ok,high,high,ok,ok,NaN,ok,NaN,ok,ok,NaN,NaN,ok,ok,high,ok,ok,NaN,ok,NaN,ok,ok,NaN,ok,NaN,NaN,NaN,ok,ok,ok,ok,ok,NaN,ok,ok,high,ok,ok,low,NaN,NaN,low,NaN,low,NaN,NaN,NaN,high,NaN,high,high,ok,ok,high,NaN,high,ok,ok,ok,ok,high,NaN,ok,ok,high,NaN,ok,NaN,NaN,low,NaN,NaN,NaN,NaN,low,ok,NaN,ok,low,high,ok,ok,ok,ok,ok,ok,high,high,NaN,NaN,ok,NaN,ok,ok,ok,NaN,ok,NaN,NaN,NaN,ok,NaN,NaN,ok,low,ok,NaN,ok,NaN,NaN,NaN,NaN,NaN,NaN,NaN,NaN,ok,NaN,ok,NaN,ok,ok,NaN,high,ok,ok,ok,NaN,ok,ok,NaN,NaN,ok,NaN,ok,ok,ok,NaN,NaN,NaN,NaN,NaN,ok,ok,low,NaN,ok,ok,low,NaN,NaN,NaN,ok,high,NaN,ok,low,NaN,high,ok,NaN,ok,high,low,ok,ok,NaN,ok,NaN,ok,NaN,NaN,high,NaN,NaN,NaN,NaN,ok,NaN,ok,NaN,ok,ok,NaN,ok,high,NaN,low,NaN,NaN,NaN,ok,high,ok,NaN,high,NaN,ok,NaN,NaN,NaN,low,ok,high,ok,ok,NaN,NaN,low,NaN,ok,NaN,ok,NaN,ok,NaN,NaN,NaN,high,NaN,high,ok,NaN,NaN,ok,high,ok,ok,high,high,ok,NaN,NaN,ok,ok,NaN,high,ok,NaN,NaN,ok,high,ok,low,NaN,ok,ok,ok,NaN,ok,ok,ok,ok,NaN,ok,ok,NaN,NaN,ok,ok,NaN,ok,ok,ok,ok,NaN,low,NaN,NaN,high,ok,NaN,NaN,ok,ok,low,NaN,ok,high,high,NaN,NaN,ok,NaN,ok,ok,ok,ok,ok,ok,ok,high,ok,NaN,high,ok,high,ok,ok,ok,ok,ok,NaN,low,NaN,ok,NaN,high,ok,high,ok,high,ok,NaN,low,low,ok,high,NaN,ok,ok,ok,ok,NaN,NaN,NaN,high,ok,NaN,high,NaN,ok,NaN,NaN,NaN,NaN,ok,NaN,NaN,NaN,ok,ok,NaN,ok,ok,NaN,NaN,NaN,ok,ok,ok,ok,NaN,ok,ok,NaN,NaN,NaN,NaN,NaN,ok,low,high,NaN,ok,NaN,NaN,ok,ok,ok,NaN,NaN,high,NaN,NaN,ok,ok,NaN,low,NaN,NaN,high,NaN,high,ok,ok,NaN,NaN,NaN,NaN,NaN,NaN,NaN,NaN,low,ok,ok,NaN,NaN,ok,ok,NaN,NaN,ok,high,NaN,NaN,NaN,ok,NaN,NaN,NaN,NaN,NaN,ok,low,NaN,NaN,NaN,high,NaN,ok,low,ok,ok,ok,NaN,NaN,ok,NaN,ok,ok,NaN,ok,ok,ok,NaN,NaN,ok,ok,ok,NaN,NaN,high,NaN,NaN,NaN,NaN,NaN,ok,ok,ok,NaN,high,ok,NaN,NaN,NaN,NaN,ok,high,ok,ok,NaN,ok,NaN,high,low,ok,NaN,ok,NaN,ok,ok,ok,ok,NaN,ok,ok,ok,ok,NaN,ok,NaN,ok,NaN,ok,ok,NaN,NaN,ok,NaN,ok,NaN,ok,NaN,ok,high,NaN,NaN,NaN,NaN,high,NaN,NaN,ok,NaN,NaN,NaN,high,ok,ok,ok,ok,high,ok,NaN,low,NaN,low,ok,NaN,NaN,NaN,high,ok,NaN,low,low,ok,ok,NaN,NaN,high,ok,ok,low,low,NaN,NaN,ok,ok,NaN,ok,ok,ok,ok,ok,ok,ok,NaN,NaN,low,ok,NaN,NaN,ok,NaN,NaN,low,NaN,ok,ok,high,NaN,high,ok,low,low,NaN,NaN,ok,ok,NaN,NaN,NaN,high,ok,ok,NaN,NaN,ok,ok,low,NaN,ok,ok,ok,ok,NaN,ok,ok,high,ok,high,low,low,NaN,high,ok,ok,NaN,ok,NaN,ok,ok,NaN,low,NaN,NaN,NaN,ok,NaN,high,ok,NaN,low,ok,ok,NaN,ok,ok,NaN,NaN,NaN,ok,NaN,ok,ok,NaN,NaN,NaN,ok,NaN,ok,low,ok,NaN,high,ok,NaN,low,NaN,NaN,ok,NaN,ok,ok,ok,ok,low,low,NaN,ok,ok,ok,ok,NaN,NaN,low,NaN,ok,ok,NaN,NaN,low,NaN,NaN,NaN,ok,NaN,ok,NaN,NaN,high,NaN,NaN,high,NaN,NaN,ok,NaN,high,NaN,ok,ok,high,ok,high,ok,high,high,low,NaN,NaN,NaN,ok,ok,NaN,NaN,NaN,ok,ok,ok,ok,low,ok,ok,ok,ok,ok,ok,high,high,ok,ok,ok,NaN,NaN,ok,ok,ok,ok,NaN,high,low,NaN,ok,high,ok,ok,ok,NaN,NaN,ok,NaN,NaN,ok,NaN,NaN,NaN,NaN,NaN,ok,low,NaN,ok,ok,ok,NaN,ok,high,high,ok,ok,NaN,NaN,NaN,NaN,ok,NaN,high,high,high,NaN,NaN,high,NaN,ok,NaN,high,ok,NaN,ok,NaN,ok,high,NaN,NaN,NaN,ok,ok,ok,high,ok,high,high,high,ok,ok,NaN,ok,ok,ok,high,NaN,ok,NaN,ok,NaN,NaN,high,ok,NaN,NaN,ok,ok,NaN,ok,ok,high,NaN,ok,NaN,ok,NaN,NaN,high,high,high,NaN,ok,low,NaN,ok,ok,ok,ok,low,ok,ok,NaN,ok,ok,ok,high,high,ok,NaN,NaN,low,NaN,high,NaN,ok,high,low,ok,ok,high,NaN,ok,low,NaN,ok,ok,ok,NaN,high,NaN,NaN,NaN,NaN,NaN,ok,high,high,ok,NaN,low,ok,NaN,NaN,high,NaN,ok,high,ok,NaN,NaN,ok,NaN,ok,NaN,ok,NaN,NaN,NaN,NaN,NaN,NaN,ok,ok,NaN,ok,ok,NaN,ok,NaN,NaN,ok,NaN,high,NaN,NaN,high,high,ok,NaN,low,high,NaN,ok,ok,NaN,ok,ok,NaN,ok,NaN,ok,ok,NaN,NaN,NaN,high,ok,ok,high,NaN,high,NaN,ok,ok,ok,high,NaN,NaN,high,ok,NaN,ok,ok,ok,high,NaN,NaN,NaN,NaN,ok,NaN,NaN,NaN,ok,ok,ok,high,ok,ok,ok,NaN,ok,ok,low,ok,NaN,NaN,ok,high,ok,high,ok,ok,ok,NaN,NaN,ok,ok,NaN,NaN,high,ok,NaN,low,ok,NaN,NaN,NaN,NaN,NaN,NaN,ok,high,ok,high,NaN,ok,NaN,NaN,NaN,ok,low,ok,ok,NaN,ok,NaN,NaN,NaN,NaN,high,ok,NaN,NaN,NaN,NaN,NaN,ok,high,ok,ok,ok,NaN,NaN,ok,NaN,ok,ok,NaN,NaN,low,NaN,high,NaN,ok,NaN,ok,ok,ok,NaN,ok,high,NaN,low,NaN,high,NaN,high,NaN,NaN,NaN,ok,ok,ok,NaN,NaN,ok,NaN,ok,ok,high,ok,ok,ok,NaN,NaN,NaN,low,high,ok,high,NaN,ok,high,ok,NaN,NaN,ok,NaN,high,NaN,NaN,NaN,low,NaN,NaN,ok,ok,high,ok,ok,ok,NaN,NaN,NaN,NaN,low,ok,ok,NaN,NaN,ok,high,ok,ok,high,ok,ok,high,ok,NaN,NaN,NaN,NaN,NaN,ok,ok,ok,NaN,ok,NaN,NaN,ok,NaN,NaN,ok,NaN,NaN,ok,ok,NaN,ok,high,ok,NaN,NaN,NaN,ok,ok,NaN,ok,NaN,NaN,ok,NaN,ok,NaN,high,high,NaN,ok,NaN,ok,ok,NaN,NaN,ok,NaN,ok,ok,NaN,low,ok,NaN,NaN,NaN,NaN,ok,NaN,NaN,ok,NaN,ok,NaN,ok,NaN,NaN,ok,ok,low,high,NaN,NaN,NaN,ok,ok,NaN,NaN,NaN,NaN,NaN,NaN,ok,NaN,NaN,low,low,low,low,NaN,NaN,ok,ok,NaN,high,ok,NaN,NaN,NaN,NaN,NaN,ok,NaN,ok,NaN,NaN,NaN,ok,NaN,ok,NaN,NaN,low,ok,NaN,ok,ok,low,NaN,ok,NaN,NaN,ok,high,ok,ok,low,NaN,low,NaN,ok,high,high,high,NaN,high,low,low,NaN,high,NaN,high,NaN,ok,ok,ok,NaN,ok,high,NaN,NaN,ok,NaN,ok,NaN,NaN,high,ok,NaN,NaN,ok,NaN,ok,ok,NaN,ok,ok,NaN,NaN,ok,ok,high,NaN,ok,NaN,ok,ok,NaN,low,ok,ok,ok,NaN,NaN,ok,low,NaN,ok,NaN,NaN,NaN,NaN,ok,NaN,high,ok,NaN,NaN,high,ok,high,ok,NaN,NaN,ok,ok,ok,NaN,NaN,ok,ok,high,ok,high,NaN,ok,NaN,ok,ok,ok,NaN,ok,NaN,ok,ok,ok,NaN,ok,ok,ok,ok,ok,low,NaN,NaN,ok,high,ok,NaN,high,high,ok,low,low,ok,high,ok,low,ok,ok,ok,NaN,NaN,ok,NaN,NaN,NaN,NaN,ok,ok,high,ok,ok,ok,NaN,NaN,high,NaN,ok,ok,ok,high,low,NaN,ok,ok,ok,NaN,NaN,high,low,NaN,NaN,NaN,NaN,NaN,NaN,NaN,NaN,high,NaN,low,NaN,ok,NaN,NaN,NaN,NaN,ok,NaN,ok,ok,ok,NaN,ok,ok,ok,high,high,ok,low,ok,ok,ok,ok,ok,ok,ok,ok,NaN,NaN,NaN,NaN,NaN,NaN,NaN,NaN,ok,ok,NaN,ok,NaN,ok,NaN,NaN,ok,high,ok,high,ok,ok,NaN,ok,ok,NaN,ok,NaN,NaN,NaN,ok,low,NaN,ok,NaN,ok,low,ok,ok,high,ok,ok,NaN,NaN,low,NaN,low,ok,ok,NaN,ok,ok,ok,NaN,NaN,ok,ok,ok,ok,ok,ok,ok,NaN,high,NaN,high,ok,NaN,NaN,low,ok,NaN,ok,NaN,NaN,NaN,NaN,NaN,NaN,NaN,ok,NaN,low,NaN,ok,NaN,low,high,NaN,NaN,NaN,ok,high,high,NaN,NaN,ok,ok,low,ok,ok,ok,ok,NaN,low,ok,high,ok,NaN,high,ok,ok,ok,ok,ok,NaN,NaN,NaN,NaN,NaN,high,ok,ok,NaN,low,NaN,ok,ok,NaN,ok,low,ok,high,high,NaN,NaN,NaN,high,NaN,ok,ok,ok,NaN,NaN,ok,NaN,low,ok,NaN,NaN,ok,NaN,ok,NaN,ok,ok,ok,NaN,low,NaN,NaN,low,NaN,low,low,NaN,NaN,NaN,NaN,NaN,NaN,ok,high,NaN,ok,NaN,NaN,NaN,NaN,low,ok,NaN,NaN,high,ok,high,NaN,NaN,NaN,NaN,ok,NaN,NaN,low,ok,NaN,low,ok,high,NaN,high,NaN,ok,low,high,ok,ok,NaN,NaN,high,NaN,ok,NaN,ok,ok,NaN,NaN,high,ok,NaN,ok,NaN,NaN,NaN,NaN,NaN,ok,high,ok,NaN,high,NaN,NaN,NaN,ok,NaN,ok,ok,NaN,ok,high,NaN,ok,NaN,low,NaN,NaN,high,NaN,NaN,low,ok,low,NaN,high,ok,ok,NaN,NaN,NaN,ok,NaN,ok,ok,high,low,NaN,ok,ok,NaN,NaN,NaN,NaN,ok,high,ok,ok,ok,NaN,ok,ok,ok,NaN,ok,ok,ok,ok,NaN,ok,ok,ok,ok,ok,ok,NaN,NaN,NaN,NaN,high,NaN,NaN,NaN,ok,NaN,NaN,ok,NaN,ok,NaN,ok,ok,NaN,NaN,high,low,ok,low,NaN,ok,low,NaN,NaN,ok,NaN,ok,NaN,NaN,high,low,NaN,ok,NaN,NaN,NaN,ok,NaN,NaN,NaN,NaN,low,ok,high,high,ok,high,ok,low,low,ok,ok,NaN,ok,NaN,ok,ok,high,ok,NaN,ok,ok,ok,ok,NaN,high,high,high,ok,NaN,high,ok,ok,NaN,NaN,NaN,ok,ok,ok,ok,high,NaN,ok,NaN,ok,NaN,ok,NaN,ok,high,NaN,NaN,ok,NaN,NaN,NaN,ok,NaN,NaN,ok,ok,NaN,NaN,ok,low,NaN,NaN,ok,ok,low,high,NaN,NaN,NaN,NaN,ok,NaN,ok,high,NaN,ok,NaN,ok,NaN,NaN,NaN,ok,ok,NaN,high,ok,ok,NaN,NaN,NaN,ok,high,NaN,NaN,high,NaN,NaN,high,NaN,ok,NaN,NaN,ok,ok,ok,low,ok,ok,high,high,ok,ok,high,ok,NaN,ok,low,ok,NaN,ok,ok,ok,NaN,NaN,ok,ok,NaN,high,ok,ok,NaN,NaN,NaN,NaN,NaN,ok,ok,ok,ok,NaN,NaN,NaN,NaN,ok,ok,NaN,NaN,ok,NaN,NaN,ok,ok,NaN,NaN,ok,high,NaN,ok,ok,NaN,low,NaN,NaN,ok,ok,ok,ok,high,NaN,ok,ok,NaN,ok,NaN,ok,NaN,ok,NaN,NaN,NaN,ok,ok,NaN,NaN,NaN,NaN,ok,NaN,NaN,NaN,high,high,NaN,NaN,NaN,NaN,ok,ok,NaN,NaN,NaN,low,NaN,high,NaN,ok,high,ok,low,NaN,NaN,ok,NaN,ok,NaN,ok,NaN,ok,NaN,ok,low,NaN,ok,high,NaN,ok,ok,ok,low,NaN,low,low,ok,ok,ok,ok,NaN,NaN,NaN,high,NaN,NaN,NaN,ok,NaN,NaN,high,ok,ok,NaN,ok,ok,ok,ok,NaN,NaN,ok,high,NaN,NaN,ok,ok,high,NaN,ok,ok,ok,ok,NaN,NaN,NaN,NaN,ok,NaN,ok,ok,NaN,ok,NaN,NaN,ok,ok,ok,NaN,ok,high,NaN,high,NaN,high,ok,NaN,NaN,ok,NaN,NaN,high,NaN,ok,NaN,NaN,NaN,low,NaN,NaN,ok,ok,ok,NaN,NaN,NaN,ok,NaN,NaN,NaN,NaN,ok,ok,high,NaN,high,NaN,ok,NaN,NaN,NaN,NaN,NaN,NaN,NaN,NaN,ok,ok,ok,ok,ok,ok,NaN,ok,high,low,high,NaN,NaN,NaN,NaN,ok,NaN,ok,NaN,ok,ok,high,low,NaN,high,NaN,low,ok,NaN,NaN,ok,NaN,ok,ok,NaN,NaN,ok,ok,low,high,NaN,NaN,NaN,NaN,low,ok,ok,low,NaN,ok,ok,ok,NaN,NaN,NaN,ok,NaN,ok,ok,NaN,NaN,ok,ok,high,ok,ok,ok,NaN,ok,ok,NaN,NaN,NaN,NaN,ok,NaN,NaN,ok,low,ok,NaN,NaN,NaN,high,ok,NaN,NaN,NaN,high,ok,NaN,ok,NaN,NaN,ok,ok,ok,ok,ok,ok,NaN,NaN,high,NaN,ok,ok,high,low,ok,NaN,ok,ok,NaN,NaN,ok,ok,NaN,ok,NaN,high,NaN,low,NaN,NaN,low,ok,ok,ok,ok,NaN,ok,NaN,ok,ok,NaN,high,ok,NaN,ok,ok,NaN,ok,ok,ok,high,high,ok,ok,ok,NaN,low,NaN,ok,NaN,NaN,NaN,low,NaN,NaN,NaN,NaN,ok,NaN,high,NaN,NaN,NaN,ok,high,ok,ok,NaN,ok,ok,ok,high,NaN,NaN,ok,NaN,NaN,NaN,NaN,high,NaN,low,NaN,ok,NaN,NaN,NaN,ok,low,NaN,low,NaN,ok,ok,low,NaN,ok,ok,ok,ok,NaN,NaN,high,NaN,low,NaN,ok,ok,ok,ok,ok,ok,ok,ok,ok,NaN,NaN,NaN,NaN,ok,NaN,high,NaN,ok,ok,NaN,ok,high,ok,NaN,ok,high,NaN,high,ok,ok,NaN,NaN,NaN,ok,high,high,ok,NaN,NaN,low,NaN,ok,ok,ok,ok,ok,NaN,NaN,ok,ok,NaN,NaN,ok,NaN,ok,high,NaN,ok,low,ok,high,high,ok,ok,NaN,ok,NaN,ok,low,ok,NaN,ok,NaN,NaN,high,ok,NaN,NaN,NaN,high,ok,NaN,ok,NaN,ok,high,high,NaN,high,ok,NaN,NaN,ok,NaN,low,low,low,high,NaN,NaN,NaN,ok,NaN,NaN,high,NaN,high,ok,ok,NaN,NaN,NaN,ok,NaN,high,ok,ok,NaN,NaN,low,NaN,ok,ok,ok,ok,high,high,NaN,ok,NaN,ok,low,NaN,NaN,NaN,NaN,ok,"
     ]
    }
   ],
   "source": [
    "hdl_result=[]\n",
    "for test_i in hdl_pred_test_bottle:\n",
    "    o1=generate_similarity( test_i, hdl_search_list)\n",
    "    result,_=find_max(statistic(o1))\n",
    "    if result==\"\":\n",
    "        result=\"NaN\"\n",
    "    print(result,end=\",\")\n",
    "    hdl_result.append(result)"
   ]
  },
  {
   "cell_type": "code",
   "execution_count": null,
   "metadata": {},
   "outputs": [],
   "source": []
  },
  {
   "cell_type": "code",
   "execution_count": 233,
   "metadata": {},
   "outputs": [],
   "source": [
    "outdf=pd.DataFrame()\n",
    "outdf[\"Reading_ID\"]=test_df[\"Reading_ID\"]\n",
    "outdf[\"hemoglobin(hgb)_human\"]=hemo_result\n",
    "outdf[\"cholesterol_ldl_human\"]=col_result\n",
    "outdf[\"hdl_cholesterol_human\"]=hdl_result\n",
    "\n",
    "outdf.set_index(\"Reading_ID\",inplace=True)"
   ]
  },
  {
   "cell_type": "code",
   "execution_count": 234,
   "metadata": {},
   "outputs": [
    {
     "data": {
      "text/html": [
       "<div>\n",
       "<style scoped>\n",
       "    .dataframe tbody tr th:only-of-type {\n",
       "        vertical-align: middle;\n",
       "    }\n",
       "\n",
       "    .dataframe tbody tr th {\n",
       "        vertical-align: top;\n",
       "    }\n",
       "\n",
       "    .dataframe thead th {\n",
       "        text-align: right;\n",
       "    }\n",
       "</style>\n",
       "<table border=\"1\" class=\"dataframe\">\n",
       "  <thead>\n",
       "    <tr style=\"text-align: right;\">\n",
       "      <th></th>\n",
       "      <th>hemoglobin(hgb)_human</th>\n",
       "      <th>cholesterol_ldl_human</th>\n",
       "      <th>hdl_cholesterol_human</th>\n",
       "    </tr>\n",
       "    <tr>\n",
       "      <th>Reading_ID</th>\n",
       "      <th></th>\n",
       "      <th></th>\n",
       "      <th></th>\n",
       "    </tr>\n",
       "  </thead>\n",
       "  <tbody>\n",
       "    <tr>\n",
       "      <th>ID_37BEI22R</th>\n",
       "      <td>NaN</td>\n",
       "      <td>NaN</td>\n",
       "      <td>NaN</td>\n",
       "    </tr>\n",
       "    <tr>\n",
       "      <th>ID_4W85V5DV</th>\n",
       "      <td>NaN</td>\n",
       "      <td>ok</td>\n",
       "      <td>ok</td>\n",
       "    </tr>\n",
       "    <tr>\n",
       "      <th>ID_L4YR3NDY</th>\n",
       "      <td>NaN</td>\n",
       "      <td>NaN</td>\n",
       "      <td>NaN</td>\n",
       "    </tr>\n",
       "    <tr>\n",
       "      <th>ID_U88E3SQ6</th>\n",
       "      <td>NaN</td>\n",
       "      <td>NaN</td>\n",
       "      <td>NaN</td>\n",
       "    </tr>\n",
       "    <tr>\n",
       "      <th>ID_NW7Z3XU7</th>\n",
       "      <td>NaN</td>\n",
       "      <td>NaN</td>\n",
       "      <td>ok</td>\n",
       "    </tr>\n",
       "    <tr>\n",
       "      <th>ID_W3SBFMVX</th>\n",
       "      <td>NaN</td>\n",
       "      <td>ok</td>\n",
       "      <td>ok</td>\n",
       "    </tr>\n",
       "    <tr>\n",
       "      <th>ID_27P6YL52</th>\n",
       "      <td>ok</td>\n",
       "      <td>ok</td>\n",
       "      <td>ok</td>\n",
       "    </tr>\n",
       "    <tr>\n",
       "      <th>ID_6VJ41WZC</th>\n",
       "      <td>NaN</td>\n",
       "      <td>NaN</td>\n",
       "      <td>NaN</td>\n",
       "    </tr>\n",
       "    <tr>\n",
       "      <th>ID_S0ISRB3K</th>\n",
       "      <td>NaN</td>\n",
       "      <td>low</td>\n",
       "      <td>ok</td>\n",
       "    </tr>\n",
       "    <tr>\n",
       "      <th>ID_T15C0RM6</th>\n",
       "      <td>NaN</td>\n",
       "      <td>high</td>\n",
       "      <td>NaN</td>\n",
       "    </tr>\n",
       "    <tr>\n",
       "      <th>ID_59OU0Z4D</th>\n",
       "      <td>NaN</td>\n",
       "      <td>NaN</td>\n",
       "      <td>NaN</td>\n",
       "    </tr>\n",
       "    <tr>\n",
       "      <th>ID_03NACR1R</th>\n",
       "      <td>NaN</td>\n",
       "      <td>NaN</td>\n",
       "      <td>NaN</td>\n",
       "    </tr>\n",
       "    <tr>\n",
       "      <th>ID_R3NIN1EO</th>\n",
       "      <td>NaN</td>\n",
       "      <td>NaN</td>\n",
       "      <td>NaN</td>\n",
       "    </tr>\n",
       "    <tr>\n",
       "      <th>ID_P74O71QB</th>\n",
       "      <td>NaN</td>\n",
       "      <td>NaN</td>\n",
       "      <td>NaN</td>\n",
       "    </tr>\n",
       "    <tr>\n",
       "      <th>ID_1C17VQK0</th>\n",
       "      <td>ok</td>\n",
       "      <td>high</td>\n",
       "      <td>low</td>\n",
       "    </tr>\n",
       "    <tr>\n",
       "      <th>ID_CKNMMKIG</th>\n",
       "      <td>ok</td>\n",
       "      <td>ok</td>\n",
       "      <td>low</td>\n",
       "    </tr>\n",
       "    <tr>\n",
       "      <th>ID_UDLN7D0Z</th>\n",
       "      <td>NaN</td>\n",
       "      <td>NaN</td>\n",
       "      <td>NaN</td>\n",
       "    </tr>\n",
       "    <tr>\n",
       "      <th>ID_HWU1M3UO</th>\n",
       "      <td>NaN</td>\n",
       "      <td>NaN</td>\n",
       "      <td>NaN</td>\n",
       "    </tr>\n",
       "    <tr>\n",
       "      <th>ID_0PVFMGRP</th>\n",
       "      <td>ok</td>\n",
       "      <td>high</td>\n",
       "      <td>ok</td>\n",
       "    </tr>\n",
       "    <tr>\n",
       "      <th>ID_YCMXOICB</th>\n",
       "      <td>ok</td>\n",
       "      <td>ok</td>\n",
       "      <td>ok</td>\n",
       "    </tr>\n",
       "    <tr>\n",
       "      <th>ID_UGH0JEOZ</th>\n",
       "      <td>NaN</td>\n",
       "      <td>ok</td>\n",
       "      <td>ok</td>\n",
       "    </tr>\n",
       "    <tr>\n",
       "      <th>ID_C59VEQX7</th>\n",
       "      <td>NaN</td>\n",
       "      <td>ok</td>\n",
       "      <td>NaN</td>\n",
       "    </tr>\n",
       "    <tr>\n",
       "      <th>ID_QCHM1T4U</th>\n",
       "      <td>ok</td>\n",
       "      <td>ok</td>\n",
       "      <td>ok</td>\n",
       "    </tr>\n",
       "    <tr>\n",
       "      <th>ID_HNIMEJJG</th>\n",
       "      <td>NaN</td>\n",
       "      <td>NaN</td>\n",
       "      <td>NaN</td>\n",
       "    </tr>\n",
       "    <tr>\n",
       "      <th>ID_BTDHLWHL</th>\n",
       "      <td>NaN</td>\n",
       "      <td>NaN</td>\n",
       "      <td>NaN</td>\n",
       "    </tr>\n",
       "    <tr>\n",
       "      <th>ID_2WBNSMFL</th>\n",
       "      <td>ok</td>\n",
       "      <td>high</td>\n",
       "      <td>high</td>\n",
       "    </tr>\n",
       "    <tr>\n",
       "      <th>ID_IOQPIXZQ</th>\n",
       "      <td>NaN</td>\n",
       "      <td>NaN</td>\n",
       "      <td>NaN</td>\n",
       "    </tr>\n",
       "    <tr>\n",
       "      <th>ID_CFFP5WI7</th>\n",
       "      <td>ok</td>\n",
       "      <td>ok</td>\n",
       "      <td>ok</td>\n",
       "    </tr>\n",
       "    <tr>\n",
       "      <th>ID_I7TOPNV3</th>\n",
       "      <td>NaN</td>\n",
       "      <td>ok</td>\n",
       "      <td>ok</td>\n",
       "    </tr>\n",
       "    <tr>\n",
       "      <th>ID_ZKLBPEKY</th>\n",
       "      <td>NaN</td>\n",
       "      <td>NaN</td>\n",
       "      <td>NaN</td>\n",
       "    </tr>\n",
       "    <tr>\n",
       "      <th>ID_2JQ25RTV</th>\n",
       "      <td>ok</td>\n",
       "      <td>high</td>\n",
       "      <td>ok</td>\n",
       "    </tr>\n",
       "    <tr>\n",
       "      <th>ID_PPYLL2VE</th>\n",
       "      <td>NaN</td>\n",
       "      <td>high</td>\n",
       "      <td>low</td>\n",
       "    </tr>\n",
       "    <tr>\n",
       "      <th>ID_TXBIUA4Z</th>\n",
       "      <td>ok</td>\n",
       "      <td>high</td>\n",
       "      <td>ok</td>\n",
       "    </tr>\n",
       "  </tbody>\n",
       "</table>\n",
       "</div>"
      ],
      "text/plain": [
       "            hemoglobin(hgb)_human cholesterol_ldl_human hdl_cholesterol_human\n",
       "Reading_ID                                                                   \n",
       "ID_37BEI22R                   NaN                   NaN                   NaN\n",
       "ID_4W85V5DV                   NaN                    ok                    ok\n",
       "ID_L4YR3NDY                   NaN                   NaN                   NaN\n",
       "ID_U88E3SQ6                   NaN                   NaN                   NaN\n",
       "ID_NW7Z3XU7                   NaN                   NaN                    ok\n",
       "ID_W3SBFMVX                   NaN                    ok                    ok\n",
       "ID_27P6YL52                    ok                    ok                    ok\n",
       "ID_6VJ41WZC                   NaN                   NaN                   NaN\n",
       "ID_S0ISRB3K                   NaN                   low                    ok\n",
       "ID_T15C0RM6                   NaN                  high                   NaN\n",
       "ID_59OU0Z4D                   NaN                   NaN                   NaN\n",
       "ID_03NACR1R                   NaN                   NaN                   NaN\n",
       "ID_R3NIN1EO                   NaN                   NaN                   NaN\n",
       "ID_P74O71QB                   NaN                   NaN                   NaN\n",
       "ID_1C17VQK0                    ok                  high                   low\n",
       "ID_CKNMMKIG                    ok                    ok                   low\n",
       "ID_UDLN7D0Z                   NaN                   NaN                   NaN\n",
       "ID_HWU1M3UO                   NaN                   NaN                   NaN\n",
       "ID_0PVFMGRP                    ok                  high                    ok\n",
       "ID_YCMXOICB                    ok                    ok                    ok\n",
       "ID_UGH0JEOZ                   NaN                    ok                    ok\n",
       "ID_C59VEQX7                   NaN                    ok                   NaN\n",
       "ID_QCHM1T4U                    ok                    ok                    ok\n",
       "ID_HNIMEJJG                   NaN                   NaN                   NaN\n",
       "ID_BTDHLWHL                   NaN                   NaN                   NaN\n",
       "ID_2WBNSMFL                    ok                  high                  high\n",
       "ID_IOQPIXZQ                   NaN                   NaN                   NaN\n",
       "ID_CFFP5WI7                    ok                    ok                    ok\n",
       "ID_I7TOPNV3                   NaN                    ok                    ok\n",
       "ID_ZKLBPEKY                   NaN                   NaN                   NaN\n",
       "ID_2JQ25RTV                    ok                  high                    ok\n",
       "ID_PPYLL2VE                   NaN                  high                   low\n",
       "ID_TXBIUA4Z                    ok                  high                    ok"
      ]
     },
     "execution_count": 234,
     "metadata": {},
     "output_type": "execute_result"
    }
   ],
   "source": [
    "outdf.head(33)"
   ]
  },
  {
   "cell_type": "code",
   "execution_count": 235,
   "metadata": {},
   "outputs": [
    {
     "name": "stdout",
     "output_type": "stream",
     "text": [
      "--2021-11-30 23:04:11--  https://github.com/sipocz/Blood/raw/9326effc5771a0f4cbeef5d97e329c986c9ba9dd/orig/SampleSubmission.csv\n",
      "Resolving github.com (github.com)... 140.82.121.4\n",
      "Connecting to github.com (github.com)|140.82.121.4|:443... connected.\n",
      "HTTP request sent, awaiting response... 302 Found\n",
      "Location: https://raw.githubusercontent.com/sipocz/Blood/9326effc5771a0f4cbeef5d97e329c986c9ba9dd/orig/SampleSubmission.csv [following]\n",
      "--2021-11-30 23:04:11--  https://raw.githubusercontent.com/sipocz/Blood/9326effc5771a0f4cbeef5d97e329c986c9ba9dd/orig/SampleSubmission.csv\n",
      "Resolving raw.githubusercontent.com (raw.githubusercontent.com)... 185.199.108.133, 185.199.109.133, 185.199.110.133, ...\n",
      "Connecting to raw.githubusercontent.com (raw.githubusercontent.com)|185.199.108.133|:443... connected.\n",
      "HTTP request sent, awaiting response... 200 OK\n",
      "Length: 384318 (375K) [text/plain]\n",
      "Saving to: ‘SampleSubmission.csv’\n",
      "\n",
      "SampleSubmission.cs 100%[===================>] 375,31K  --.-KB/s    in 0,1s    \n",
      "\n",
      "2021-11-30 23:04:12 (3,70 MB/s) - ‘SampleSubmission.csv’ saved [384318/384318]\n",
      "\n"
     ]
    }
   ],
   "source": [
    "!rm SampleSubmission.csv\n",
    "!wget https://github.com/sipocz/Blood/raw/9326effc5771a0f4cbeef5d97e329c986c9ba9dd/orig/SampleSubmission.csv"
   ]
  },
  {
   "cell_type": "code",
   "execution_count": 236,
   "metadata": {},
   "outputs": [],
   "source": [
    "submission_df=pd.read_csv(\"./SampleSubmission.csv\")"
   ]
  },
  {
   "cell_type": "code",
   "execution_count": 237,
   "metadata": {},
   "outputs": [],
   "source": [
    "for i in submission_df.index:\n",
    "    #print(i)\n",
    "    indexer=submission_df.loc[i,\"Reading_ID\"]\n",
    "\n",
    "    splitter=indexer.split(\"_\",2)\n",
    "    out_index=splitter[0]+\"_\"+splitter[1]\n",
    "    col_index=splitter[2]\n",
    "    #print(out_index)\n",
    "    result=outdf.loc[out_index][col_index]\n",
    "    submission_df.iloc[i,1]=result"
   ]
  },
  {
   "cell_type": "code",
   "execution_count": 238,
   "metadata": {},
   "outputs": [],
   "source": [
    "submission_df.set_index(\"Reading_ID\", inplace=True)"
   ]
  },
  {
   "cell_type": "code",
   "execution_count": 239,
   "metadata": {},
   "outputs": [],
   "source": [
    "def create_submission_name(project):\n",
    "    from datetime  import datetime\n",
    "    strdate=datetime.now().strftime(\"%Y%m%d_%H%M%S\")\n",
    "    out=project+\"_\"+\"submission\"+\"_\"+strdate+\".csv\"\n",
    "    return(out)"
   ]
  },
  {
   "cell_type": "code",
   "execution_count": 240,
   "metadata": {},
   "outputs": [],
   "source": [
    "submission_fname=create_submission_name(\"BloodAI\")"
   ]
  },
  {
   "cell_type": "code",
   "execution_count": 241,
   "metadata": {},
   "outputs": [
    {
     "data": {
      "text/plain": [
       "'BloodAI_submission_20211130_230422.csv'"
      ]
     },
     "execution_count": 241,
     "metadata": {},
     "output_type": "execute_result"
    }
   ],
   "source": [
    "submission_fname"
   ]
  },
  {
   "cell_type": "code",
   "execution_count": 242,
   "metadata": {},
   "outputs": [],
   "source": [
    "submission_df.to_csv(submission_fname,index=True)"
   ]
  },
  {
   "cell_type": "code",
   "execution_count": 243,
   "metadata": {},
   "outputs": [
    {
     "name": "stdout",
     "output_type": "stream",
     "text": [
      "Reading_ID,target\n",
      "ID_00902R9H_hdl_cholesterol_human,NaN\n",
      "ID_00902R9H_hemoglobin(hgb)_human,NaN\n",
      "ID_00902R9H_cholesterol_ldl_human,NaN\n",
      "ID_00FQS7AO_hdl_cholesterol_human,high\n",
      "ID_00FQS7AO_hemoglobin(hgb)_human,NaN\n",
      "ID_00FQS7AO_cholesterol_ldl_human,NaN\n",
      "ID_00QJTIBO_hdl_cholesterol_human,NaN\n",
      "ID_00QJTIBO_hemoglobin(hgb)_human,NaN\n",
      "ID_00QJTIBO_cholesterol_ldl_human,NaN\n"
     ]
    }
   ],
   "source": [
    "!head $submission_fname"
   ]
  },
  {
   "cell_type": "code",
   "execution_count": null,
   "metadata": {},
   "outputs": [],
   "source": []
  }
 ],
 "metadata": {
  "accelerator": "GPU",
  "colab": {
   "authorship_tag": "ABX9TyNg8Y2GAZ9aQBWadQs623Hy",
   "collapsed_sections": [],
   "history_visible": true,
   "include_colab_link": true,
   "name": "Blood_AI.ipynb",
   "provenance": []
  },
  "kernelspec": {
   "display_name": "Python 3",
   "language": "python",
   "name": "python3"
  },
  "language_info": {
   "codemirror_mode": {
    "name": "ipython",
    "version": 3
   },
   "file_extension": ".py",
   "mimetype": "text/x-python",
   "name": "python",
   "nbconvert_exporter": "python",
   "pygments_lexer": "ipython3",
   "version": "3.8.10"
  }
 },
 "nbformat": 4,
 "nbformat_minor": 4
}
