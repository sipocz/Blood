{
  "nbformat": 4,
  "nbformat_minor": 0,
  "metadata": {
    "colab": {
      "name": "status_statistics.ipynb",
      "provenance": [],
      "authorship_tag": "ABX9TyMHj6Vm9VJdM6gZIUr2Jtds",
      "include_colab_link": true
    },
    "kernelspec": {
      "name": "python3",
      "display_name": "Python 3"
    },
    "language_info": {
      "name": "python"
    }
  },
  "cells": [
    {
      "cell_type": "markdown",
      "metadata": {
        "id": "view-in-github",
        "colab_type": "text"
      },
      "source": [
        "<a href=\"https://colab.research.google.com/github/sipocz/Blood/blob/main/status_statistics.ipynb\" target=\"_parent\"><img src=\"https://colab.research.google.com/assets/colab-badge.svg\" alt=\"Open In Colab\"/></a>"
      ]
    },
    {
      "cell_type": "code",
      "metadata": {
        "id": "WPe7zyJpX4l6"
      },
      "source": [
        "a=[\"low\",\"high\",\"ok\",\"ok\",\"low\",\"high\",\"ok\",\"ok\",\"low\",\"high\",\"ok\",\"ok\",\"low\",\"high\",\"low\",\"high\",\"low\",\"high\"]"
      ],
      "execution_count": 13,
      "outputs": []
    },
    {
      "cell_type": "code",
      "metadata": {
        "id": "mKFiPAW4cspM"
      },
      "source": [
        "def statistic(a):\n",
        "    c=list(set(a))\n",
        "    print(c)\n",
        "    out={}\n",
        "    for i in c:\n",
        "        out[i]=a.count(i)\n",
        "    return(out)"
      ],
      "execution_count": 14,
      "outputs": []
    },
    {
      "cell_type": "code",
      "metadata": {
        "colab": {
          "base_uri": "https://localhost:8080/"
        },
        "id": "rsUuel7lgTg0",
        "outputId": "9dc40200-4bbc-4e4a-aa84-c93ffebe9b74"
      },
      "source": [
        "stat=statistic(a)"
      ],
      "execution_count": 18,
      "outputs": [
        {
          "output_type": "stream",
          "name": "stdout",
          "text": [
            "['ok', 'low', 'high']\n"
          ]
        }
      ]
    },
    {
      "cell_type": "code",
      "metadata": {
        "colab": {
          "base_uri": "https://localhost:8080/"
        },
        "id": "G7wzYQMDIcoE",
        "outputId": "caaa849e-d191-4ff0-c2a9-8e2ec3577c73"
      },
      "source": [
        "stat"
      ],
      "execution_count": 19,
      "outputs": [
        {
          "output_type": "execute_result",
          "data": {
            "text/plain": [
              "{'high': 6, 'low': 6, 'ok': 6}"
            ]
          },
          "metadata": {},
          "execution_count": 19
        }
      ]
    },
    {
      "cell_type": "code",
      "metadata": {
        "id": "_sJnV3WuhJk3"
      },
      "source": [
        "def find_max(dict):\n",
        "    max=0\n",
        "    sum=0\n",
        "    outkey=\"\"\n",
        "    for key in dict.keys():\n",
        "        akt=dict[key]\n",
        "        sum+=akt\n",
        "        if max<akt:\n",
        "            max=akt\n",
        "            outkey=key\n",
        "    return outkey,max,max/sum    "
      ],
      "execution_count": 16,
      "outputs": []
    },
    {
      "cell_type": "code",
      "metadata": {
        "colab": {
          "base_uri": "https://localhost:8080/"
        },
        "id": "l5ITc3qHHqQ7",
        "outputId": "873b1816-eb29-4e46-f0fb-652c056dfd98"
      },
      "source": [
        "find_max(stat)"
      ],
      "execution_count": 17,
      "outputs": [
        {
          "output_type": "execute_result",
          "data": {
            "text/plain": [
              "('ok', 6, 0.3333333333333333)"
            ]
          },
          "metadata": {},
          "execution_count": 17
        }
      ]
    }
  ]
}